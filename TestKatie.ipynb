{
 "cells": [
  {
   "cell_type": "code",
   "execution_count": 3,
   "metadata": {},
   "outputs": [
    {
     "name": "stderr",
     "output_type": "stream",
     "text": [
      "/home/mpound/anaconda3/lib/python3.7/site-packages/astropy/table/column.py:984: FutureWarning: elementwise comparison failed; returning scalar instead, but in the future will perform elementwise comparison\n",
      "  result = getattr(super(), op)(other)\n"
     ]
    }
   ],
   "source": [
    "import sys\n",
    "#dlap=\"/home/mpound/src/pdrtpy\"\n",
    "d=\"/lupus2/mpound/\"\n",
    "sys.path.insert(0, d)\n",
    "\n",
    "#sys.path.insert(0,dlap)\n",
    "import numpy as np\n",
    "import numpy.ma as ma\n",
    "import scipy.stats as stats\n",
    "\n",
    "from astropy.io import fits\n",
    "from astropy.io import registry\n",
    "import astropy.wcs as wcs\n",
    "import astropy.units as u\n",
    "from astropy.table import Table\n",
    "from astropy.nddata import NDDataArray, CCDData, NDUncertainty, StdDevUncertainty, VarianceUncertainty, InverseVariance\n",
    "from astropy.visualization import simple_norm, ZScaleInterval , ImageNormalize\n",
    "from astropy.visualization.stretch import SinhStretch,  LinearStretch\n",
    "\n",
    "import matplotlib.pyplot as plt\n",
    "import matplotlib.cm as mcm\n",
    "import matplotlib.colors as mpcolors\n",
    "from matplotlib import ticker\n",
    "from matplotlib.lines import Line2D\n",
    "from pdrtpy.lineratiofit import LineRatioFit\n",
    "from pdrtpy.measurement import Measurement\n",
    "\n",
    "plt.rcParams[\"figure.figsize\"] = (10,5)\n",
    "plt.rcParams[\"figure.dpi\"] = 300\n",
    "#import sys\n",
    "#np.set_printoptions(threshold=sys.maxsize)\n"
   ]
  },
  {
   "cell_type": "code",
   "execution_count": 4,
   "metadata": {},
   "outputs": [],
   "source": [
    "dir=\"/home/mpound/Dropbox/PDRmodels/\"\n",
    "cii_flux_file=dir+\"n22_cii_convol_mips70.fits\"\n",
    "cii_err_file=dir+\"n22_cii_err_convol_mips70.fits\"\n",
    "cii_combined_file=\"n22_cii_flux_error.fits\"\n",
    "oi_flux_file=dir+\"n22_oi_regrid_convol_mips70.fits\"\n",
    "oi_combined_file=\"n22_oi_flux_error.fits\"\n",
    "oi_err_file=dir+\"n22_oi_err_regrid_convol_mips70.fits\"\n",
    "TIR_flux_file=dir+\"n22_TIR.fits\"\n",
    "TIR_combined_file=\"n22_TIR__flux_error.fits\"\n"
   ]
  },
  {
   "cell_type": "code",
   "execution_count": 5,
   "metadata": {},
   "outputs": [
    {
     "name": "stderr",
     "output_type": "stream",
     "text": [
      "WARNING: VerifyWarning: Invalid 'BLANK' keyword in header.  The 'BLANK' keyword is only applicable to integer data, and will be ignored in this HDU. [astropy.io.fits.hdu.image]\n"
     ]
    },
    {
     "name": "stdout",
     "output_type": "stream",
     "text": [
      "(139, 81)\n",
      "(139, 81)\n",
      "(139, 81)\n"
     ]
    }
   ],
   "source": [
    "Measurement.makemeasurement(cii_flux_file,cii_err_file,cii_combined_file)\n",
    "Measurement.makemeasurement(oi_flux_file,oi_err_file,oi_combined_file)\n",
    "#Measurement.makemeasurement(TIR_flux_file,errorfile='rms',outfile=TIR_combined_file,rms=3E-6)\n",
    "Measurement.makemeasurement(TIR_flux_file,error='10%',outfile=TIR_combined_file)"
   ]
  },
  {
   "cell_type": "code",
   "execution_count": 6,
   "metadata": {},
   "outputs": [
    {
     "name": "stderr",
     "output_type": "stream",
     "text": [
      "WARNING: UnitsWarning: 'W/m2/sr' contains multiple slashes, which is discouraged by the FITS standard [astropy.units.format.generic]\n"
     ]
    }
   ],
   "source": [
    "m1 = Measurement.read(cii_combined_file,identifier=\"CII_158\")\n",
    "m2 = Measurement.read(TIR_combined_file,identifier=\"FIR\")\n",
    "m3 = Measurement.read(oi_combined_file,identifier=\"OI_63\")"
   ]
  },
  {
   "cell_type": "code",
   "execution_count": 7,
   "metadata": {},
   "outputs": [],
   "source": [
    "m3.write(\"junk.fits\",overwrite=True)\n",
    "m22 = Measurement(data=10.,uncertainty = StdDevUncertainty(2.),identifier=\"CI_609\",unit=\"adu\")\n",
    "m22.write(\"junk.fits\",overwrite=True)"
   ]
  },
  {
   "cell_type": "code",
   "execution_count": 11,
   "metadata": {},
   "outputs": [],
   "source": [
    "p = LineRatioFit(d+\"pdrtpy/current_models.tab\",measurements = [m3,m2,m1])\n",
    "psmc = LineRatioFit(d+\"pdrtpy/smc_models.tab\",measurements = [m3,m2,m1])\n",
    "pk = LineRatioFit(d+\"pdrtpy/kosmatau_models.tab\",measurements = [m3,m2,m1])\n",
    "#print(\"Files\")\n",
    "#for x in p.find_files(p.measurementIDs): print(x)\n",
    "#print(\"Pairs\")\n",
    "#for x in p.find_pairs(p.measurementIDs): print(x)\n",
    "#p.ratiocount"
   ]
  },
  {
   "cell_type": "code",
   "execution_count": 12,
   "metadata": {},
   "outputs": [
    {
     "name": "stdout",
     "output_type": "stream",
     "text": [
      "6.758856e-08 1.0890726386345434e-05 1.6821105e-08\n",
      "1.3707998e-09 1.0890726386345434e-06 3.3952883e-09\n",
      "1.3940442e-07 1.75674209964662e-05 6.523444e-08\n",
      "1.8292737e-09 1.75674209964662e-06 3.406907e-09\n"
     ]
    }
   ],
   "source": [
    "print(m1[75,40],m2[75,40],m3[75,40])\n",
    "print(m1.error[75,40],m2.error[75,40],m3.error[75,40])\n",
    "print(m1[115,25],m2[115,25],m3[115,25])\n",
    "print(m1.error[115,25],m2.error[115,25],m3.error[115,25])"
   ]
  },
  {
   "cell_type": "code",
   "execution_count": 15,
   "metadata": {},
   "outputs": [
    {
     "name": "stdout",
     "output_type": "stream",
     "text": [
      "OI_63+CII_158/FIR\n",
      "OI_63+CII_158/FIR\n"
     ]
    },
    {
     "ename": "FileNotFoundError",
     "evalue": "[Errno 2] No such file or directory: '/lupus2/mpound/pdrtpy/models/oicpwebkosmatau.fits'",
     "output_type": "error",
     "traceback": [
      "\u001b[0;31m---------------------------------------------------------------------------\u001b[0m",
      "\u001b[0;31mFileNotFoundError\u001b[0m                         Traceback (most recent call last)",
      "\u001b[0;32m<ipython-input-15-6085f61a607c>\u001b[0m in \u001b[0;36m<module>\u001b[0;34m\u001b[0m\n\u001b[1;32m      5\u001b[0m \u001b[0mpsmc\u001b[0m\u001b[0;34m.\u001b[0m\u001b[0mcomputeValidRatios\u001b[0m\u001b[0;34m(\u001b[0m\u001b[0;34m)\u001b[0m\u001b[0;34m\u001b[0m\u001b[0;34m\u001b[0m\u001b[0m\n\u001b[1;32m      6\u001b[0m \u001b[0mpsmc\u001b[0m\u001b[0;34m.\u001b[0m\u001b[0m_check_ratio_shapes\u001b[0m\u001b[0;34m(\u001b[0m\u001b[0;34m)\u001b[0m\u001b[0;34m\u001b[0m\u001b[0;34m\u001b[0m\u001b[0m\n\u001b[0;32m----> 7\u001b[0;31m \u001b[0mpk\u001b[0m\u001b[0;34m.\u001b[0m\u001b[0mread_models\u001b[0m\u001b[0;34m(\u001b[0m\u001b[0munit\u001b[0m\u001b[0;34m=\u001b[0m\u001b[0;34m'adu'\u001b[0m\u001b[0;34m)\u001b[0m\u001b[0;34m\u001b[0m\u001b[0;34m\u001b[0m\u001b[0m\n\u001b[0m\u001b[1;32m      8\u001b[0m \u001b[0mpk\u001b[0m\u001b[0;34m.\u001b[0m\u001b[0mcomputeValidRatios\u001b[0m\u001b[0;34m(\u001b[0m\u001b[0;34m)\u001b[0m\u001b[0;34m\u001b[0m\u001b[0;34m\u001b[0m\u001b[0m\n\u001b[1;32m      9\u001b[0m \u001b[0mpk\u001b[0m\u001b[0;34m.\u001b[0m\u001b[0m_check_ratio_shapes\u001b[0m\u001b[0;34m(\u001b[0m\u001b[0;34m)\u001b[0m\u001b[0;34m\u001b[0m\u001b[0;34m\u001b[0m\u001b[0m\n",
      "\u001b[0;32m/lupus2/mpound/pdrtpy/lineratiofit.py\u001b[0m in \u001b[0;36mread_models\u001b[0;34m(self, unit)\u001b[0m\n\u001b[1;32m    217\u001b[0m         \u001b[0;32mfor\u001b[0m \u001b[0;34m(\u001b[0m\u001b[0mk\u001b[0m\u001b[0;34m,\u001b[0m\u001b[0mp\u001b[0m\u001b[0;34m)\u001b[0m \u001b[0;32min\u001b[0m \u001b[0mself\u001b[0m\u001b[0;34m.\u001b[0m\u001b[0mfind_files\u001b[0m\u001b[0;34m(\u001b[0m\u001b[0mself\u001b[0m\u001b[0;34m.\u001b[0m\u001b[0mmeasurementIDs\u001b[0m\u001b[0;34m)\u001b[0m\u001b[0;34m:\u001b[0m\u001b[0;34m\u001b[0m\u001b[0;34m\u001b[0m\u001b[0m\n\u001b[1;32m    218\u001b[0m             \u001b[0mthefile\u001b[0m \u001b[0;34m=\u001b[0m \u001b[0md\u001b[0m\u001b[0;34m+\u001b[0m\u001b[0mp\u001b[0m\u001b[0;34m\u001b[0m\u001b[0;34m\u001b[0m\u001b[0m\n\u001b[0;32m--> 219\u001b[0;31m             \u001b[0mself\u001b[0m\u001b[0;34m.\u001b[0m\u001b[0m_modelratios\u001b[0m\u001b[0;34m[\u001b[0m\u001b[0mk\u001b[0m\u001b[0;34m]\u001b[0m \u001b[0;34m=\u001b[0m \u001b[0mCCDData\u001b[0m\u001b[0;34m.\u001b[0m\u001b[0mread\u001b[0m\u001b[0;34m(\u001b[0m\u001b[0mthefile\u001b[0m\u001b[0;34m,\u001b[0m\u001b[0munit\u001b[0m\u001b[0;34m=\u001b[0m\u001b[0munit\u001b[0m\u001b[0;34m)\u001b[0m\u001b[0;34m\u001b[0m\u001b[0;34m\u001b[0m\u001b[0m\n\u001b[0m\u001b[1;32m    220\u001b[0m             \u001b[0;32mif\u001b[0m \u001b[0;32mTrue\u001b[0m\u001b[0;34m:\u001b[0m\u001b[0;34m\u001b[0m\u001b[0;34m\u001b[0m\u001b[0m\n\u001b[1;32m    221\u001b[0m                 \u001b[0mself\u001b[0m\u001b[0;34m.\u001b[0m\u001b[0m_modelratios\u001b[0m\u001b[0;34m[\u001b[0m\u001b[0mk\u001b[0m\u001b[0;34m]\u001b[0m\u001b[0;34m.\u001b[0m\u001b[0mheader\u001b[0m\u001b[0;34m[\u001b[0m\u001b[0;34m\"CUNIT1\"\u001b[0m\u001b[0;34m]\u001b[0m \u001b[0;34m=\u001b[0m \u001b[0;34m\"cm-3\"\u001b[0m\u001b[0;34m\u001b[0m\u001b[0;34m\u001b[0m\u001b[0m\n",
      "\u001b[0;32m~/anaconda3/lib/python3.7/site-packages/astropy/nddata/mixins/ndio.py\u001b[0m in \u001b[0;36m__call__\u001b[0;34m(self, *args, **kwargs)\u001b[0m\n\u001b[1;32m     52\u001b[0m \u001b[0;34m\u001b[0m\u001b[0m\n\u001b[1;32m     53\u001b[0m     \u001b[0;32mdef\u001b[0m \u001b[0m__call__\u001b[0m\u001b[0;34m(\u001b[0m\u001b[0mself\u001b[0m\u001b[0;34m,\u001b[0m \u001b[0;34m*\u001b[0m\u001b[0margs\u001b[0m\u001b[0;34m,\u001b[0m \u001b[0;34m**\u001b[0m\u001b[0mkwargs\u001b[0m\u001b[0;34m)\u001b[0m\u001b[0;34m:\u001b[0m\u001b[0;34m\u001b[0m\u001b[0;34m\u001b[0m\u001b[0m\n\u001b[0;32m---> 54\u001b[0;31m         \u001b[0;32mreturn\u001b[0m \u001b[0mregistry\u001b[0m\u001b[0;34m.\u001b[0m\u001b[0mread\u001b[0m\u001b[0;34m(\u001b[0m\u001b[0mself\u001b[0m\u001b[0;34m.\u001b[0m\u001b[0m_cls\u001b[0m\u001b[0;34m,\u001b[0m \u001b[0;34m*\u001b[0m\u001b[0margs\u001b[0m\u001b[0;34m,\u001b[0m \u001b[0;34m**\u001b[0m\u001b[0mkwargs\u001b[0m\u001b[0;34m)\u001b[0m\u001b[0;34m\u001b[0m\u001b[0;34m\u001b[0m\u001b[0m\n\u001b[0m\u001b[1;32m     55\u001b[0m \u001b[0;34m\u001b[0m\u001b[0m\n\u001b[1;32m     56\u001b[0m \u001b[0;34m\u001b[0m\u001b[0m\n",
      "\u001b[0;32m~/anaconda3/lib/python3.7/site-packages/astropy/io/registry.py\u001b[0m in \u001b[0;36mread\u001b[0;34m(cls, format, *args, **kwargs)\u001b[0m\n\u001b[1;32m    506\u001b[0m                     \u001b[0;32mtry\u001b[0m\u001b[0;34m:\u001b[0m\u001b[0;34m\u001b[0m\u001b[0;34m\u001b[0m\u001b[0m\n\u001b[1;32m    507\u001b[0m                         \u001b[0mctx\u001b[0m \u001b[0;34m=\u001b[0m \u001b[0mget_readable_fileobj\u001b[0m\u001b[0;34m(\u001b[0m\u001b[0margs\u001b[0m\u001b[0;34m[\u001b[0m\u001b[0;36m0\u001b[0m\u001b[0;34m]\u001b[0m\u001b[0;34m,\u001b[0m \u001b[0mencoding\u001b[0m\u001b[0;34m=\u001b[0m\u001b[0;34m'binary'\u001b[0m\u001b[0;34m)\u001b[0m\u001b[0;34m\u001b[0m\u001b[0;34m\u001b[0m\u001b[0m\n\u001b[0;32m--> 508\u001b[0;31m                         \u001b[0mfileobj\u001b[0m \u001b[0;34m=\u001b[0m \u001b[0mctx\u001b[0m\u001b[0;34m.\u001b[0m\u001b[0m__enter__\u001b[0m\u001b[0;34m(\u001b[0m\u001b[0;34m)\u001b[0m\u001b[0;34m\u001b[0m\u001b[0;34m\u001b[0m\u001b[0m\n\u001b[0m\u001b[1;32m    509\u001b[0m                     \u001b[0;32mexcept\u001b[0m \u001b[0mOSError\u001b[0m\u001b[0;34m:\u001b[0m\u001b[0;34m\u001b[0m\u001b[0;34m\u001b[0m\u001b[0m\n\u001b[1;32m    510\u001b[0m                         \u001b[0;32mraise\u001b[0m\u001b[0;34m\u001b[0m\u001b[0;34m\u001b[0m\u001b[0m\n",
      "\u001b[0;32m~/anaconda3/lib/python3.7/contextlib.py\u001b[0m in \u001b[0;36m__enter__\u001b[0;34m(self)\u001b[0m\n\u001b[1;32m    110\u001b[0m         \u001b[0;32mdel\u001b[0m \u001b[0mself\u001b[0m\u001b[0;34m.\u001b[0m\u001b[0margs\u001b[0m\u001b[0;34m,\u001b[0m \u001b[0mself\u001b[0m\u001b[0;34m.\u001b[0m\u001b[0mkwds\u001b[0m\u001b[0;34m,\u001b[0m \u001b[0mself\u001b[0m\u001b[0;34m.\u001b[0m\u001b[0mfunc\u001b[0m\u001b[0;34m\u001b[0m\u001b[0;34m\u001b[0m\u001b[0m\n\u001b[1;32m    111\u001b[0m         \u001b[0;32mtry\u001b[0m\u001b[0;34m:\u001b[0m\u001b[0;34m\u001b[0m\u001b[0;34m\u001b[0m\u001b[0m\n\u001b[0;32m--> 112\u001b[0;31m             \u001b[0;32mreturn\u001b[0m \u001b[0mnext\u001b[0m\u001b[0;34m(\u001b[0m\u001b[0mself\u001b[0m\u001b[0;34m.\u001b[0m\u001b[0mgen\u001b[0m\u001b[0;34m)\u001b[0m\u001b[0;34m\u001b[0m\u001b[0;34m\u001b[0m\u001b[0m\n\u001b[0m\u001b[1;32m    113\u001b[0m         \u001b[0;32mexcept\u001b[0m \u001b[0mStopIteration\u001b[0m\u001b[0;34m:\u001b[0m\u001b[0;34m\u001b[0m\u001b[0;34m\u001b[0m\u001b[0m\n\u001b[1;32m    114\u001b[0m             \u001b[0;32mraise\u001b[0m \u001b[0mRuntimeError\u001b[0m\u001b[0;34m(\u001b[0m\u001b[0;34m\"generator didn't yield\"\u001b[0m\u001b[0;34m)\u001b[0m \u001b[0;32mfrom\u001b[0m \u001b[0;32mNone\u001b[0m\u001b[0;34m\u001b[0m\u001b[0;34m\u001b[0m\u001b[0m\n",
      "\u001b[0;32m~/anaconda3/lib/python3.7/site-packages/astropy/utils/data.py\u001b[0m in \u001b[0;36mget_readable_fileobj\u001b[0;34m(name_or_obj, encoding, cache, show_progress, remote_timeout)\u001b[0m\n\u001b[1;32m    191\u001b[0m                 \u001b[0mname_or_obj\u001b[0m\u001b[0;34m,\u001b[0m \u001b[0mcache\u001b[0m\u001b[0;34m=\u001b[0m\u001b[0mcache\u001b[0m\u001b[0;34m,\u001b[0m \u001b[0mshow_progress\u001b[0m\u001b[0;34m=\u001b[0m\u001b[0mshow_progress\u001b[0m\u001b[0;34m,\u001b[0m\u001b[0;34m\u001b[0m\u001b[0;34m\u001b[0m\u001b[0m\n\u001b[1;32m    192\u001b[0m                 timeout=remote_timeout)\n\u001b[0;32m--> 193\u001b[0;31m         \u001b[0mfileobj\u001b[0m \u001b[0;34m=\u001b[0m \u001b[0mio\u001b[0m\u001b[0;34m.\u001b[0m\u001b[0mFileIO\u001b[0m\u001b[0;34m(\u001b[0m\u001b[0mname_or_obj\u001b[0m\u001b[0;34m,\u001b[0m \u001b[0;34m'r'\u001b[0m\u001b[0;34m)\u001b[0m\u001b[0;34m\u001b[0m\u001b[0;34m\u001b[0m\u001b[0m\n\u001b[0m\u001b[1;32m    194\u001b[0m         \u001b[0;32mif\u001b[0m \u001b[0mis_url\u001b[0m \u001b[0;32mand\u001b[0m \u001b[0;32mnot\u001b[0m \u001b[0mcache\u001b[0m\u001b[0;34m:\u001b[0m\u001b[0;34m\u001b[0m\u001b[0;34m\u001b[0m\u001b[0m\n\u001b[1;32m    195\u001b[0m             \u001b[0mdelete_fds\u001b[0m\u001b[0;34m.\u001b[0m\u001b[0mappend\u001b[0m\u001b[0;34m(\u001b[0m\u001b[0mfileobj\u001b[0m\u001b[0;34m)\u001b[0m\u001b[0;34m\u001b[0m\u001b[0;34m\u001b[0m\u001b[0m\n",
      "\u001b[0;31mFileNotFoundError\u001b[0m: [Errno 2] No such file or directory: '/lupus2/mpound/pdrtpy/models/oicpwebkosmatau.fits'"
     ]
    }
   ],
   "source": [
    "p.read_models(unit='adu')\n",
    "p.computeValidRatios()\n",
    "p._check_ratio_shapes()\n",
    "psmc.read_models(unit='adu')\n",
    "psmc.computeValidRatios()\n",
    "psmc._check_ratio_shapes()\n",
    "pk.read_models(unit='adu')\n",
    "pk.computeValidRatios()\n",
    "pk._check_ratio_shapes()\n",
    "#plt.imshow(p._measurements['OI_63'],origin='lower',cmap='rainbow')\n",
    "#plt.colorbar()\n",
    "pk.ratiocount\n",
    "#p._chisq.data.shape"
   ]
  },
  {
   "cell_type": "code",
   "execution_count": null,
   "metadata": {},
   "outputs": [],
   "source": [
    "if False:\n",
    "    plt.rcParams[\"figure.dpi\"] = 100\n",
    "    q=p._reducedChisq.data[:,3,110,25]\n",
    "    z=np.nanmin(p._reducedChisq,(0,1))\n",
    "    print(np.nanmax(z))\n",
    "    #z=p._observedratios['OI_145+CII_158/FIR']\n",
    "    #z=p._observedratios['OI_145/CII_158']\n",
    "    #z=p._deltasq['OI_145+CII_158/FIR']\n",
    "    plt.imshow(z,origin='lower')\n",
    "    plt.colorbar()\n",
    "    #np.nanmin(p._reducedChisq)"
   ]
  },
  {
   "cell_type": "code",
   "execution_count": null,
   "metadata": {},
   "outputs": [],
   "source": [
    "p.computeDeltaSqMap()\n",
    "p.computeChisq()\n",
    "psmc.computeDeltaSqMap()\n",
    "psmc.computeChisq()\n",
    "pk.computeDeltaSqMap()\n",
    "pk.computeChisq()"
   ]
  },
  {
   "cell_type": "code",
   "execution_count": null,
   "metadata": {},
   "outputs": [],
   "source": [
    "print(p._chisq.shape)\n",
    "p.computeBestnG0Maps()\n",
    "print(p.g0_map._data[115,25],p.n_map._data[115,25])\n",
    "psmc.computeBestnG0Maps()\n",
    "print(psmc.g0_map._data[115,25],psmc.n_map._data[115,25])\n",
    "pk.computeBestnG0Maps()\n",
    "print(pk.g0_map._data[115,25],pk.n_map._data[115,25])"
   ]
  },
  {
   "cell_type": "code",
   "execution_count": null,
   "metadata": {},
   "outputs": [],
   "source": [
    "#plt.imshow(m1.SN)\n",
    "#plt.colorbar()"
   ]
  },
  {
   "cell_type": "code",
   "execution_count": null,
   "metadata": {
    "scrolled": true
   },
   "outputs": [],
   "source": [
    "plt.rcParams[\"figure.dpi\"] = 200\n",
    "plt.subplot(2,2,1)\n",
    "current_cmap = mcm.get_cmap('rainbow')\n",
    "current_cmap.set_bad(color='white')\n",
    "plt.imshow(p.g0_map,cmap=current_cmap,origin='lower')#,norm=p._zscale(p.g0_map),origin='lower')\n",
    "plt.title(\"G0\")\n",
    "plt.colorbar()\n",
    "plt.subplot(2,2,2)\n",
    "plt.imshow(np.ma.array(p.n_map, mask=np.isnan(p.n_map)),cmap=current_cmap,origin='lower')#,norm=p._zscale(np.ma.array(p.n_map, mask=np.isnan(p.n_map))),origin='lower')\n",
    "plt.title(\"n\")\n",
    "plt.colorbar()\n",
    "plt.subplot(2,2,3)\n",
    "if False:\n",
    "    plt.imshow(psmc.g0_map,cmap=current_cmap,origin='lower')\n",
    "    plt.title(\"G0 SMC\")\n",
    "else:\n",
    "    plt.imshow(pk.g0_map,cmap=current_cmap,origin='lower')\n",
    "    plt.title(\"G0 KOSMA\")\n",
    "plt.colorbar()\n",
    "plt.subplot(2,2,4)\n",
    "if False:\n",
    "    plt.imshow(np.ma.array(psmc.n_map, mask=np.isnan(psmc.n_map)),cmap=current_cmap,origin='lower')#,norm=p._zscale(np.ma.array(p.n_map, mask=np.isnan(p.n_map))),origin='lower')\n",
    "    plt.title(\"n SMC\")\n",
    "else:\n",
    "    plt.imshow(pk.n_map,cmap=current_cmap,origin='lower')#,norm=p._zscale(np.ma.array(p.n_map, mask=np.isnan(p.n_map))),origin='lower')\n",
    "    plt.title(\"n KOSMA\")\n",
    "plt.colorbar()\n",
    "plt.subplots_adjust(hspace=0.5,wspace=0.5)"
   ]
  },
  {
   "cell_type": "code",
   "execution_count": null,
   "metadata": {},
   "outputs": [],
   "source": [
    "hh=p.n_map.to_hdu()\n",
    "hh.writeto('nmapsmc.fits',overwrite=True)\n",
    "hh=p.g0_map.to_hdu()\n",
    "hh.writeto('g0mapsmc.fits',overwrite=True)\n",
    "x1=fits.open('nmapsmc.fits')"
   ]
  },
  {
   "cell_type": "code",
   "execution_count": null,
   "metadata": {},
   "outputs": [],
   "source": [
    "x1=fits.open('nmapsmc.fits')\n",
    "x2=fits.open('/n/dropbox1nb/mpound/Dropbox/PDRmodels/smc_pdrmodels/n22/n22_density.fits')\n",
    "#H,bins = np.histogram(x1[0].data-x2[0].data,range=[10,200])\n",
    "#plt.bar(bins[:,-1],H,width=50)\n",
    "#v3=x1[0].data-x2[0].data\n",
    "#plt.hist(v3[~np.isnan(v3)],bins=20)\n",
    "x3=Measurement.read('nmapsmc.fits',identifier=\"MWP\",uncertainty=None)\n",
    "x4=Measurement.read('/n/dropbox1nb/mpound/Dropbox/PDRmodels/smc_pdrmodels/n22/n22_density.fits',identifier=\"KJ\",uncertainty=None)\n",
    "x3._unit=u.dimensionless_unscaled\n",
    "x4._unit=u.dimensionless_unscaled\n",
    "v3=x3 -x4\n",
    "x5=Measurement.read('g0mapsmc.fits',identifier=\"MWP\",uncertainty=None)\n",
    "x6=Measurement.read('/n/dropbox1nb/mpound/Dropbox/PDRmodels/smc_pdrmodels/n22/n22_radiation.fits',identifier=\"KJ\",uncertainty=None)\n",
    "x5._unit=u.dimensionless_unscaled\n",
    "x6._unit=u.dimensionless_unscaled\n",
    "v4=x5-x6\n",
    "plt.subplot(1,2,1)\n",
    "plt.hist(v3[~np.isnan(v3)],bins=30,range=[0,30])\n",
    "plt.title(\"n SMC difference histogram\")\n",
    "plt.subplot(1,2,2)\n",
    "plt.hist(v4[~np.isnan(v4)],bins=30,range=[0,30])\n",
    "plt.title(\"G0 SMC difference histogram\")\n",
    "plt.subplots_adjust(wspace=1)"
   ]
  },
  {
   "cell_type": "code",
   "execution_count": null,
   "metadata": {
    "scrolled": false
   },
   "outputs": [],
   "source": [
    "k=p._firstkey(p._deltasq)\n",
    "#np.max(p._deltasq[k])\n",
    "plt.imshow(ma.masked_invalid(p._deltasq[k][21][3]))\n",
    "#plt.imshow(ma.masked_invalid(p._reducedChisq[0][0]))\n",
    "plt.colorbar()\n",
    "#f=ma.masked_invalid(p._chisq[0][0])\n",
    "#y=plt.hist(f)\n",
    "p._deltasq[k].shape\n",
    "len(p._deltasq)"
   ]
  },
  {
   "cell_type": "code",
   "execution_count": null,
   "metadata": {},
   "outputs": [],
   "source": [
    "z=ma.masked_invalid(p._deltasq[k])"
   ]
  },
  {
   "cell_type": "code",
   "execution_count": null,
   "metadata": {},
   "outputs": [],
   "source": [
    "z[0][0].shape"
   ]
  },
  {
   "cell_type": "code",
   "execution_count": null,
   "metadata": {
    "scrolled": true
   },
   "outputs": [],
   "source": [
    "f=fits.open(cii_flux_file)\n",
    "z=ma.masked_invalid(f[0].data)\n",
    "z.max()"
   ]
  },
  {
   "cell_type": "code",
   "execution_count": null,
   "metadata": {},
   "outputs": [],
   "source": [
    "y=plt.hist(ma.compressed(z),bins=200)\n"
   ]
  },
  {
   "cell_type": "code",
   "execution_count": null,
   "metadata": {},
   "outputs": [],
   "source": [
    "np.shape(p._reducedChisq.data[0])"
   ]
  },
  {
   "cell_type": "code",
   "execution_count": null,
   "metadata": {},
   "outputs": [],
   "source": [
    "np.shape(p._reducedChisq.data[0,0,0,:])"
   ]
  },
  {
   "cell_type": "code",
   "execution_count": null,
   "metadata": {},
   "outputs": [],
   "source": [
    "z,y,x=p._reducedChisq.data[0,:,0,0],p._reducedChisq.data[0,0,:,0],p._reducedChisq.data[0,0,0,:]"
   ]
  },
  {
   "cell_type": "code",
   "execution_count": null,
   "metadata": {},
   "outputs": [],
   "source": [
    "y=np.arange(0,139)\n",
    "x=np.arange(0,81)\n",
    "X, Y = np.meshgrid(x, y)"
   ]
  },
  {
   "cell_type": "code",
   "execution_count": null,
   "metadata": {},
   "outputs": [],
   "source": [
    "from mpl_toolkits.mplot3d import axes3d\n",
    "import matplotlib.pyplot as plt\n",
    "\n",
    "\n",
    "fig = plt.figure()\n",
    "ax = fig.add_subplot(111, projection='3d')\n",
    "\n",
    "# Grab some test data.\n",
    "X, Y, Z = axes3d.get_test_data(0.05)\n",
    "\n",
    "# Plot a basic wireframe.\n",
    "ax.plot_wireframe(X, Y, Z, rstride=10, cstride=10)\n",
    "\n",
    "plt.show()"
   ]
  },
  {
   "cell_type": "code",
   "execution_count": null,
   "metadata": {},
   "outputs": [],
   "source": [
    "x"
   ]
  },
  {
   "cell_type": "code",
   "execution_count": null,
   "metadata": {},
   "outputs": [],
   "source": [
    "X, Y = np.meshgrid(x, y)"
   ]
  },
  {
   "cell_type": "code",
   "execution_count": null,
   "metadata": {},
   "outputs": [],
   "source": [
    "np.shape(Y)"
   ]
  },
  {
   "cell_type": "code",
   "execution_count": null,
   "metadata": {},
   "outputs": [],
   "source": [
    "Z=psmc._reducedChisq.data[0,0]\n",
    "np.shape(Z)\n",
    "np.nanmin(Z)"
   ]
  },
  {
   "cell_type": "code",
   "execution_count": null,
   "metadata": {},
   "outputs": [],
   "source": [
    "plt.rcParams[\"figure.dpi\"] = 100\n",
    "fig = plt.figure()\n",
    "ax = fig.add_subplot(121, projection='3d')\n",
    "ax.plot_surface(Y,X, z,cmap='rainbow',vmin=0,vmax=3,alpha=0.5)\n",
    "#ax.axes.set_xlim3d(left=0, right=10) \n",
    "#ax.axes.set_ylim3d(bottom=0, top=10) \n",
    "ax.axes.set_zlim3d(bottom=0, top=10)\n",
    "ax2=fig.add_subplot(122)\n",
    "im2=ax2.imshow(z,cmap='rainbow',vmin=1,vmax=10)\n",
    "fig.colorbar(im2, ax=ax2)\n",
    "#plt.colorbar(ax=ax2)\n",
    "plt.show()"
   ]
  },
  {
   "cell_type": "code",
   "execution_count": null,
   "metadata": {},
   "outputs": [],
   "source": [
    "np.nanmin(p._reducedChisq[1])"
   ]
  },
  {
   "cell_type": "code",
   "execution_count": null,
   "metadata": {},
   "outputs": [],
   "source": [
    "z=np.amin(p._reducedChisq,(0,1))"
   ]
  },
  {
   "cell_type": "code",
   "execution_count": null,
   "metadata": {},
   "outputs": [],
   "source": [
    "np.nanmin(z)"
   ]
  },
  {
   "cell_type": "code",
   "execution_count": null,
   "metadata": {},
   "outputs": [],
   "source": [
    "np.shape(z)"
   ]
  },
  {
   "cell_type": "code",
   "execution_count": null,
   "metadata": {},
   "outputs": [],
   "source": []
  }
 ],
 "metadata": {
  "kernelspec": {
   "display_name": "Python 3",
   "language": "python",
   "name": "python3"
  },
  "language_info": {
   "codemirror_mode": {
    "name": "ipython",
    "version": 3
   },
   "file_extension": ".py",
   "mimetype": "text/x-python",
   "name": "python",
   "nbconvert_exporter": "python",
   "pygments_lexer": "ipython3",
   "version": "3.7.4"
  }
 },
 "nbformat": 4,
 "nbformat_minor": 2
}
