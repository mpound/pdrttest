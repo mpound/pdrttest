{
 "cells": [
  {
   "cell_type": "markdown",
   "metadata": {},
   "source": [
    "# Create 2D images of flux maps for testing pdrtpy"
   ]
  },
  {
   "cell_type": "code",
   "execution_count": 1,
   "metadata": {},
   "outputs": [
    {
     "name": "stderr",
     "output_type": "stream",
     "text": [
      "/n/algol2/mpound/anaconda3/lib/python3.6/site-packages/astropy/table/column.py:984: FutureWarning: elementwise comparison failed; returning scalar instead, but in the future will perform elementwise comparison\n",
      "  result = getattr(super(), op)(other)\n"
     ]
    }
   ],
   "source": [
    "import numpy as np\n",
    "import scipy.stats as stats\n",
    "\n",
    "from astropy.io import fits\n",
    "import astropy.wcs as wcs\n",
    "import astropy.units as u\n",
    "from astropy.table import Table\n",
    "from astropy.nddata import NDDataArray, CCDData, NDUncertainty, StdDevUncertainty, VarianceUncertainty, InverseVariance\n",
    "from astropy.visualization import simple_norm, ZScaleInterval , ImageNormalize\n",
    "from astropy.visualization.stretch import SinhStretch,  LinearStretch\n",
    "\n",
    "import matplotlib.pyplot as plt\n",
    "import matplotlib.colors as mpcolors\n",
    "from matplotlib import ticker\n",
    "from matplotlib.lines import Line2D\n",
    "from pdrtpy.pdrutils import PDRutils\n",
    "from pdrtpy.measurement import Measurement\n",
    "\n",
    "#import sunpy\n",
    "#from ndcube import NDCube\n",
    "#%matplotlib inline\n",
    "plt.rcParams[\"figure.figsize\"] = (20,10)\n",
    "import sys\n",
    "np.set_printoptions(threshold=sys.maxsize)\n"
   ]
  },
  {
   "cell_type": "markdown",
   "metadata": {},
   "source": [
    "$n$ axis is length 25, $G_0$ axis is length 29"
   ]
  },
  {
   "cell_type": "code",
   "execution_count": 2,
   "metadata": {},
   "outputs": [],
   "source": [
    "# these give G0=31,n=2x10^5 - user27859\n",
    "m1 = Measurement(data=30.,uncertainty = StdDevUncertainty(5.),identifier=\"OI_145\", unit=\"adu\")\n",
    "m2 = Measurement(data=10.,uncertainty = StdDevUncertainty(2.),identifier=\"CI_609\", unit=\"adu\")\n",
    "m3 = Measurement(data=10.,uncertainty = StdDevUncertainty(1.5),identifier=\"CO_21\", unit=\"adu\")\n",
    "m4 = Measurement(100.,uncertainty = StdDevUncertainty(10.),identifier=\"CII_158\",unit=\"adu\")\n",
    "m = [m1,m2,m3,m4]"
   ]
  },
  {
   "cell_type": "markdown",
   "metadata": {},
   "source": [
    "These measurements m5-m8 give $G_0=1778.3, n=1E6$. See user25984 subdirectory\n",
    "From PDRT online,The ratios and errors calculated from inputs are:\n",
    "\n",
    "|    RATIO                        | VALUE                   |\n",
    "| ------------------------------- | ----------------------  | \n",
    "| \\[O I\\] 145 µm/ \\[C II\\] 158 µm | 1.50E+00 $pm$ 1.98E-01 |\n",
    "| \\[C I\\] 609 µm/CO (J=2-1)       | 3.33E-01 $pm$ 9.43E-02 |\n",
    "| \\[C II\\] 158 µm/ \\[C I\\] 609 µm | 1.26E+02 $pm$ 2.71E+01  |\n",
    "\n",
    "Minimum of $\\chi^2$ Distribution is 1.15E+00 at <br>\n",
    "(n,G0) = (1.00E+06,1.78E+03)<br>\n",
    "pixel (x,y) = (21, 16) \\[1-based FITS convention \\]"
   ]
  },
  {
   "cell_type": "code",
   "execution_count": 3,
   "metadata": {},
   "outputs": [],
   "source": [
    "m5 = Measurement(data=945.,uncertainty = StdDevUncertainty(100),identifier=\"OI_145\", unit=\"adu\")\n",
    "m6 = Measurement(data=5.,uncertainty = StdDevUncertainty(1.),identifier=\"CI_609\", unit=\"adu\")\n",
    "m7 = Measurement(data=15.,uncertainty = StdDevUncertainty(3),identifier=\"CO_21\", unit=\"adu\")\n",
    "m8 = Measurement(630.,uncertainty = StdDevUncertainty(50.),identifier=\"CII_158\",unit=\"adu\")\n",
    "mx = [m5,m6,m7,m8]"
   ]
  },
  {
   "cell_type": "markdown",
   "metadata": {},
   "source": [
    "These measurements am5-am8 give $G_0$ = 1E4, $n$=1E3. See user28831 subdirectory. From PDRT online:\n",
    "The ratios and errors calculated from inputs are:\n",
    "\n",
    "|    RATIO                        | VALUE                   |\n",
    "| ------------------------------- | ----------------------  |\n",
    "| \\[O I\\] 145 $\\mu$m/ \\[C II\\] 158 µm | 2.00E-01 $\\pm$ 2.24E-02 |\n",
    "| \\[C I\\] 609 µm/CO (J=2-1)       | 1.50E+01 $\\pm$ 3.35E+00 |   \n",
    "| \\[C II\\] 158 µm/ \\[C I\\] 609 µm | 1.26E+02 $\\pm$ 2.71E+01 |\n",
    "\n",
    "Minimum of $\\chi^2$ Distribution is 2.81E-01 at <br>\n",
    "(n,G0) = (1.00E+03,1.00E+04)<br>\n",
    "pixel (x,y) = (9, 19) \\[1-based FITS convention \\]"
   ]
  },
  {
   "cell_type": "code",
   "execution_count": 4,
   "metadata": {},
   "outputs": [],
   "source": [
    "am5 = Measurement(data=126.,uncertainty = StdDevUncertainty(10),identifier=\"OI_145\", unit=\"adu\")\n",
    "am6 = Measurement(data=5.,uncertainty = StdDevUncertainty(1.),identifier=\"CI_609\", unit=\"adu\")\n",
    "am7 = Measurement(data=0.333,uncertainty = StdDevUncertainty(0.033),identifier=\"CO_21\", unit=\"adu\")\n",
    "am8 = Measurement(630.,uncertainty = StdDevUncertainty(50.),identifier=\"CII_158\",unit=\"adu\")\n",
    "mxx = [am5,am6,am7,am8]"
   ]
  },
  {
   "cell_type": "code",
   "execution_count": 5,
   "metadata": {},
   "outputs": [
    {
     "name": "stdout",
     "output_type": "stream",
     "text": [
      "Filename: (No file associated with this HDUList)\n",
      "No.    Name      Ver    Type      Cards   Dimensions   Format\n",
      "  0  DATA          1 PrimaryHDU      19   (5, 7)   float64   \n",
      "  1  UNCERT        1 ImageHDU        21   (5, 7)   float64   \n",
      "Filename: (No file associated with this HDUList)\n",
      "No.    Name      Ver    Type      Cards   Dimensions   Format\n",
      "  0  DATA          1 PrimaryHDU      19   (5, 7)   float64   \n",
      "  1  UNCERT        1 ImageHDU        21   (5, 7)   float64   \n",
      "Filename: (No file associated with this HDUList)\n",
      "No.    Name      Ver    Type      Cards   Dimensions   Format\n",
      "  0  DATA          1 PrimaryHDU      19   (5, 7)   float64   \n",
      "  1  UNCERT        1 ImageHDU        21   (5, 7)   float64   \n",
      "Filename: (No file associated with this HDUList)\n",
      "No.    Name      Ver    Type      Cards   Dimensions   Format\n",
      "  0  DATA          1 PrimaryHDU      19   (5, 7)   float64   \n",
      "  1  UNCERT        1 ImageHDU        21   (5, 7)   float64   \n"
     ]
    }
   ],
   "source": [
    "xsize=5\n",
    "ysize=7\n",
    "crpix1=2\n",
    "crpix2=3\n",
    "test1D=False\n",
    "randomize=False\n",
    "split = True\n",
    "if test1D:\n",
    "    xsize=ysize=crpix1=crpix2=1\n",
    "    split=False # can't split 1 pixel\n",
    "for a1,a2,a3 in zip(m,mx,mxx):\n",
    "    # np array indices are opposite of FITS convention\n",
    "    if split:\n",
    "        #split map north-south and add vertical stripe\n",
    "        data = np.full((ysize,xsize),a1.flux)\n",
    "        data[0:int(ysize/2),] = a2.flux        \n",
    "        data[0:,1]=a3.flux\n",
    "        error = np.full((ysize,xsize),a1.error)\n",
    "        error[0:int(ysize/2),] = a2.error\n",
    "        error[0:,1] = a3.error\n",
    "    else:\n",
    "        data = np.full((ysize,xsize),a1.flux)\n",
    "        error = np.full((ysize,xsize),a1.error)\n",
    "    if randomize:\n",
    "        if split:\n",
    "            randata2 = a2.flux*np.random.rand(int(ysize/2),xsize)\n",
    "            data[0:int(ysize/2),] = data[0:int(ysize/2),]+randata2\n",
    "            randata1 = a1.flux*np.random.rand(int(ysize/2)+1,xsize)\n",
    "            data[int(ysize/2)+1:,] = data[int(ysize/2)+1:,] +randata1    \n",
    "        else:\n",
    "            randata = a1.flux*np.random.rand(ysize,xsize)\n",
    "            data = data+randata\n",
    "    \n",
    "    #print(data)\n",
    "    #print(error)\n",
    "    hdu = fits.PrimaryHDU(data)\n",
    "    hdu.header['crpix1']=crpix1\n",
    "    hdu.header['crpix2']=crpix2\n",
    "    hdu.header['ctype1']='RA---SIN'\n",
    "    hdu.header['ctype2']='DEC--SIN'\n",
    "    hdu.header['cdelt1']=0.016667\n",
    "    hdu.header['cdelt2']=0.016667\n",
    "    hdu.header['cunit1']='deg'\n",
    "    hdu.header['cunit2']='deg'\n",
    "    hdu.header['crval1']=43.3458\n",
    "    hdu.header['crval2']=19.2514\n",
    "    hdu.header['equinox']=2000.0\n",
    "    hdu.header['extname']= a1.id+ ' data image'\n",
    "    hdu.header['extname']= 'DATA'\n",
    "    #hdu.header['xtension'] = 'image'\n",
    "    hdu.header['bunit']=a1.unit.name\n",
    "    hde = fits.ImageHDU(error)\n",
    "    hde.header['crpix1']=crpix1\n",
    "    hde.header['crpix2']=crpix2\n",
    "    hde.header['ctype1']='RA--SIN'\n",
    "    hde.header['ctype2']='DEC-SIN'\n",
    "    hde.header['cdelt1']=0.016667\n",
    "    hde.header['cdelt2']=0.016667\n",
    "    hde.header['cunit1']='deg'\n",
    "    hde.header['cunit2']='deg'\n",
    "    hde.header['crval1']=43.3458\n",
    "    hde.header['crval2']=19.2514\n",
    "    hde.header['equinox']=2000.0\n",
    "    hde.header['extname']= 'UNCERT'\n",
    "    hde.header['bunit']=a1.unit.name\n",
    "    hde.header['utype']='StdDevUncertainty'\n",
    "    hdul = fits.HDUList([hdu,hde])\n",
    "    hdul.info()\n",
    "    hdul.writeto(a1.id+\"_fakeobs.fits\",overwrite=True)"
   ]
  },
  {
   "cell_type": "code",
   "execution_count": 6,
   "metadata": {},
   "outputs": [
    {
     "name": "stdout",
     "output_type": "stream",
     "text": [
      "35\n"
     ]
    }
   ],
   "source": [
    "z2 = Measurement.read(\"CI_609_fakeobs.fits\",identifier='CI_609')\n",
    "z1 = Measurement.read(\"OI_145_fakeobs.fits\",identifier= )\n",
    "z3 = Measurement.read(\"CO_21_fakeobs.fits\",identifier=\"CO_21\")\n",
    "z4 = Measurement.read(\"CII_158_fakeobs.fits\",identifier=\"CII_158\")\n",
    "z = [z1,z2,z3,z4]\n",
    "print(z1.flux.size)"
   ]
  },
  {
   "cell_type": "code",
   "execution_count": 7,
   "metadata": {},
   "outputs": [
    {
     "data": {
      "text/plain": [
       "<matplotlib.colorbar.Colorbar at 0x7f24b23fc908>"
      ]
     },
     "execution_count": 7,
     "metadata": {},
     "output_type": "execute_result"
    },
    {
     "data": {
      "image/png": "[encoded data removed]",
      "text/plain": [
       "<Figure size 432x288 with 2 Axes>"
      ]
     },
     "metadata": {
      "needs_background": "light"
     },
     "output_type": "display_data"
    }
   ],
   "source": [
    "plt.imshow(z2.data)\n",
    "plt.colorbar()"
   ]
  },
  {
   "cell_type": "code",
   "execution_count": 8,
   "metadata": {},
   "outputs": [],
   "source": [
    "p = PDRutils(\"current_models.tab\",measurements = z)\n",
    "p.read_models(unit='adu')"
   ]
  },
  {
   "cell_type": "code",
   "execution_count": 9,
   "metadata": {},
   "outputs": [
    {
     "data": {
      "text/plain": [
       "(7, 5)"
      ]
     },
     "execution_count": 9,
     "metadata": {},
     "output_type": "execute_result"
    }
   ],
   "source": [
    "p.computeValidRatios()\n",
    "p.check_ratio_shapes()\n",
    "p._observedratios['OI_145/CII_158'].shape"
   ]
  },
  {
   "cell_type": "code",
   "execution_count": 10,
   "metadata": {},
   "outputs": [
    {
     "name": "stdout",
     "output_type": "stream",
     "text": [
      "G0 shape  (35,)\n",
      "N shape  (35,)\n",
      "[[ 1778.27941004 10000.          1778.27941004  1778.27941004\n",
      "   1778.27941004]\n",
      " [ 1778.27941004 10000.          1778.27941004  1778.27941004\n",
      "   1778.27941004]\n",
      " [ 1778.27941004 10000.          1778.27941004  1778.27941004\n",
      "   1778.27941004]\n",
      " [   31.6227766  10000.            31.6227766     31.6227766\n",
      "     31.6227766 ]\n",
      " [   31.6227766  10000.            31.6227766     31.6227766\n",
      "     31.6227766 ]\n",
      " [   31.6227766  10000.            31.6227766     31.6227766\n",
      "     31.6227766 ]\n",
      " [   31.6227766  10000.            31.6227766     31.6227766\n",
      "     31.6227766 ]]\n",
      "[[1000000.            1000.         1000000.         1000000.\n",
      "  1000000.        ]\n",
      " [1000000.            1000.         1000000.         1000000.\n",
      "  1000000.        ]\n",
      " [1000000.            1000.         1000000.         1000000.\n",
      "  1000000.        ]\n",
      " [ 177827.94100389    1000.          177827.94100389  177827.94100389\n",
      "   177827.94100389]\n",
      " [ 177827.94100389    1000.          177827.94100389  177827.94100389\n",
      "   177827.94100389]\n",
      " [ 177827.94100389    1000.          177827.94100389  177827.94100389\n",
      "   177827.94100389]\n",
      " [ 177827.94100389    1000.          177827.94100389  177827.94100389\n",
      "   177827.94100389]]\n"
     ]
    },
    {
     "name": "stderr",
     "output_type": "stream",
     "text": [
      "/n/lupus2/mpound/pdrttest/pdrtpy/pdrutils.py:370: FutureWarning: Using a non-tuple sequence for multidimensional indexing is deprecated; use `arr[tuple(seq)]` instead of `arr[seq]`. In the future this will be interpreted as an array index, `arr[np.array(seq)]`, which will result either in an error or a different result.\n",
      "  self.g0_map.data[spatial_idx]=g0\n",
      "/n/lupus2/mpound/pdrttest/pdrtpy/pdrutils.py:372: FutureWarning: Using a non-tuple sequence for multidimensional indexing is deprecated; use `arr[tuple(seq)]` instead of `arr[seq]`. In the future this will be interpreted as an array index, `arr[np.array(seq)]`, which will result either in an error or a different result.\n",
      "  self.n_map.data[spatial_idx]=n\n"
     ]
    }
   ],
   "source": [
    "p.computeDeltaSqMap()\n",
    "p.computeChisq()\n",
    "p.writeChisq()\n",
    "p.computeBestnG0Maps()\n",
    "print(p.g0_map.data)\n",
    "print(p.n_map.data)"
   ]
  },
  {
   "cell_type": "code",
   "execution_count": 11,
   "metadata": {},
   "outputs": [
    {
     "data": {
      "text/plain": [
       "(29, 25, 7, 5)"
      ]
     },
     "execution_count": 11,
     "metadata": {},
     "output_type": "execute_result"
    }
   ],
   "source": [
    "p._chisq.header\n",
    "p._chisq.shape"
   ]
  },
  {
   "cell_type": "code",
   "execution_count": 12,
   "metadata": {},
   "outputs": [
    {
     "name": "stdout",
     "output_type": "stream",
     "text": [
      "OrderedDict([('DATAMIN', 31.622776601683793), ('DATAMAX', 10000.0), ('AUTHOR', 'PDR Toolbox 2.0-Beta'), ('DATE', '2019-11-07T15:05:14.343124'), ('BUNIT', 'Log(G0) [Habing]'), ('COMMENT', 'Best-fit interstellar radiation field'), ('HISTORY', 'Measurements provided: OI_145, CI_609, CO_21, CII_158,  Ratios used: OI_145/CII_158, CI_609/CO_21, CII_158/CI_609, ')])\n",
      "\n",
      "\n",
      "OrderedDict([('DATAMIN', 1000.0), ('DATAMAX', 1000000.0), ('AUTHOR', 'PDR Toolbox 2.0-Beta'), ('DATE', '2019-11-07T15:05:14.343063'), ('BUNIT', 'Log(n) [cm^-2]'), ('COMMENT', 'Best-fit H2 volume density'), ('HISTORY', 'Measurements provided: OI_145, CI_609, CO_21, CII_158,  Ratios used: OI_145/CII_158, CI_609/CO_21, CII_158/CI_609, ')])\n"
     ]
    },
    {
     "data": {
      "image/png": "[encoded data removed]",
      "text/plain": [
       "<Figure size 432x288 with 4 Axes>"
      ]
     },
     "metadata": {
      "needs_background": "light"
     },
     "output_type": "display_data"
    }
   ],
   "source": [
    "#p._observedratios[p._firstkey(p._observedratios)].header\n",
    "#p._chisq.header\n",
    "#p._reducedChisq.header\n",
    "#p.g0_map.data.max()\n",
    "#plt.imshow(z3.data)\n",
    "plt.subplot(1,2,1)\n",
    "plt.imshow(p.g0_map)#,norm=p._zscale(p.g0_map))\n",
    "plt.colorbar()\n",
    "plt.subplot(1,2,2)\n",
    "plt.imshow(p.n_map)\n",
    "plt.colorbar()\n",
    "print(p.g0_map.header)\n",
    "print(\"\\n\")\n",
    "print(p.n_map.header)"
   ]
  },
  {
   "cell_type": "code",
   "execution_count": 13,
   "metadata": {},
   "outputs": [
    {
     "name": "stdout",
     "output_type": "stream",
     "text": [
      "3\n"
     ]
    },
    {
     "data": {
      "image/png": "[encoded data removed]",
      "text/plain": [
       "<Figure size 432x288 with 6 Axes>"
      ]
     },
     "metadata": {
      "needs_background": "light"
     },
     "output_type": "display_data"
    }
   ],
   "source": [
    "i=1\n",
    "imax=len(p._modelratios)\n",
    "print(imax)\n",
    "for k in p._modelratios:\n",
    "    plt.subplot(1,imax,i)\n",
    "    plt.imshow(p._modelratios[k],cmap='gray',norm=p._zscale(p._modelratios[k]))\n",
    "    #p._plot(p._modelratios[k],cmap='gray_r',image=True,contours=False,levels=None,measurements=None)\n",
    "    plt.colorbar()\n",
    "    i=i+1"
   ]
  },
  {
   "cell_type": "code",
   "execution_count": 14,
   "metadata": {},
   "outputs": [
    {
     "name": "stdout",
     "output_type": "stream",
     "text": [
      "[[1.15105241 0.28144186 1.15105241 1.15105241 1.15105241]\n",
      " [1.15105241 0.28144186 1.15105241 1.15105241 1.15105241]\n",
      " [1.15105241 0.28144186 1.15105241 1.15105241 1.15105241]\n",
      " [0.80781209 0.28144186 0.80781209 0.80781209 0.80781209]\n",
      " [0.80781209 0.28144186 0.80781209 0.80781209 0.80781209]\n",
      " [0.80781209 0.28144186 0.80781209 0.80781209 0.80781209]\n",
      " [0.80781209 0.28144186 0.80781209 0.80781209 0.80781209]]\n"
     ]
    },
    {
     "data": {
      "text/plain": [
       "<matplotlib.colorbar.Colorbar at 0x7f24b07890f0>"
      ]
     },
     "execution_count": 14,
     "metadata": {},
     "output_type": "execute_result"
    },
    {
     "data": {
      "image/png": "[encoded data removed]",
      "text/plain": [
       "<Figure size 432x288 with 2 Axes>"
      ]
     },
     "metadata": {
      "needs_background": "light"
     },
     "output_type": "display_data"
    }
   ],
   "source": [
    "zx=np.amin(p._reducedChisq,(0,1))\n",
    "plt.imshow(zx)\n",
    "print(zx)\n",
    "plt.title(\"reduced chisq min\")\n",
    "plt.colorbar()"
   ]
  },
  {
   "cell_type": "code",
   "execution_count": 15,
   "metadata": {},
   "outputs": [
    {
     "name": "stdout",
     "output_type": "stream",
     "text": [
      "(7, 5)\n",
      "G  [1.5  1.5  1.5  1.5  1.5  1.5  1.5  1.5  1.5  1.5  1.5  1.5  1.5  1.5\n",
      " 1.5  1.5  3.25 3.25 3.25 3.25 3.25 3.25 3.25 3.25 3.25 3.25 3.25 3.25\n",
      " 4.   4.   4.   4.   4.   4.   4.  ] (35,)\n",
      "N  [5.25 5.25 5.25 5.25 5.25 5.25 5.25 5.25 5.25 5.25 5.25 5.25 5.25 5.25\n",
      " 5.25 5.25 6.   6.   6.   6.   6.   6.   6.   6.   6.   6.   6.   6.\n",
      " 3.   3.   3.   3.   3.   3.   3.  ] (35,)\n",
      "AH  [[17  8]\n",
      " [17  8]\n",
      " [17  8]\n",
      " [17  8]\n",
      " [17  8]\n",
      " [17  8]\n",
      " [17  8]\n",
      " [17  8]\n",
      " [17  8]\n",
      " [17  8]\n",
      " [17  8]\n",
      " [17  8]\n",
      " [17  8]\n",
      " [17  8]\n",
      " [17  8]\n",
      " [17  8]\n",
      " [20 15]\n",
      " [20 15]\n",
      " [20 15]\n",
      " [20 15]\n",
      " [20 15]\n",
      " [20 15]\n",
      " [20 15]\n",
      " [20 15]\n",
      " [20 15]\n",
      " [20 15]\n",
      " [20 15]\n",
      " [20 15]\n",
      " [ 8 18]\n",
      " [ 8 18]\n",
      " [ 8 18]\n",
      " [ 8 18]\n",
      " [ 8 18]\n",
      " [ 8 18]\n",
      " [ 8 18]]\n",
      "QQ  [[ 8 18]\n",
      " [ 8 18]\n",
      " [ 8 18]\n",
      " [ 8 18]\n",
      " [ 8 18]\n",
      " [ 8 18]\n",
      " [ 8 18]\n",
      " [20 15]\n",
      " [20 15]\n",
      " [20 15]\n",
      " [20 15]\n",
      " [20 15]\n",
      " [20 15]\n",
      " [20 15]\n",
      " [20 15]\n",
      " [20 15]\n",
      " [20 15]\n",
      " [20 15]\n",
      " [20 15]\n",
      " [17  8]\n",
      " [17  8]\n",
      " [17  8]\n",
      " [17  8]\n",
      " [17  8]\n",
      " [17  8]\n",
      " [17  8]\n",
      " [17  8]\n",
      " [17  8]\n",
      " [17  8]\n",
      " [17  8]\n",
      " [17  8]\n",
      " [17  8]\n",
      " [17  8]\n",
      " [17  8]\n",
      " [17  8]]\n",
      "G0orig  [4.   4.   4.   4.   4.   4.   4.   3.25 3.25 3.25 3.25 3.25 3.25 3.25\n",
      " 3.25 3.25 3.25 3.25 3.25 1.5  1.5  1.5  1.5  1.5  1.5  1.5  1.5  1.5\n",
      " 1.5  1.5  1.5  1.5  1.5  1.5  1.5 ]\n",
      "Norig  [3.   3.   3.   3.   3.   3.   3.   6.   6.   6.   6.   6.   6.   6.\n",
      " 6.   6.   6.   6.   6.   5.25 5.25 5.25 5.25 5.25 5.25 5.25 5.25 5.25\n",
      " 5.25 5.25 5.25 5.25 5.25 5.25 5.25]\n"
     ]
    }
   ],
   "source": [
    "\n",
    "zy=np.amin(p._reducedChisq,(0,1))\n",
    "print(zy.shape)\n",
    "gi,ni,yi,xi=np.where(p._reducedChisq==zy)\n",
    "#print(gi,ni,yi,xi)\n",
    "#print(len(gi),len(ni),len(xi),len(yi))\n",
    "idx = np.array(list(zip(yi,xi)))\n",
    "#print(\"IDX \",idx.shape)\n",
    "#print(np.array(list(zip(xi,yi,gi,ni))))\n",
    "fk = p._firstkey(p._modelratios)\n",
    "fk2 = p._firstkey(p._observedratios)\n",
    "newshape = p._observedratios[fk2].shape\n",
    "ah=np.transpose(np.array([ni,gi]))\n",
    "#do blah[xi,yi]=[og,on] for instance\n",
    "og=p._modelratios[fk].wcs.wcs_pix2world(ah,0)[:,1]#.reshape(newshape)\n",
    "on=p._modelratios[fk].wcs.wcs_pix2world(ah,0)[:,0]#.reshape(newshape)\n",
    "print(\"G \",og,og.shape)\n",
    "print(\"N \",on,on.shape)\n",
    "#myg0_map=p._observedratios[fk2].copy()\n",
    "#print(\"D \",myg0_map.data.shape)\n",
    "#myg0_map.data[[yi,xi]]=10**on\n",
    "#myg0_map.data[idx]=10**on\n",
    "\n",
    "#print(type(ff))\n",
    "#print(ff)\n",
    "#ff=np.where(p._reducedChisq==zy)\n",
    "#qq=np.transpose(np.vstack(ff))\n",
    "#uuu=np.flip(qq[:,:2])\n",
    "#print(uuu.shape,ah.shape)\n",
    "#print(uuu)\n",
    "#print(np.transpose(np.array([xi,yi])))\n",
    "if True:\n",
    "    ff=np.where(p._reducedChisq==zy)\n",
    "    #print(np.vstack(ff))\n",
    "    qq=np.transpose(np.vstack(ff))\n",
    "    #print(qq.shape)\n",
    "    #print(np.vstack(np.where(p._reducedChisq==z)))\n",
    "    #print(qq)\n",
    "    fk = p._firstkey(p._modelratios)\n",
    "    fk2 = p._firstkey(p._observedratios)\n",
    "    newshape = p._observedratios[fk2].shape\n",
    "    #print(\"new shape size:\",np.prod(newshape))\n",
    "    print(\"AH \" , ah)\n",
    "    print(\"QQ \", np.flip(qq[:,:2]))\n",
    "    g0=    (p._modelratios[fk].wcs.wcs_pix2world(np.flip(qq[:,:2]),0))[:,1].reshape(newshape)\n",
    "    n =    (p._modelratios[fk].wcs.wcs_pix2world(np.flip(qq[:,:2]),0))[:,0].reshape(newshape)\n",
    "    print(\"G0orig \" , g0.reshape(35))\n",
    "    print(\"Norig \",n.reshape(35))\n",
    "if False:\n",
    "    xx=np.zeros(newshape)\n",
    "    #print(xx)\n",
    "    #vv=np.flip(qq[:,2:4])\n",
    "    #print((qq[:,2:4]))\n",
    "    #print(\"qq shape:\",np.shape(qq[:,2:4]))\n",
    "    i=0\n",
    "    for _x in qq[:,2:4]:\n",
    "        xx[_x[0],_x[1]]=g0[i]\n",
    "        #print(\"x \",_x,xx[_x[0],_x[1]])\n",
    "        i=i+1\n",
    "\n",
    "    #xx[qq[:,2:4]]=g0\n",
    "    #print[xx]\n",
    "    #print(g0.reshape(newshape)[qq[:,2:4]])\n",
    "    #print(g0.shape)\n",
    "    #p._modelratios[fk].wcs.wcs_pix2world(np.flip(qq[:,:2]),0)[:,1]\n",
    "    #print(qq[:,:2][:,1])\n",
    "    print(xx)\n",
    "if False:\n",
    "    plt.subplot(1,2,1)\n",
    "    plt.imshow(g0)\n",
    "    plt.colorbar()\n",
    "    plt.subplot(1,2,2)\n",
    "    plt.imshow(n)\n",
    "    plt.colorbar()\n",
    "#plt.imshow(myg0_map)\n",
    "#plt.colorbar()\n",
    "#print(myg0_map.data)"
   ]
  },
  {
   "cell_type": "code",
   "execution_count": 16,
   "metadata": {},
   "outputs": [
    {
     "name": "stdout",
     "output_type": "stream",
     "text": [
      "[[17 17 17 17 17 17 17 17 17 17 17 17 17 17 17 17 20 20 20 20 20 20 20 20\n",
      "  20 20 20 20  8  8  8  8  8  8  8]\n",
      " [ 8  8  8  8  8  8  8  8  8  8  8  8  8  8  8  8 15 15 15 15 15 15 15 15\n",
      "  15 15 15 15 18 18 18 18 18 18 18]]\n"
     ]
    }
   ],
   "source": [
    "print(np.array([ni,gi]))\n",
    "#print(g0)\n",
    "#print(n)\n",
    "#plt.imshow(p.g0_map)\n",
    "#import ipyvolume as ipv \n",
    "#print(p._chisq[1].data.max(),p._chisq[1].data.min())\n",
    "#ipv.figure()\n",
    "#ipv.quickvolshow(p._chisq[1].data,lighting=True,data_max=p._chisq[1].data.min(),data_min=5*p._chisq[1].data.min())\n",
    "#ipv.gcc()\n",
    "#ipv.widgets.quickvolshow(p._chisq[1])\n",
    "#ipv.pylab.show()"
   ]
  },
  {
   "cell_type": "code",
   "execution_count": 17,
   "metadata": {},
   "outputs": [
    {
     "name": "stdout",
     "output_type": "stream",
     "text": [
      "[[ 8 17]\n",
      " [ 8 17]\n",
      " [ 8 17]\n",
      " [ 8 17]\n",
      " [ 8 17]\n",
      " [ 8 17]\n",
      " [ 8 17]\n",
      " [ 8 17]\n",
      " [ 8 17]\n",
      " [ 8 17]\n",
      " [ 8 17]\n",
      " [ 8 17]\n",
      " [ 8 17]\n",
      " [ 8 17]\n",
      " [ 8 17]\n",
      " [ 8 17]\n",
      " [15 20]\n",
      " [15 20]\n",
      " [15 20]\n",
      " [15 20]\n",
      " [15 20]\n",
      " [15 20]\n",
      " [15 20]\n",
      " [15 20]\n",
      " [15 20]\n",
      " [15 20]\n",
      " [15 20]\n",
      " [15 20]\n",
      " [18  8]\n",
      " [18  8]\n",
      " [18  8]\n",
      " [18  8]\n",
      " [18  8]\n",
      " [18  8]\n",
      " [18  8]]\n"
     ]
    },
    {
     "ename": "ValueError",
     "evalue": "cannot reshape array of size 35 into shape (5,3)",
     "output_type": "error",
     "traceback": [
      "\u001b[0;31m---------------------------------------------------------------------------\u001b[0m",
      "\u001b[0;31mValueError\u001b[0m                                Traceback (most recent call last)",
      "\u001b[0;32m<ipython-input-17-b79d344f8b91>\u001b[0m in \u001b[0;36m<module>\u001b[0;34m\u001b[0m\n\u001b[1;32m     18\u001b[0m \u001b[0;31m#print(np.flip(qq[:,:2]))\u001b[0m\u001b[0;34m\u001b[0m\u001b[0;34m\u001b[0m\u001b[0;34m\u001b[0m\u001b[0m\n\u001b[1;32m     19\u001b[0m \u001b[0;31m# correct answer is g0=31.63,n=177828\u001b[0m\u001b[0;34m\u001b[0m\u001b[0;34m\u001b[0m\u001b[0;34m\u001b[0m\u001b[0m\n\u001b[0;32m---> 20\u001b[0;31m \u001b[0mg0\u001b[0m\u001b[0;34m=\u001b[0m\u001b[0;36m10\u001b[0m\u001b[0;34m**\u001b[0m\u001b[0;34m(\u001b[0m\u001b[0mp\u001b[0m\u001b[0;34m.\u001b[0m\u001b[0m_modelratios\u001b[0m\u001b[0;34m[\u001b[0m\u001b[0;34m'OI_145/CII_158'\u001b[0m\u001b[0;34m]\u001b[0m\u001b[0;34m.\u001b[0m\u001b[0mwcs\u001b[0m\u001b[0;34m.\u001b[0m\u001b[0mwcs_pix2world\u001b[0m\u001b[0;34m(\u001b[0m\u001b[0mnp\u001b[0m\u001b[0;34m.\u001b[0m\u001b[0mflip\u001b[0m\u001b[0;34m(\u001b[0m\u001b[0mqq\u001b[0m\u001b[0;34m[\u001b[0m\u001b[0;34m:\u001b[0m\u001b[0;34m,\u001b[0m\u001b[0;34m:\u001b[0m\u001b[0;36m2\u001b[0m\u001b[0;34m]\u001b[0m\u001b[0;34m)\u001b[0m\u001b[0;34m,\u001b[0m\u001b[0;36m0\u001b[0m\u001b[0;34m)\u001b[0m\u001b[0;34m)\u001b[0m\u001b[0;34m[\u001b[0m\u001b[0;34m:\u001b[0m\u001b[0;34m,\u001b[0m\u001b[0;36m1\u001b[0m\u001b[0;34m]\u001b[0m\u001b[0;34m.\u001b[0m\u001b[0mreshape\u001b[0m\u001b[0;34m(\u001b[0m\u001b[0;36m5\u001b[0m\u001b[0;34m,\u001b[0m\u001b[0;36m3\u001b[0m\u001b[0;34m)\u001b[0m\u001b[0;34m\u001b[0m\u001b[0;34m\u001b[0m\u001b[0m\n\u001b[0m\u001b[1;32m     21\u001b[0m \u001b[0mn\u001b[0m \u001b[0;34m=\u001b[0m\u001b[0;36m10\u001b[0m\u001b[0;34m**\u001b[0m\u001b[0;34m(\u001b[0m\u001b[0mp\u001b[0m\u001b[0;34m.\u001b[0m\u001b[0m_modelratios\u001b[0m\u001b[0;34m[\u001b[0m\u001b[0;34m'OI_145/CII_158'\u001b[0m\u001b[0;34m]\u001b[0m\u001b[0;34m.\u001b[0m\u001b[0mwcs\u001b[0m\u001b[0;34m.\u001b[0m\u001b[0mwcs_pix2world\u001b[0m\u001b[0;34m(\u001b[0m\u001b[0mnp\u001b[0m\u001b[0;34m.\u001b[0m\u001b[0mflip\u001b[0m\u001b[0;34m(\u001b[0m\u001b[0mqq\u001b[0m\u001b[0;34m[\u001b[0m\u001b[0;34m:\u001b[0m\u001b[0;34m,\u001b[0m\u001b[0;34m:\u001b[0m\u001b[0;36m2\u001b[0m\u001b[0;34m]\u001b[0m\u001b[0;34m)\u001b[0m\u001b[0;34m,\u001b[0m\u001b[0;36m0\u001b[0m\u001b[0;34m)\u001b[0m\u001b[0;34m)\u001b[0m\u001b[0;34m[\u001b[0m\u001b[0;34m:\u001b[0m\u001b[0;34m,\u001b[0m\u001b[0;36m0\u001b[0m\u001b[0;34m]\u001b[0m\u001b[0;34m.\u001b[0m\u001b[0mreshape\u001b[0m\u001b[0;34m(\u001b[0m\u001b[0;36m5\u001b[0m\u001b[0;34m,\u001b[0m\u001b[0;36m3\u001b[0m\u001b[0;34m)\u001b[0m\u001b[0;34m\u001b[0m\u001b[0;34m\u001b[0m\u001b[0m\n\u001b[1;32m     22\u001b[0m \u001b[0;34m\u001b[0m\u001b[0m\n",
      "\u001b[0;31mValueError\u001b[0m: cannot reshape array of size 35 into shape (5,3)"
     ]
    }
   ],
   "source": [
    "#my_c = NDCube(p._reducedChisq.data[0:2],p._reducedChisq.wcs,missing_axes=[False,False,False,False])\n",
    "#p._reducedChisq.data.ndim\n",
    "#p._reducedChisq.wcs.naxis\n",
    "#p._reducedChisq.wcs.wcs_pix2world(2,0,0,ra_dec_order=True)\n",
    "z=np.amin(p._reducedChisq,(0,1))\n",
    "#print(z,z.shape)\n",
    "#np.argmin(p._reducedChisq.data,axis=0)\n",
    "#qqq=np.where(p._reducedChisq==z)\n",
    "#q1=np.vstack(qqq)\n",
    "qq=np.transpose(np.vstack(np.where(p._reducedChisq==z)))\n",
    "print(qq[:,:2])\n",
    "#print(\"QQQ \",qqq,\"\\nQ1 \",q1,\"\\n QQ\",qq)\n",
    "#p._reducedChisq.wcs.wcs_pix2world([[8,17]],0)\n",
    "# qq[:,:2] takes the first two columns of qq\n",
    "# [:,[1,0]] swaps those columns\n",
    "# np.flip would also swap them.\n",
    "#print(qq[:,:2][:,[1,0]])\n",
    "#print(np.flip(qq[:,:2]))\n",
    "# correct answer is g0=31.63,n=177828\n",
    "g0=10**(p._modelratios['OI_145/CII_158'].wcs.wcs_pix2world(np.flip(qq[:,:2]),0))[:,1].reshape(5,3)\n",
    "n =10**(p._modelratios['OI_145/CII_158'].wcs.wcs_pix2world(np.flip(qq[:,:2]),0))[:,0].reshape(5,3)\n",
    "\n",
    "print(\"g0=\",g0)\n",
    "print(\"n=\",n)\n",
    "#xx=np.array([qqq[1],qqq[0]]).transpose()\n",
    "#xx"
   ]
  },
  {
   "cell_type": "code",
   "execution_count": null,
   "metadata": {},
   "outputs": [],
   "source": [
    "g0_map=p._observedratios['OI_145/CII_158'].copy()\n",
    "g0_map.data=g0\n",
    "n_map=p._observedratios['OI_145/CII_158'].copy()\n",
    "n_map.data=n\n",
    "#p._plot(g0_map,cmap='magma',image=True,contours=True,levels=None,measurements=None)\n",
    "p._plot(n_map,cmap='magma',image=True,contours=True,levels=None,measurements=None)\n",
    "p._observedratios['OI_145/CII_158'].data.shape == n_map.data.shape\n"
   ]
  },
  {
   "cell_type": "code",
   "execution_count": null,
   "metadata": {},
   "outputs": [],
   "source": [
    "p.makeRatioOverlays()"
   ]
  },
  {
   "cell_type": "code",
   "execution_count": null,
   "metadata": {},
   "outputs": [],
   "source": [
    "# flatten the 3 and 4 dimensions of Mat and obtain the 1d index for the maximum\n",
    "# for each p1 and p2\n",
    "Mat = p._reducedChisq.data\n",
    "index1d = np.argmin(Mat.reshape(Mat.shape[0],Mat.shape[1],-1),axis=2)\n",
    "\n",
    "# compute the indices of the 3 and 4 dimensionality for all p1 and p2\n",
    "index_x, index_y = np.unravel_index(index1d,Mat[0,0].shape)\n",
    "\n",
    "# bring the indices into the right shape\n",
    "index = np.array((index_x,index_y)).reshape(2,-1).transpose()\n",
    "\n",
    "# get the maxima\n",
    "val = np.amin(Mat,axis=(2,3)).reshape(-1)\n",
    "\n",
    "# combine maxima and indices\n",
    "sol = np.column_stack((val,index))\n",
    "\n",
    "np.shape(sol)\n"
   ]
  },
  {
   "cell_type": "code",
   "execution_count": null,
   "metadata": {},
   "outputs": [],
   "source": [
    "p._reducedChisq.data.min()\n",
    "#p.getBestnG0()\n",
    "#p._chisq[0][1]"
   ]
  },
  {
   "cell_type": "code",
   "execution_count": null,
   "metadata": {},
   "outputs": [],
   "source": [
    "type(p._measurements['OI_145'])\n",
    "type(p._chisq)\n",
    "np.shape(p._chisq)"
   ]
  },
  {
   "cell_type": "code",
   "execution_count": null,
   "metadata": {},
   "outputs": [],
   "source": [
    "plt.imshow(p._chisq.data.transpose(2,3,0,1)[0,0,0:,2:],cmap='rainbow')\n",
    "plt.contour(p._chisq.data.transpose(2,3,0,1)[0,0,0:,2:])"
   ]
  },
  {
   "cell_type": "code",
   "execution_count": null,
   "metadata": {},
   "outputs": [],
   "source": [
    "figs, axs = plt.subplots(xsize,ysize, sharex=True,sharey=True, figsize=(ysize,xsize))\n",
    "axs = axs.flatten()\n",
    "print(type(axs[0]))\n",
    "print(np.shape(p._reducedChisq))\n",
    "imgs = np.reshape(p._reducedChisq,(29,25,15))\n",
    "img2 = np.swapaxes(imgs,0,1)\n",
    "img3 = np.swapaxes(img2,0,2)\n",
    "print(np.shape(img3))\n",
    "print(np.shape(axs))\n",
    "i=0\n",
    "for ax in axs:\n",
    "    #print(type(ax))\n",
    "    ax.imshow(img3[i],cmap='rainbow')\n",
    "    #print(np.shape(imgs[i]))\n",
    "    #print(np.min(img2[i]))\n",
    "    i=i+1\n",
    "plt.tight_layout()"
   ]
  },
  {
   "cell_type": "code",
   "execution_count": null,
   "metadata": {},
   "outputs": [],
   "source": [
    "import yt"
   ]
  },
  {
   "cell_type": "code",
   "execution_count": null,
   "metadata": {},
   "outputs": [],
   "source": [
    "p.writeChisq()\n",
    "ds = yt.load(\"chisq.fits\", nan_mask=0.0)"
   ]
  },
  {
   "cell_type": "code",
   "execution_count": null,
   "metadata": {},
   "outputs": [],
   "source": [
    "np.argmin(img3[1],axis=0)\n",
    "ind = np.unravel_index(np.argmin(img3, axis=None), img3.shape)\n",
    "print(ind)"
   ]
  },
  {
   "cell_type": "code",
   "execution_count": null,
   "metadata": {},
   "outputs": [],
   "source": [
    "np.random.rand(ysize,xsize)"
   ]
  },
  {
   "cell_type": "code",
   "execution_count": null,
   "metadata": {},
   "outputs": [],
   "source": [
    "plt.imshow(np.random.rand(ysize,xsize))"
   ]
  },
  {
   "cell_type": "code",
   "execution_count": null,
   "metadata": {},
   "outputs": [],
   "source": [
    "u=np.round(np.random.rand(3*2*4*5),2)\n",
    "u[::7]=-1\n",
    "q=u.reshape(4,5,3,2)\n",
    "print(q)\n",
    "print(np.amin(q,(0,1)))"
   ]
  },
  {
   "cell_type": "code",
   "execution_count": null,
   "metadata": {},
   "outputs": [],
   "source": [
    "ff=np.where(q==np.amin(q,(0,1)))\n",
    "print(ff)\n",
    "qq=np.transpose(np.vstack(ff))\n",
    "print(qq)"
   ]
  },
  {
   "cell_type": "code",
   "execution_count": null,
   "metadata": {},
   "outputs": [],
   "source": [
    "np.amin(z,1)"
   ]
  },
  {
   "cell_type": "code",
   "execution_count": null,
   "metadata": {},
   "outputs": [],
   "source": [
    "p._chisq.shape"
   ]
  },
  {
   "cell_type": "code",
   "execution_count": null,
   "metadata": {},
   "outputs": [],
   "source": [
    "np.shape(np.delete(p._chisq,3,2))"
   ]
  },
  {
   "cell_type": "code",
   "execution_count": null,
   "metadata": {},
   "outputs": [],
   "source": [
    "u=np.zeros(2*3*4*5).reshape(2,3,4,5)\n",
    "np.fill_diagonal(u[0][0],-1)\n",
    "u[0][1][2]=-2\n",
    "u[0][2][1]=-3\n",
    "u[1][0][0][3]=-4\n",
    "u[1][0][1][3]=-4\n",
    "u[1][0][2][3]=-4\n",
    "u[1][0][3][3]=-4\n",
    "u[1][1][0][4]=-5\n",
    "u[1][1][1][4]=-5\n",
    "u[1][1][2][4]=-5\n",
    "u[1][1][3][4]=-5\n",
    "u[1][2][1]=-9\n",
    "u[0][1][0][2]=-6\n",
    "u[0][2][3][4]=-8\n",
    "u[0][1][3][4]=-7\n",
    "u[1][2][3][2]=-999\n",
    "u"
   ]
  },
  {
   "cell_type": "code",
   "execution_count": null,
   "metadata": {},
   "outputs": [],
   "source": [
    "print(np.amin(u,1))\n",
    "h=np.amin(u,(0,1))\n",
    "print(\"h=\",h)\n",
    "print(np.shape(h))"
   ]
  },
  {
   "cell_type": "code",
   "execution_count": null,
   "metadata": {},
   "outputs": [],
   "source": [
    "gg,nn,xx,yy=np.where(u==h)\n",
    "#print(w)\n",
    "#print(np.shape(w))\n",
    "#u[w]"
   ]
  }
 ],
 "metadata": {
  "kernelspec": {
   "display_name": "Python 3",
   "language": "python",
   "name": "python3"
  },
  "language_info": {
   "codemirror_mode": {
    "name": "ipython",
    "version": 3
   },
   "file_extension": ".py",
   "mimetype": "text/x-python",
   "name": "python",
   "nbconvert_exporter": "python",
   "pygments_lexer": "ipython3",
   "version": "3.6.9"
  }
 },
 "nbformat": 4,
 "nbformat_minor": 2
}
