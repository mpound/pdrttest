{
 "cells": [
  {
   "cell_type": "markdown",
   "metadata": {},
   "source": [
    "# Create 2D images of flux maps for testing pdrtpy"
   ]
  },
  {
   "cell_type": "code",
   "execution_count": 5,
   "metadata": {},
   "outputs": [],
   "source": [
    "import numpy as np\n",
    "import scipy.stats as stats\n",
    "\n",
    "from astropy.io import fits\n",
    "import astropy.wcs as wcs\n",
    "import astropy.units as u\n",
    "from astropy.table import Table\n",
    "from astropy.nddata import NDDataArray, CCDData, NDUncertainty, StdDevUncertainty, VarianceUncertainty, InverseVariance\n",
    "from astropy.visualization import simple_norm, ZScaleInterval , ImageNormalize\n",
    "from astropy.visualization.stretch import SinhStretch,  LinearStretch\n",
    "\n",
    "import matplotlib.pyplot as plt\n",
    "import matplotlib.colors as mpcolors\n",
    "from matplotlib import ticker\n",
    "from matplotlib.lines import Line2D\n",
    "from pdrtpy.pdrutils import PDRutils\n",
    "from pdrtpy.measurement import Measurement\n"
   ]
  },
  {
   "cell_type": "code",
   "execution_count": 6,
   "metadata": {},
   "outputs": [],
   "source": [
    "xsize=21\n",
    "ysize=21\n",
    "m1 = Measurement(data=30.,uncertainty = StdDevUncertainty(5.),identifier=\"OI_145\", unit=\"adu\")\n",
    "m2 = Measurement(data=10.,uncertainty = StdDevUncertainty(2.),identifier=\"CI_609\", unit=\"adu\")\n",
    "m3 = Measurement(data=10.,uncertainty = StdDevUncertainty(1.5),identifier=\"CO_21\", unit=\"adu\")\n",
    "m4 = Measurement(data=100.,uncertainty = StdDevUncertainty(10.),identifier=\"CII_158\",unit=\"adu\")\n",
    "m = [m1,m2,m3,m4]"
   ]
  },
  {
   "cell_type": "code",
   "execution_count": 18,
   "metadata": {},
   "outputs": [
    {
     "name": "stdout",
     "output_type": "stream",
     "text": [
      "Filename: (No file associated with this HDUList)\n",
      "No.    Name      Ver    Type      Cards   Dimensions   Format\n",
      "  0  OI_145 data image    1 PrimaryHDU      10   (20, 20)   float64   \n",
      "  1  OI_145 error image    1 ImageHDU        11   (20, 20)   float64   \n",
      "Filename: (No file associated with this HDUList)\n",
      "No.    Name      Ver    Type      Cards   Dimensions   Format\n",
      "  0  CI_609 data image    1 PrimaryHDU      10   (20, 20)   float64   \n",
      "  1  CI_609 error image    1 ImageHDU        11   (20, 20)   float64   \n",
      "Filename: (No file associated with this HDUList)\n",
      "No.    Name      Ver    Type      Cards   Dimensions   Format\n",
      "  0  CO_21 data image    1 PrimaryHDU      10   (20, 20)   float64   \n",
      "  1  CO_21 error image    1 ImageHDU        11   (20, 20)   float64   \n",
      "Filename: (No file associated with this HDUList)\n",
      "No.    Name      Ver    Type      Cards   Dimensions   Format\n",
      "  0  CII_158 data image    1 PrimaryHDU      10   (20, 20)   float64   \n",
      "  1  CII_158 error image    1 ImageHDU        11   (20, 20)   float64   \n"
     ]
    }
   ],
   "source": [
    "crpix1=10\n",
    "crpix2=10\n",
    "\n",
    "for a in m:\n",
    "    data = np.full((xsize,ysize),a.flux)\n",
    "    error = np.full((xsize,ysize),a.error)\n",
    "    hdu = fits.PrimaryHDU(data)\n",
    "    hdu.header['cprix1']=crpix1\n",
    "    hdu.header['crpix2']=crpix2\n",
    "    hdu.header['extname']= a.id+ ' data image'\n",
    "    hdu.header['cunit']=a.unit.name\n",
    "    hde = fits.ImageHDU(error)\n",
    "    hde.header['cprix1']=crpix1\n",
    "    hde.header['crpix2']=crpix2\n",
    "    hde.header['extname']= a.id + ' error image'   \n",
    "    hde.header['cunit']=a.unit.name\n",
    "    hdul = fits.HDUList([hdu,hde])\n",
    "    hdul.info()\n",
    "    hdul.writeto(a.id+\"_fakeobs.fits\")"
   ]
  },
  {
   "cell_type": "code",
   "execution_count": null,
   "metadata": {},
   "outputs": [],
   "source": []
  }
 ],
 "metadata": {
  "kernelspec": {
   "display_name": "Python 3",
   "language": "python",
   "name": "python3"
  },
  "language_info": {
   "codemirror_mode": {
    "name": "ipython",
    "version": 3
   },
   "file_extension": ".py",
   "mimetype": "text/x-python",
   "name": "python",
   "nbconvert_exporter": "python",
   "pygments_lexer": "ipython3",
   "version": "3.6.8"
  }
 },
 "nbformat": 4,
 "nbformat_minor": 2
}
