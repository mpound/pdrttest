{
 "cells": [
  {
   "cell_type": "markdown",
   "metadata": {},
   "source": [
    "# Create 2D images of flux maps for testing pdrtpy"
   ]
  },
  {
   "cell_type": "code",
   "execution_count": 1,
   "metadata": {},
   "outputs": [
    {
     "name": "stderr",
     "output_type": "stream",
     "text": [
      "/n/algol2/mpound/anaconda3/lib/python3.6/site-packages/astropy/table/column.py:981: FutureWarning: elementwise comparison failed; returning scalar instead, but in the future will perform elementwise comparison\n",
      "  return getattr(self.data, op)(other)\n"
     ]
    }
   ],
   "source": [
    "import numpy as np\n",
    "import scipy.stats as stats\n",
    "\n",
    "from astropy.io import fits\n",
    "import astropy.wcs as wcs\n",
    "import astropy.units as u\n",
    "from astropy.table import Table\n",
    "from astropy.nddata import NDDataArray, CCDData, NDUncertainty, StdDevUncertainty, VarianceUncertainty, InverseVariance\n",
    "from astropy.visualization import simple_norm, ZScaleInterval , ImageNormalize\n",
    "from astropy.visualization.stretch import SinhStretch,  LinearStretch\n",
    "\n",
    "import matplotlib.pyplot as plt\n",
    "import matplotlib.colors as mpcolors\n",
    "from matplotlib import ticker\n",
    "from matplotlib.lines import Line2D\n",
    "from pdrtpy.pdrutils import PDRutils\n",
    "from pdrtpy.measurement import Measurement\n"
   ]
  },
  {
   "cell_type": "code",
   "execution_count": 2,
   "metadata": {},
   "outputs": [
    {
     "name": "stdout",
     "output_type": "stream",
     "text": [
      "args= 100.0\n",
      "kwargs= uncertainty identifier unit\n"
     ]
    }
   ],
   "source": [
    "\n",
    "m1 = Measurement(data=30.,uncertainty = StdDevUncertainty(5.),identifier=\"OI_145\", unit=\"adu\")\n",
    "m2 = Measurement(data=10.,uncertainty = StdDevUncertainty(2.),identifier=\"CI_609\", unit=\"adu\")\n",
    "m3 = Measurement(data=10.,uncertainty = StdDevUncertainty(1.5),identifier=\"CO_21\", unit=\"adu\")\n",
    "m4 = Measurement(100.,uncertainty = StdDevUncertainty(10.),identifier=\"CII_158\",unit=\"adu\",debug=True)\n",
    "m = [m1,m2,m3,m4]"
   ]
  },
  {
   "cell_type": "code",
   "execution_count": 3,
   "metadata": {},
   "outputs": [
    {
     "name": "stdout",
     "output_type": "stream",
     "text": [
      "Filename: (No file associated with this HDUList)\n",
      "No.    Name      Ver    Type      Cards   Dimensions   Format\n",
      "  0  DATA          1 PrimaryHDU      19   (3, 5)   float64   \n",
      "  1  UNCERT        1 ImageHDU        21   (3, 5)   float64   \n",
      "Filename: (No file associated with this HDUList)\n",
      "No.    Name      Ver    Type      Cards   Dimensions   Format\n",
      "  0  DATA          1 PrimaryHDU      19   (3, 5)   float64   \n",
      "  1  UNCERT        1 ImageHDU        21   (3, 5)   float64   \n",
      "Filename: (No file associated with this HDUList)\n",
      "No.    Name      Ver    Type      Cards   Dimensions   Format\n",
      "  0  DATA          1 PrimaryHDU      19   (3, 5)   float64   \n",
      "  1  UNCERT        1 ImageHDU        21   (3, 5)   float64   \n",
      "Filename: (No file associated with this HDUList)\n",
      "No.    Name      Ver    Type      Cards   Dimensions   Format\n",
      "  0  DATA          1 PrimaryHDU      19   (3, 5)   float64   \n",
      "  1  UNCERT        1 ImageHDU        21   (3, 5)   float64   \n"
     ]
    }
   ],
   "source": [
    "xsize=3\n",
    "ysize=5\n",
    "crpix1=2\n",
    "crpix2=3\n",
    "\n",
    "for a in m:\n",
    "    # np arrays are opposite of FITS convention\n",
    "    data = np.full((ysize,xsize),a.flux)\n",
    "    if False:\n",
    "        randata = a.flux*np.random.rand(ysize,xsize)\n",
    "        data = data+randata\n",
    "    error = np.full((ysize,xsize),a.error)\n",
    "    #print(data)\n",
    "    #print(error)\n",
    "    hdu = fits.PrimaryHDU(data)\n",
    "    hdu.header['crpix1']=crpix1\n",
    "    hdu.header['crpix2']=crpix2\n",
    "    hdu.header['ctype1']='RA---SIN'\n",
    "    hdu.header['ctype2']='DEC--SIN'\n",
    "    hdu.header['cdelt1']=0.016667\n",
    "    hdu.header['cdelt2']=0.016667\n",
    "    hdu.header['cunit1']='deg'\n",
    "    hdu.header['cunit2']='deg'\n",
    "    hdu.header['crval1']=43.3458\n",
    "    hdu.header['crval2']=19.2514\n",
    "    hdu.header['equinox']=2000.0\n",
    "    hdu.header['extname']= a.id+ ' data image'\n",
    "    hdu.header['extname']= 'DATA'\n",
    "    #hdu.header['xtension'] = 'image'\n",
    "    hdu.header['bunit']=a.unit.name\n",
    "    hde = fits.ImageHDU(error)\n",
    "    hde.header['crpix1']=crpix1\n",
    "    hde.header['crpix2']=crpix2\n",
    "    hde.header['ctype1']='RA--SIN'\n",
    "    hde.header['ctype2']='DEC-SIN'\n",
    "    hde.header['cdelt1']=0.016667\n",
    "    hde.header['cdelt2']=0.016667\n",
    "    hde.header['cunit1']='deg'\n",
    "    hde.header['cunit2']='deg'\n",
    "    hde.header['crval1']=43.3458\n",
    "    hde.header['crval2']=19.2514\n",
    "    hde.header['equinox']=2000.0\n",
    "    hde.header['extname']= 'UNCERT'\n",
    "    hde.header['bunit']=a.unit.name\n",
    "    hde.header['utype']='StdDevUncertainty'\n",
    "    hdul = fits.HDUList([hdu,hde])\n",
    "    hdul.info()\n",
    "    hdul.writeto(a.id+\"_fakeobs.fits\",overwrite=True)"
   ]
  },
  {
   "cell_type": "code",
   "execution_count": 4,
   "metadata": {},
   "outputs": [],
   "source": [
    "z2 = Measurement.read(\"CI_609_fakeobs.fits\",identifier='CI_609')\n",
    "z1 = Measurement.read(\"OI_145_fakeobs.fits\",identifier=\"OI_145\")\n",
    "z3 = Measurement.read(\"CO_21_fakeobs.fits\",identifier=\"CO_21\")\n",
    "z4 = Measurement.read(\"CII_158_fakeobs.fits\",identifier=\"CII_158\")\n",
    "z = [z1,z2,z3,z4]"
   ]
  },
  {
   "cell_type": "code",
   "execution_count": 5,
   "metadata": {},
   "outputs": [
    {
     "data": {
      "text/plain": [
       "SIMPLE  =                    T / conforms to FITS standard                      \n",
       "BITPIX  =                  -64 / array data type                                \n",
       "NAXIS   =                    2 / number of array dimensions                     \n",
       "NAXIS1  =                    3                                                  \n",
       "NAXIS2  =                    5                                                  \n",
       "EXTEND  =                    T                                                  \n",
       "EXTNAME = 'DATA    '                                                            \n",
       "BUNIT   = 'adu     '                                                            \n",
       "WCSAXES =                    2 / Number of coordinate axes                      \n",
       "CRPIX1  =                  2.0 / Pixel coordinate of reference point            \n",
       "CRPIX2  =                  3.0 / Pixel coordinate of reference point            \n",
       "CDELT1  =             0.016667 / [deg] Coordinate increment at reference point  \n",
       "CDELT2  =             0.016667 / [deg] Coordinate increment at reference point  \n",
       "CUNIT1  = 'deg'                / Units of coordinate increment and value        \n",
       "CUNIT2  = 'deg'                / Units of coordinate increment and value        \n",
       "CTYPE1  = 'RA---SIN'           / Right ascension, orthographic/synthesis project\n",
       "CTYPE2  = 'DEC--SIN'           / Declination, orthographic/synthesis projection \n",
       "CRVAL1  =              43.3458 / [deg] Coordinate value at reference point      \n",
       "CRVAL2  =              19.2514 / [deg] Coordinate value at reference point      \n",
       "LONPOLE =                180.0 / [deg] Native longitude of celestial pole       \n",
       "LATPOLE =              19.2514 / [deg] Native latitude of celestial pole        \n",
       "RADESYS = 'FK5'                / Equatorial coordinate system                   \n",
       "EQUINOX =               2000.0 / [yr] Equinox of equatorial coordinates         "
      ]
     },
     "execution_count": 5,
     "metadata": {},
     "output_type": "execute_result"
    }
   ],
   "source": [
    "hh = CCDData.read(\"CI_609_fakeobs.fits\")\n",
    "hh.header\n",
    "myhdu = hh.to_hdu()\n",
    "myhdu[0].header"
   ]
  },
  {
   "cell_type": "code",
   "execution_count": 6,
   "metadata": {},
   "outputs": [
    {
     "data": {
      "text/plain": [
       "WCS Keywords\n",
       "\n",
       "Number of WCS axes: 2\n",
       "CTYPE : 'RA---SIN'  'DEC--SIN'  \n",
       "CRVAL : 43.3458  19.2514  \n",
       "CRPIX : 2.0  3.0  \n",
       "PC1_1 PC1_2  : 1.0  0.0  \n",
       "PC2_1 PC2_2  : 0.0  1.0  \n",
       "CDELT : 0.016667  0.016667  \n",
       "NAXIS : 3  5"
      ]
     },
     "execution_count": 6,
     "metadata": {},
     "output_type": "execute_result"
    }
   ],
   "source": [
    "hh.wcs"
   ]
  },
  {
   "cell_type": "code",
   "execution_count": 9,
   "metadata": {},
   "outputs": [],
   "source": [
    "p = PDRutils(\"current_models.tab\",measurements = z)"
   ]
  },
  {
   "cell_type": "code",
   "execution_count": 10,
   "metadata": {},
   "outputs": [
    {
     "data": {
      "text/plain": [
       "{'OI_145/CII_158': 'o145ciiweb.fits',\n",
       " 'CI_609/CO_21': 'cico21web.fits',\n",
       " 'CII_158/CI_609': 'ciici609web.fits'}"
      ]
     },
     "execution_count": 10,
     "metadata": {},
     "output_type": "execute_result"
    }
   ],
   "source": [
    "p._modelfilesUsed\n"
   ]
  },
  {
   "cell_type": "code",
   "execution_count": 11,
   "metadata": {},
   "outputs": [
    {
     "data": {
      "text/plain": [
       "(5, 3)"
      ]
     },
     "execution_count": 11,
     "metadata": {},
     "output_type": "execute_result"
    }
   ],
   "source": [
    "p.read_ccd(unit='adu')\n",
    "p.computeValidRatios()\n",
    "p.check_ratio_shapes()\n",
    "p._observedratios['OI_145/CII_158'].shape"
   ]
  },
  {
   "cell_type": "code",
   "execution_count": 12,
   "metadata": {},
   "outputs": [],
   "source": [
    "p.computeDeltaSqMap()"
   ]
  },
  {
   "cell_type": "code",
   "execution_count": 13,
   "metadata": {},
   "outputs": [
    {
     "data": {
      "text/plain": [
       "pdrtpy.measurement.Measurement"
      ]
     },
     "execution_count": 13,
     "metadata": {},
     "output_type": "execute_result"
    }
   ],
   "source": [
    "type(p._measurements['OI_145'])"
   ]
  },
  {
   "cell_type": "code",
   "execution_count": 14,
   "metadata": {},
   "outputs": [
    {
     "data": {
      "text/plain": [
       "astropy.nddata.ccddata.CCDData"
      ]
     },
     "execution_count": 14,
     "metadata": {},
     "output_type": "execute_result"
    }
   ],
   "source": [
    "p.computeChisq()\n",
    "#p._chisq.write(\"chisq.fits\",overwrite=True)\n",
    "type(p._chisq)"
   ]
  },
  {
   "cell_type": "code",
   "execution_count": null,
   "metadata": {},
   "outputs": [],
   "source": [
    "file=\"chisq.fits\"\n",
    "k = fits.open(file)\n",
    "k.info()\n",
    "k[0].header"
   ]
  },
  {
   "cell_type": "code",
   "execution_count": null,
   "metadata": {},
   "outputs": [],
   "source": [
    "plt.imshow(k[0].data.transpose(2,3,0,1)[0,0,0:,2:],cmap='rainbow')\n",
    "plt.contour(k[0].data.transpose(2,3,0,1)[0,0,0:,2:])"
   ]
  },
  {
   "cell_type": "code",
   "execution_count": null,
   "metadata": {},
   "outputs": [],
   "source": [
    "s1 = p._measurements[list(p._measurements.keys())[0]].shape\n",
    "s1"
   ]
  },
  {
   "cell_type": "code",
   "execution_count": null,
   "metadata": {},
   "outputs": [],
   "source": [
    " np.all([m.shape == s1 for m in p._measurements.values()])"
   ]
  },
  {
   "cell_type": "code",
   "execution_count": null,
   "metadata": {},
   "outputs": [],
   "source": [
    "a = np.ones(20)\n",
    "b = np.ones(100)\n",
    "c=b.reshape(10,10)"
   ]
  },
  {
   "cell_type": "code",
   "execution_count": null,
   "metadata": {
    "scrolled": true
   },
   "outputs": [],
   "source": [
    "p.read_ccd(\"adu\")\n",
    "p.computeValidRatios()"
   ]
  },
  {
   "cell_type": "code",
   "execution_count": null,
   "metadata": {},
   "outputs": [],
   "source": [
    "np.shape(p._modelratios['OI_145/CII_158'])"
   ]
  },
  {
   "cell_type": "code",
   "execution_count": null,
   "metadata": {},
   "outputs": [],
   "source": [
    "z=np.reshape(p._modelratios['OI_145/CII_158'],(725))"
   ]
  },
  {
   "cell_type": "code",
   "execution_count": null,
   "metadata": {},
   "outputs": [],
   "source": [
    "type(z)"
   ]
  },
  {
   "cell_type": "code",
   "execution_count": null,
   "metadata": {},
   "outputs": [],
   "source": [
    "np.shape(p._observedratios['OI_145/CII_158'])\n",
    "#np.shape(z)"
   ]
  },
  {
   "cell_type": "code",
   "execution_count": null,
   "metadata": {},
   "outputs": [],
   "source": [
    "ff = list()\n",
    "gg= list()\n",
    "for pix in z:\n",
    "    plane = (p._observedratios['OI_145/CII_158'].flux-pix)/p._observedratios['OI_145/CII_158'].error\n",
    "    g = (pix - p._observedratios['OI_145/CII_158'].flux)/p._observedratios['OI_145/CII_158'].error\n",
    "    #print(plane.shape)\n",
    "    plane2 = plane*plane\n",
    "    gg2 = g*g\n",
    "    ff.append(plane2)\n",
    "    gg.append(gg2)\n",
    "    "
   ]
  },
  {
   "cell_type": "code",
   "execution_count": null,
   "metadata": {},
   "outputs": [],
   "source": [
    "ngg = np.array(gg)\n",
    "np.shape(ngg)"
   ]
  },
  {
   "cell_type": "code",
   "execution_count": null,
   "metadata": {},
   "outputs": [],
   "source": [
    "r='OI_145/CII_158'\n",
    "newshape = np.hstack((p._modelratios[r].shape,p._observedratios[r].shape))\n",
    "print(newshape)\n",
    "xqq = np.reshape(ff,newshape)\n",
    "print(xqq.shape)"
   ]
  },
  {
   "cell_type": "code",
   "execution_count": null,
   "metadata": {},
   "outputs": [],
   "source": [
    "725*23*21\n",
    "qq=np.reshape(ngg,(29,25,ysize,xsize))\n",
    "p._modelratios['OI_145/CII_158'].size\n",
    "print(qq.shape)"
   ]
  },
  {
   "cell_type": "code",
   "execution_count": null,
   "metadata": {},
   "outputs": [],
   "source": [
    "p._deltasq= dict()\n",
    "p._deltasq['OI_145/CII_158'] = CCDData(ff[0],unit=\"adu\")"
   ]
  },
  {
   "cell_type": "code",
   "execution_count": null,
   "metadata": {},
   "outputs": [],
   "source": [
    "sumary = sum((p._deltasq[r]._data for r in p._deltasq))\n",
    "len(p._deltasq)-1"
   ]
  },
  {
   "cell_type": "code",
   "execution_count": null,
   "metadata": {},
   "outputs": [],
   "source": [
    "np.hstack((p._modelratios['OI_145/CII_158'].shape,p._observedratios['OI_145/CII_158'].shape))"
   ]
  },
  {
   "cell_type": "code",
   "execution_count": null,
   "metadata": {},
   "outputs": [],
   "source": [
    "np.shape(qqr[0:,0:,0,0])"
   ]
  },
  {
   "cell_type": "code",
   "execution_count": null,
   "metadata": {},
   "outputs": [],
   "source": [
    "plt.imshow(qq[3:,0:,0,0])"
   ]
  },
  {
   "cell_type": "code",
   "execution_count": null,
   "metadata": {},
   "outputs": [],
   "source": [
    "p._chisq.header['CTYPE1']='RA'\n",
    "p._chisq.header['CTYPE2']='DEC'\n",
    "p._chisq.header['CTYPE3']='n'\n",
    "p._chisq.header['CTYPE4']='G0'"
   ]
  },
  {
   "cell_type": "code",
   "execution_count": null,
   "metadata": {},
   "outputs": [],
   "source": [
    "p._chisq.write(\"test.fits\",overwrite=True)"
   ]
  },
  {
   "cell_type": "code",
   "execution_count": null,
   "metadata": {},
   "outputs": [],
   "source": [
    "nic = fits.open(\"NICMOSn4hk12010_mos.fits\")"
   ]
  },
  {
   "cell_type": "code",
   "execution_count": null,
   "metadata": {},
   "outputs": [],
   "source": [
    "p.computeDeltaSqMap()"
   ]
  },
  {
   "cell_type": "code",
   "execution_count": null,
   "metadata": {},
   "outputs": [],
   "source": [
    "p.computeChisq()"
   ]
  },
  {
   "cell_type": "code",
   "execution_count": null,
   "metadata": {},
   "outputs": [],
   "source": [
    "p._reducedChisq.shape"
   ]
  },
  {
   "cell_type": "code",
   "execution_count": null,
   "metadata": {},
   "outputs": [],
   "source": [
    "print(np.min(p._reducedChisq))\n",
    "plt.imshow(p._chisq[1][1]) \n",
    "print(29*25*5*3)\n",
    "vvv=np.reshape(p._reducedChisq,(725,15))\n",
    "np.min(p._chisq[10][1])"
   ]
  },
  {
   "cell_type": "code",
   "execution_count": null,
   "metadata": {},
   "outputs": [],
   "source": [
    "plt.ylim([0,10])\n",
    "plt.plot(vvv[200:300])\n",
    "np.min(vvv)"
   ]
  },
  {
   "cell_type": "code",
   "execution_count": 18,
   "metadata": {},
   "outputs": [
    {
     "name": "stdout",
     "output_type": "stream",
     "text": [
      "<class 'matplotlib.axes._subplots.AxesSubplot'>\n",
      "(29, 25, 5, 3)\n",
      "(15, 29, 25)\n",
      "(15,)\n"
     ]
    },
    {
     "data": {
      "image/png": "[encoded data removed]",
      "text/plain": [
       "<Figure size 360x216 with 15 Axes>"
      ]
     },
     "metadata": {
      "needs_background": "light"
     },
     "output_type": "display_data"
    }
   ],
   "source": [
    "figs, axs = plt.subplots(xsize,ysize, sharex=True,sharey=True, figsize=(ysize,xsize))\n",
    "axs = axs.flatten()\n",
    "print(type(axs[0]))\n",
    "print(np.shape(p._reducedChisq))\n",
    "imgs = np.reshape(p._reducedChisq,(29,25,15))\n",
    "img2 = np.swapaxes(imgs,0,1)\n",
    "img3 = np.swapaxes(img2,0,2)\n",
    "print(np.shape(img3))\n",
    "print(np.shape(axs))\n",
    "i=0\n",
    "for ax in axs:\n",
    "    #print(type(ax))\n",
    "    ax.imshow(img3[i],cmap='rainbow')\n",
    "    #print(np.shape(imgs[i]))\n",
    "    #print(np.min(img2[i]))\n",
    "    i=i+1\n",
    "plt.tight_layout()"
   ]
  },
  {
   "cell_type": "code",
   "execution_count": null,
   "metadata": {},
   "outputs": [],
   "source": [
    "np.argmin(img3[1],axis=0)\n",
    "ind = np.unravel_index(np.argmin(img3, axis=None), img3.shape)\n",
    "print(ind)"
   ]
  },
  {
   "cell_type": "code",
   "execution_count": null,
   "metadata": {
    "scrolled": true
   },
   "outputs": [],
   "source": [
    "p.getBestnG0()"
   ]
  },
  {
   "cell_type": "code",
   "execution_count": null,
   "metadata": {},
   "outputs": [],
   "source": [
    "k=fits.open(\"chisqweb.fits\")\n",
    "h = fits.open(\"chisq.fits\")\n",
    "h.info()\n",
    "h[0].header\n"
   ]
  },
  {
   "cell_type": "code",
   "execution_count": null,
   "metadata": {},
   "outputs": [],
   "source": [
    "plt.imshow(k[0].data,cmap='rainbow')"
   ]
  },
  {
   "cell_type": "code",
   "execution_count": null,
   "metadata": {},
   "outputs": [],
   "source": [
    "x=p._reducedChisq.to_hdu()\n",
    "x.info()\n",
    "x[0].header"
   ]
  },
  {
   "cell_type": "code",
   "execution_count": null,
   "metadata": {},
   "outputs": [],
   "source": [
    "x.writeto(\"test2.fits\")"
   ]
  },
  {
   "cell_type": "code",
   "execution_count": null,
   "metadata": {},
   "outputs": [],
   "source": [
    "x[0].header[\"CTYPE1\"]=\"RA---SIN\""
   ]
  },
  {
   "cell_type": "code",
   "execution_count": null,
   "metadata": {},
   "outputs": [],
   "source": [
    "x[0].header"
   ]
  },
  {
   "cell_type": "code",
   "execution_count": null,
   "metadata": {},
   "outputs": [],
   "source": [
    "print(p._observedratios['OI_145/CII_158'].header)"
   ]
  },
  {
   "cell_type": "code",
   "execution_count": null,
   "metadata": {},
   "outputs": [],
   "source": [
    "z4 = Measurement.read(\"CII_158_fakeobs.fits\",identifier=\"CII_158\")"
   ]
  },
  {
   "cell_type": "code",
   "execution_count": null,
   "metadata": {},
   "outputs": [],
   "source": [
    "z4.header"
   ]
  },
  {
   "cell_type": "code",
   "execution_count": null,
   "metadata": {},
   "outputs": [],
   "source": [
    "x = fits.open(\"CII_158_fakeobs.fits\")"
   ]
  },
  {
   "cell_type": "code",
   "execution_count": null,
   "metadata": {},
   "outputs": [],
   "source": [
    "x[0].header"
   ]
  },
  {
   "cell_type": "code",
   "execution_count": null,
   "metadata": {},
   "outputs": [],
   "source": [
    "z4.wcs"
   ]
  },
  {
   "cell_type": "code",
   "execution_count": null,
   "metadata": {},
   "outputs": [],
   "source": [
    "z4.write(\"z4.fits\")"
   ]
  },
  {
   "cell_type": "code",
   "execution_count": null,
   "metadata": {},
   "outputs": [],
   "source": [
    "w=p._reducedChisq.wcs"
   ]
  },
  {
   "cell_type": "code",
   "execution_count": null,
   "metadata": {
    "scrolled": true
   },
   "outputs": [],
   "source": [
    "w"
   ]
  },
  {
   "cell_type": "code",
   "execution_count": null,
   "metadata": {},
   "outputs": [],
   "source": [
    "w.is_celestial"
   ]
  },
  {
   "cell_type": "code",
   "execution_count": null,
   "metadata": {},
   "outputs": [],
   "source": [
    "lon,lat = w.all_pix2world(1,2,0)"
   ]
  },
  {
   "cell_type": "code",
   "execution_count": null,
   "metadata": {},
   "outputs": [],
   "source": [
    "print(lon,lat)"
   ]
  },
  {
   "cell_type": "code",
   "execution_count": null,
   "metadata": {},
   "outputs": [],
   "source": [
    "p._modelratios['OI_145/CII_158'].header"
   ]
  },
  {
   "cell_type": "code",
   "execution_count": null,
   "metadata": {},
   "outputs": [],
   "source": [
    "type(p._modelratios['OI_145/CII_158'])"
   ]
  },
  {
   "cell_type": "code",
   "execution_count": null,
   "metadata": {},
   "outputs": [],
   "source": [
    "w=p._modelratios['OI_145/CII_158'].wcs"
   ]
  },
  {
   "cell_type": "code",
   "execution_count": null,
   "metadata": {},
   "outputs": [],
   "source": [
    "lon,lat = w.all_pix2world([[1,1],[1,2]],0)"
   ]
  },
  {
   "cell_type": "code",
   "execution_count": null,
   "metadata": {},
   "outputs": [],
   "source": [
    "print(lon,lat)"
   ]
  },
  {
   "cell_type": "code",
   "execution_count": null,
   "metadata": {},
   "outputs": [],
   "source": [
    "w2=p._chisq.wcs"
   ]
  },
  {
   "cell_type": "code",
   "execution_count": null,
   "metadata": {},
   "outputs": [],
   "source": [
    "lon,lat = w2.all_pix2world([[1,1],[1,2]],0)"
   ]
  },
  {
   "cell_type": "code",
   "execution_count": null,
   "metadata": {},
   "outputs": [],
   "source": [
    "print(lon,lat)"
   ]
  },
  {
   "cell_type": "code",
   "execution_count": null,
   "metadata": {},
   "outputs": [],
   "source": [
    "a=np.argmin(p._chisq,axis=None)\n",
    "print(a)"
   ]
  },
  {
   "cell_type": "code",
   "execution_count": null,
   "metadata": {},
   "outputs": [],
   "source": [
    "ind = np.unravel_index(a, p._chisq.shape)\n",
    "print(ind)"
   ]
  },
  {
   "cell_type": "code",
   "execution_count": null,
   "metadata": {},
   "outputs": [],
   "source": [
    "p._reducedChisq.data[ind]"
   ]
  },
  {
   "cell_type": "code",
   "execution_count": null,
   "metadata": {},
   "outputs": [],
   "source": [
    "p._chisq = p._chisq+0.01*np.random.random_sample(p._chisq.shape)"
   ]
  },
  {
   "cell_type": "code",
   "execution_count": null,
   "metadata": {},
   "outputs": [],
   "source": [
    "a=np.argmin(p._reducedChisq,axis=0)\n",
    "qqq=a.shape\n",
    "print(a.shape)\n",
    "print(a.transpose().shape)\n",
    "a.transpose()\n",
    "#p._reducedChisq[:,1].shape"
   ]
  },
  {
   "cell_type": "code",
   "execution_count": null,
   "metadata": {},
   "outputs": [],
   "source": [
    "p._reducedChisq[:][:][0]"
   ]
  },
  {
   "cell_type": "code",
   "execution_count": null,
   "metadata": {},
   "outputs": [],
   "source": [
    "ind = np.unravel_index(a, p._chisq.shape)\n",
    "print(ind)"
   ]
  },
  {
   "cell_type": "code",
   "execution_count": null,
   "metadata": {},
   "outputs": [],
   "source": [
    "np.argmin(np.min(p._chisq[:,:,1]))"
   ]
  },
  {
   "cell_type": "code",
   "execution_count": null,
   "metadata": {},
   "outputs": [],
   "source": [
    "p._chisq[:,:,2].shape"
   ]
  },
  {
   "cell_type": "code",
   "execution_count": null,
   "metadata": {},
   "outputs": [],
   "source": [
    "29*25"
   ]
  },
  {
   "cell_type": "code",
   "execution_count": null,
   "metadata": {},
   "outputs": [],
   "source": [
    "np.argmin(imgs,axis=1)"
   ]
  },
  {
   "cell_type": "code",
   "execution_count": null,
   "metadata": {},
   "outputs": [],
   "source": [
    "imgs.shape"
   ]
  },
  {
   "cell_type": "code",
   "execution_count": null,
   "metadata": {},
   "outputs": [],
   "source": [
    "b = np.array([[[33,32,31,3,31,34,35],[44,43,41,48,42,73,49],[525,522,523,526,527,528,529]],[[3,2,1,0,1.1,1.2,1.33],[14,13,11,18,12.1,13.2,14.5],[25,22,23,26,27,28,29]]])\n",
    "print(b.shape)\n",
    "b"
   ]
  },
  {
   "cell_type": "code",
   "execution_count": null,
   "metadata": {},
   "outputs": [],
   "source": [
    "q=np.argmin(b,axis=2)\n",
    "print(q)\n",
    "print(q.shape)\n",
    "xf=np.zeros(q.shape)\n",
    "for j in range(len(q)):\n",
    "    for i in range(len(q[0])):\n",
    "        xf[j,i] = (b[j][i][q[j][i]])\n",
    "        #print(j,i,q[j,i])"
   ]
  },
  {
   "cell_type": "code",
   "execution_count": null,
   "metadata": {},
   "outputs": [],
   "source": [
    "xf"
   ]
  },
  {
   "cell_type": "code",
   "execution_count": null,
   "metadata": {},
   "outputs": [],
   "source": [
    "len(q[0])"
   ]
  },
  {
   "cell_type": "code",
   "execution_count": null,
   "metadata": {},
   "outputs": [],
   "source": [
    "b.shape"
   ]
  },
  {
   "cell_type": "code",
   "execution_count": null,
   "metadata": {},
   "outputs": [],
   "source": []
  }
 ],
 "metadata": {
  "kernelspec": {
   "display_name": "Python 3",
   "language": "python",
   "name": "python3"
  },
  "language_info": {
   "codemirror_mode": {
    "name": "ipython",
    "version": 3
   },
   "file_extension": ".py",
   "mimetype": "text/x-python",
   "name": "python",
   "nbconvert_exporter": "python",
   "pygments_lexer": "ipython3",
   "version": "3.6.8"
  }
 },
 "nbformat": 4,
 "nbformat_minor": 2
}
