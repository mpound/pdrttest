{
 "cells": [
  {
   "cell_type": "code",
   "execution_count": 2,
   "metadata": {},
   "outputs": [
    {
     "name": "stderr",
     "output_type": "stream",
     "text": [
      "/home/mpound/anaconda3/lib/python3.7/site-packages/astropy/table/column.py:984: FutureWarning: elementwise comparison failed; returning scalar instead, but in the future will perform elementwise comparison\n",
      "  result = getattr(super(), op)(other)\n"
     ]
    }
   ],
   "source": [
    "import sys\n",
    "#dlap=\"/home/mpound/src/pdrtpy\"\n",
    "d=\"/lupus2/mpound/pdrtpy\"\n",
    "sys.path.insert(0, d)\n",
    "#sys.path.insert(0,dlap)\n",
    "from astropy.table import Table\n",
    "import astropy.units as u\n",
    "import astropy.constants as constants\n",
    "#from astropy.nddata import NDData\n",
    "\n",
    "\n",
    "from measurement import Measurement\n",
    "from h2excitation import H2Excitation\n",
    "from plot import H2ExcitationPlot\n",
    "import math\n",
    "import matplotlib.pyplot as plt\n",
    "import numpy as np\n",
    "import pdrutils as utils"
   ]
  },
  {
   "cell_type": "code",
   "execution_count": 3,
   "metadata": {},
   "outputs": [
    {
     "name": "stdout",
     "output_type": "stream",
     "text": [
      "(35, 103)\n",
      "INFO: using the unit erg cm^-2 s^-1 sr^-1 passed to the FITS reader instead of the unit adu in the FITS file. [astropy.nddata.ccddata]\n",
      "(35, 103)\n",
      "INFO: using the unit erg cm^-2 s^-1 sr^-1 passed to the FITS reader instead of the unit adu in the FITS file. [astropy.nddata.ccddata]\n",
      "(35, 103)\n",
      "INFO: using the unit erg cm^-2 s^-1 sr^-1 passed to the FITS reader instead of the unit adu in the FITS file. [astropy.nddata.ccddata]\n",
      "(14, 15)\n",
      "INFO: using the unit erg cm^-2 s^-1 sr^-1 passed to the FITS reader instead of the unit adu in the FITS file. [astropy.nddata.ccddata]\n",
      "(14, 15)\n",
      "INFO: using the unit erg cm^-2 s^-1 sr^-1 passed to the FITS reader instead of the unit adu in the FITS file. [astropy.nddata.ccddata]\n"
     ]
    }
   ],
   "source": [
    "Measurement.makemeasurement(\"data/h2_test/n2023_LH_SL1_best_H2_S0_I_emgfit_084.fits\",error=\"20%\",outfile=\"tests0.fits\")\n",
    "m0 = Measurement.read(\"tests0.fits\",unit=\"erg cm^-2 s^-1 sr^-1\",identifier=\"H200S0\")\n",
    "#print(m.uncertainty)\n",
    "Measurement.makemeasurement(\"data/h2_test/n2023_SH_SL1_best_H2_S1_I_emgfit_084.fits\",error=\"20%\",outfile=\"tests1.fits\")\n",
    "m1 = Measurement.read(\"tests1.fits\",unit=\"erg cm^-2 s^-1 sr^-1\",identifier=\"H200S1\")\n",
    "\n",
    "Measurement.makemeasurement(\"data/h2_test/n2023_SH_SL1_best_H2_S2_I_emgfit_084.fits\",error=\"20%\",outfile=\"tests2.fits\")\n",
    "m2 = Measurement.read(\"tests2.fits\",unit=\"erg cm^-2 s^-1 sr^-1\",identifier=\"H200S2\")\n",
    "\n",
    "Measurement.makemeasurement(\"data/h2_test/n2023_SL1_LH_best_H2_S3_I_emgfit_084.fits\",error=\"20%\",outfile=\"tests3.fits\")\n",
    "m3 = Measurement.read(\"tests3.fits\",unit=\"erg cm^-2 s^-1 sr^-1\",identifier=\"H200S3\")\n",
    "\n",
    "Measurement.makemeasurement(\"data/h2_test/n2023_SL2_LH_best_H2_S5_I_emgfit_084.fits\",error=\"20%\",outfile=\"tests5.fits\")\n",
    "m5 = Measurement.read(\"tests5.fits\",unit=\"erg cm^-2 s^-1 sr^-1\",identifier=\"H200S5\")"
   ]
  },
  {
   "cell_type": "code",
   "execution_count": 4,
   "metadata": {
    "scrolled": true
   },
   "outputs": [
    {
     "name": "stdout",
     "output_type": "stream",
     "text": [
      "<class 'measurement.Measurement'>\n"
     ]
    }
   ],
   "source": [
    "h = H2Excitation([m2,m1,m3,m5])\n",
    "h._ac[\"E_upper/k\"]*constants.k_B\n",
    "#h._compute_column_densities()\n",
    "#print(h._column_density[\"H200S1\"].unit)\n",
    "#h._measurements[\"H200S1\"].uncertainty.data\n",
    "cdnorm = h.column_densities(norm=True)\n",
    "print(type(cdnorm[\"H200S1\"]))\n",
    "hplot = H2ExcitationPlot(h)\n",
    "x = 0\n",
    "y = 0\n",
    "xsize=5\n",
    "ysize=5\n",
    "#cdwavg = dict()\n",
    "#cdavg=dict()\n",
    "#val = 10*u.Unit('cm^-2')\n",
    "#print(type(val))\n",
    "#print(type(val*h._measurements[\"H200S1\"].data))\n",
    "if False:\n",
    "    for cd in cdnorm:\n",
    "        weights=cdnorm[cd].uncertainty.array[y:y+ysize,x:x+xsize]\n",
    "        cdavg[cd] = np.mean(cdnorm[cd].data[y:y+ysize,x:x+xsize])\n",
    "        cdwavg[cd] = np.average(cdnorm[cd].data[y:y+ysize,x:x+xsize],weights=weights)\n",
    "        print(cdavg[cd],cdwavg[cd],cdnorm[cd].unit)\n",
    "    #    print(cd,type(cdavg[cd]),cdavg[cd].unit)#,cdnorm[cd].uncertainty)\n",
    "\n",
    "    dE = h._ac.loc[m1.id][\"dE/k\"]*constants.k_B.cgs*h._ac[\"dE/k\"].unit\n",
    "    A = h._ac.loc[m1.id][\"A\"]*h._ac[\"A\"].unit\n",
    "    val = Measurement(4.0*math.pi*u.sr/(A*dE))\n",
    "    print(\"value = \",val.data,val.unit,\" I=\",m1.unit)\n",
    "    n = m1.copy()\n",
    "    nn = n.multiply(val)\n",
    "    #print(n.uncertainty)\n",
    "    print(\"composed: \",m1.unit*val.unit)\n",
    "    print(nn.unit)\n",
    "    utils.check_units(nn.unit,'cm^-2')"
   ]
  },
  {
   "cell_type": "code",
   "execution_count": 8,
   "metadata": {
    "scrolled": true
   },
   "outputs": [
    {
     "name": "stdout",
     "output_type": "stream",
     "text": [
      "<class 'numpy.float64'>\n",
      "[2.09469380e+14 4.86966211e+14 4.28425568e+13 1.87149162e+12] 1 / cm2\n",
      "{4: 1682.0, 3: 1015.0, 5: 2504.0, 7: 4586.0}\n"
     ]
    }
   ],
   "source": [
    "cd=h.average_column_density(norm=True,x=x,y=y,xsize=xsize,ysize=ysize,line=False)\n",
    "e=h.energies(line=False)\n",
    "print(type(cd[3]))\n",
    "#print(type(e[3]))#,type(cd[2]))\n",
    "print(list(cd.values())*u.Unit(\"cm^-2\"))\n",
    "print(e)\n",
    "#print(type(e[3]))\n",
    "#hplot.plot_diagram(x,y,xsize,ysize)"
   ]
  },
  {
   "cell_type": "code",
   "execution_count": null,
   "metadata": {},
   "outputs": [],
   "source": [
    "#print(type(np.array(e.values())))\n",
    "#print(cd.values())\n",
    "ax=plt.subplot(111)\n",
    "x=np.array(list(e.values()))*u.K\n",
    "ax.scatter(x,x)\n",
    "print(x.unit)\n",
    "#ax.scatter(np.array(e.values()),np.array(cd.values()))\n",
    "#sorted(cd).values()"
   ]
  },
  {
   "cell_type": "code",
   "execution_count": null,
   "metadata": {},
   "outputs": [],
   "source": [
    "nn=h.colden(m1)"
   ]
  },
  {
   "cell_type": "code",
   "execution_count": null,
   "metadata": {},
   "outputs": [],
   "source": [
    "plt.imshow(m1.data)\n",
    "plt.colorbar()"
   ]
  },
  {
   "cell_type": "code",
   "execution_count": null,
   "metadata": {},
   "outputs": [],
   "source": [
    "plt.imshow(nn.data)\n",
    "plt.colorbar()"
   ]
  },
  {
   "cell_type": "code",
   "execution_count": null,
   "metadata": {},
   "outputs": [],
   "source": [
    "import matplotlib.cm as mcm\n",
    "x=mcm.get_cmap(None)\n",
    "print(x)"
   ]
  },
  {
   "cell_type": "code",
   "execution_count": null,
   "metadata": {},
   "outputs": [],
   "source": [
    "3*u.Unit(\"cm^-2\").to(\"1/m2\")"
   ]
  },
  {
   "cell_type": "code",
   "execution_count": null,
   "metadata": {},
   "outputs": [],
   "source": []
  }
 ],
 "metadata": {
  "kernelspec": {
   "display_name": "Python 3",
   "language": "python",
   "name": "python3"
  },
  "language_info": {
   "codemirror_mode": {
    "name": "ipython",
    "version": 3
   },
   "file_extension": ".py",
   "mimetype": "text/x-python",
   "name": "python",
   "nbconvert_exporter": "python",
   "pygments_lexer": "ipython3",
   "version": "3.7.4"
  }
 },
 "nbformat": 4,
 "nbformat_minor": 2
}
