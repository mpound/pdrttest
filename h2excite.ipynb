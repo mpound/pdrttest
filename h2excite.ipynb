{
 "cells": [
  {
   "cell_type": "code",
   "execution_count": 2,
   "metadata": {},
   "outputs": [],
   "source": [
    "import sys\n",
    "sys.path.insert(0, \"/lupus2/mpound/pdrtpy\")\n",
    "from astropy.table import Table"
   ]
  },
  {
   "cell_type": "code",
   "execution_count": 5,
   "metadata": {},
   "outputs": [],
   "source": [
    "ac = Table.read(\"/lupus2/mpound/pdrtpy/atomic_constants.tab\",format='ipac')"
   ]
  },
  {
   "cell_type": "code",
   "execution_count": 6,
   "metadata": {},
   "outputs": [
    {
     "data": {
      "text/html": [
       "<i>Table length=8</i>\n",
       "<table id=\"table139926083593608\" class=\"table-striped table-bordered table-condensed\">\n",
       "<thead><tr><th>Line</th><th>J_u</th><th>dE/k</th><th>A</th><th>g_u</th><th>E_upper/k</th></tr></thead>\n",
       "<thead><tr><th></th><th></th><th>K</th><th></th><th></th><th>K</th></tr></thead>\n",
       "<thead><tr><th>str4</th><th>int64</th><th>float64</th><th>float64</th><th>float64</th><th>float64</th></tr></thead>\n",
       "<tr><td>S(0)</td><td>2</td><td>509.8</td><td>2.94e-11</td><td>5.0</td><td>509.8</td></tr>\n",
       "<tr><td>S(1)</td><td>3</td><td>844.6</td><td>4.76e-10</td><td>21.0</td><td>1015.0</td></tr>\n",
       "<tr><td>S(2)</td><td>4</td><td>1172.0</td><td>2.76e-09</td><td>9.0</td><td>1682.0</td></tr>\n",
       "<tr><td>S(3)</td><td>5</td><td>1489.0</td><td>9.84e-09</td><td>33.0</td><td>2504.0</td></tr>\n",
       "<tr><td>S(4)</td><td>6</td><td>1792.0</td><td>2.64e-08</td><td>13.0</td><td>3474.0</td></tr>\n",
       "<tr><td>S(5)</td><td>7</td><td>2082.5</td><td>5.88e-08</td><td>45.0</td><td>4586.0</td></tr>\n",
       "<tr><td>S(6)</td><td>8</td><td>2355.3</td><td>1.14e-07</td><td>17.0</td><td>5829.0</td></tr>\n",
       "<tr><td>S(7)</td><td>9</td><td>2610.5</td><td>2e-07</td><td>57.0</td><td>7197.0</td></tr>\n",
       "</table>"
      ],
      "text/plain": [
       "<Table length=8>\n",
       "Line  J_u    dE/k     A       g_u   E_upper/k\n",
       "              K                         K    \n",
       "str4 int64 float64 float64  float64  float64 \n",
       "---- ----- ------- -------- ------- ---------\n",
       "S(0)     2   509.8 2.94e-11     5.0     509.8\n",
       "S(1)     3   844.6 4.76e-10    21.0    1015.0\n",
       "S(2)     4  1172.0 2.76e-09     9.0    1682.0\n",
       "S(3)     5  1489.0 9.84e-09    33.0    2504.0\n",
       "S(4)     6  1792.0 2.64e-08    13.0    3474.0\n",
       "S(5)     7  2082.5 5.88e-08    45.0    4586.0\n",
       "S(6)     8  2355.3 1.14e-07    17.0    5829.0\n",
       "S(7)     9  2610.5    2e-07    57.0    7197.0"
      ]
     },
     "execution_count": 6,
     "metadata": {},
     "output_type": "execute_result"
    }
   ],
   "source": [
    "ac"
   ]
  },
  {
   "cell_type": "code",
   "execution_count": 16,
   "metadata": {},
   "outputs": [
    {
     "data": {
      "text/plain": [
       "5"
      ]
     },
     "execution_count": 16,
     "metadata": {},
     "output_type": "execute_result"
    }
   ],
   "source": [
    "ac.add_index(\"Line\")\n",
    "ac.loc[\"S(3)\"][\"J_u\"]"
   ]
  },
  {
   "cell_type": "code",
   "execution_count": 20,
   "metadata": {},
   "outputs": [],
   "source": [
    "def guortho(line):\n",
    "    ju = ac.loc[line][\"J_u\"]\n",
    "    return 2*ju+1\n",
    "def gupara(line):\n",
    "    return guortho(line)*3.0\n"
   ]
  },
  {
   "cell_type": "code",
   "execution_count": 22,
   "metadata": {},
   "outputs": [
    {
     "data": {
      "text/plain": [
       "33.0"
      ]
     },
     "execution_count": 22,
     "metadata": {},
     "output_type": "execute_result"
    }
   ],
   "source": [
    "gupara(\"S(3)\")"
   ]
  },
  {
   "cell_type": "code",
   "execution_count": null,
   "metadata": {},
   "outputs": [],
   "source": []
  }
 ],
 "metadata": {
  "kernelspec": {
   "display_name": "Python 3",
   "language": "python",
   "name": "python3"
  },
  "language_info": {
   "codemirror_mode": {
    "name": "ipython",
    "version": 3
   },
   "file_extension": ".py",
   "mimetype": "text/x-python",
   "name": "python",
   "nbconvert_exporter": "python",
   "pygments_lexer": "ipython3",
   "version": "3.7.3"
  }
 },
 "nbformat": 4,
 "nbformat_minor": 2
}
