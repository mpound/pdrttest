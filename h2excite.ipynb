{
 "cells": [
  {
   "cell_type": "code",
   "execution_count": 1,
   "metadata": {},
   "outputs": [
    {
     "name": "stderr",
     "output_type": "stream",
     "text": [
      "/home/mpound/anaconda3/lib/python3.7/site-packages/astropy/table/column.py:984: FutureWarning: elementwise comparison failed; returning scalar instead, but in the future will perform elementwise comparison\n",
      "  result = getattr(super(), op)(other)\n"
     ]
    }
   ],
   "source": [
    "import sys\n",
    "#dlap=\"/home/mpound/src/pdrtpy\"\n",
    "d=\"/lupus2/mpound/pdrtpy\"\n",
    "sys.path.insert(0, d)\n",
    "#sys.path.insert(0,dlap)\n",
    "from astropy.table import Table\n",
    "import astropy.units as u\n",
    "import astropy.constants as constants\n",
    "#from astropy.nddata import NDData\n",
    "\n",
    "\n",
    "from measurement import Measurement\n",
    "from h2excitation import H2Excitation\n",
    "from plot import H2ExcitationPlot\n",
    "import math\n",
    "import matplotlib.pyplot as plt\n",
    "import numpy as np\n",
    "import pdrutils as utils"
   ]
  },
  {
   "cell_type": "code",
   "execution_count": 16,
   "metadata": {},
   "outputs": [
    {
     "name": "stdout",
     "output_type": "stream",
     "text": [
      "(14, 15)\n",
      "INFO: using the unit W m^-2 sr^-1 passed to the FITS reader instead of the unit adu in the FITS file. [astropy.nddata.ccddata]\n",
      "(14, 15)\n",
      "INFO: using the unit W m^-2 sr^-1 passed to the FITS reader instead of the unit adu in the FITS file. [astropy.nddata.ccddata]\n",
      "(14, 15)\n",
      "INFO: using the unit W cm^-2  sr^-1 passed to the FITS reader instead of the unit adu in the FITS file. [astropy.nddata.ccddata]\n",
      "(14, 15)\n",
      "INFO: using the unit W cm^-2  sr^-1 passed to the FITS reader instead of the unit adu in the FITS file. [astropy.nddata.ccddata]\n",
      "(14, 15)\n",
      "INFO: using the unit W cm^-2  sr^-1 passed to the FITS reader instead of the unit adu in the FITS file. [astropy.nddata.ccddata]\n"
     ]
    }
   ],
   "source": [
    "fake=False\n",
    "if fake:\n",
    "    Measurement.makemeasurement(\"fakeIntensityH200S0.fits\",error=\"20%\",outfile=\"tests0.fits\")\n",
    "    m0 = Measurement.read(\"tests0.fits\",unit=\"W m^-2 sr^-1\",identifier=\"H200S0\")\n",
    "    Measurement.makemeasurement(\"fakeIntensityH200S1.fits\",error=\"20%\",outfile=\"tests1.fits\")\n",
    "    m1 = Measurement.read(\"tests1.fits\",unit=\"W m^-2  sr^-1\",identifier=\"H200S1\")\n",
    "    Measurement.makemeasurement(\"fakeIntensityH200S2.fits\",error=\"20%\",outfile=\"tests2.fits\")\n",
    "    m2 = Measurement.read(\"tests2.fits\",unit=\"W m^-2 sr^-1\",identifier=\"H200S2\")\n",
    "    Measurement.makemeasurement(\"fakeIntensityH200S3.fits\",error=\"20%\",outfile=\"tests3.fits\")\n",
    "    m3 = Measurement.read(\"tests3.fits\",unit=\"W m^-2  sr^-1\",identifier=\"H200S3\")\n",
    "    Measurement.makemeasurement(\"fakeIntensityH200S5.fits\",error=\"20%\",outfile=\"tests5.fits\")\n",
    "    m5 = Measurement.read(\"tests5.fits\",unit=\"W m^-2 sr^-1\",identifier=\"H200S5\")\n",
    "else:   \n",
    "    Measurement.makemeasurement(\"data/h2_test/n2023_LH_SL1_best_H2_S0_I_emgfit_084.MUNGED.fits.new\",error=\"20%\",outfile=\"tests0m.fits\")\n",
    "    m0 = Measurement.read(\"tests0m.fits\",unit=\"W m^-2 sr^-1\",identifier=\"H200S0\")\n",
    "    #print(m.uncertainty)\n",
    "    Measurement.makemeasurement(\"data/h2_test/n2023_SH_SL1_best_H2_S1_I_emgfit_084.fits.new\",error=\"20%\",outfile=\"tests1m.fits\")\n",
    "    m1 = Measurement.read(\"tests1m.fits\",unit=\"W m^-2 sr^-1\",identifier=\"H200S1\")\n",
    "\n",
    "    Measurement.makemeasurement(\"data/h2_test/n2023_SH_SL1_best_H2_S2_I_emgfit_084.fits.new\",error=\"20%\",outfile=\"tests2m.fits\")\n",
    "    m2 = Measurement.read(\"tests2m.fits\",unit=\"W cm^-2  sr^-1\",identifier=\"H200S2\")\n",
    "\n",
    "    Measurement.makemeasurement(\"data/h2_test/n2023_SL1_LH_best_H2_S3_I_emgfit_084.fits.new\",error=\"20%\",outfile=\"tests3m.fits\")\n",
    "    m3 = Measurement.read(\"tests3m.fits\",unit=\"W cm^-2  sr^-1\",identifier=\"H200S3\")\n",
    "\n",
    "    Measurement.makemeasurement(\"data/h2_test/n2023_SL2_LH_best_H2_S5_I_emgfit_084.fits\",error=\"20%\",outfile=\"tests5m.fits\")\n",
    "    m5 = Measurement.read(\"tests5m.fits\",unit=\"W cm^-2  sr^-1\",identifier=\"H200S5\")\n",
    "    #Measurement.makemeasurement(\"data/h2_test/n2023_SL2_H2_S7_I_emgfit_084.fits\",error=\"20%\",outfile=\"tests7.fits\")\n",
    "    #m7 = Measurement.read(\"tests7.fits\",unit=\"erg cm^-2 s^-1 sr^-1\",identifier=\"H200S7\")"
   ]
  },
  {
   "cell_type": "code",
   "execution_count": 20,
   "metadata": {
    "scrolled": true
   },
   "outputs": [
    {
     "name": "stdout",
     "output_type": "stream",
     "text": [
      "<class 'measurement.Measurement'>\n"
     ]
    }
   ],
   "source": [
    "h = H2Excitation([m0,m2,m1,m3,m5])\n",
    "h._ac[\"E_upper/k\"]*constants.k_B\n",
    "#h._compute_column_densities()\n",
    "#print(h._column_density[\"H200S1\"].unit)\n",
    "#h._measurements[\"H200S1\"].uncertainty.data\n",
    "cdnorm = h.column_densities(norm=True)\n",
    "print(type(cdnorm[\"H200S1\"]))\n",
    "hplot = H2ExcitationPlot(h)\n",
    "x = 7\n",
    "y = 8\n",
    "xsize=2\n",
    "ysize=2\n",
    "#cdwavg = dict()\n",
    "#cdavg=dict()\n",
    "#val = 10*u.Unit('cm^-2')\n",
    "#print(type(val))\n",
    "#print(type(val*h._measurements[\"H200S1\"].data))\n",
    "if False:\n",
    "    for cd in cdnorm:\n",
    "        weights=cdnorm[cd].uncertainty.array[y:y+ysize,x:x+xsize]\n",
    "        cdavg[cd] = np.mean(cdnorm[cd].data[y:y+ysize,x:x+xsize])\n",
    "        cdwavg[cd] = np.average(cdnorm[cd].data[y:y+ysize,x:x+xsize],weights=weights)\n",
    "        print(cdavg[cd],cdwavg[cd],cdnorm[cd].unit)\n",
    "    #    print(cd,type(cdavg[cd]),cdavg[cd].unit)#,cdnorm[cd].uncertainty)\n",
    "\n",
    "    dE = h._ac.loc[m1.id][\"dE/k\"]*constants.k_B.cgs*h._ac[\"dE/k\"].unit\n",
    "    A = h._ac.loc[m1.id][\"A\"]*h._ac[\"A\"].unit\n",
    "    val = Measurement(4.0*math.pi*u.sr/(A*dE))\n",
    "    print(\"value = \",val.data,val.unit,\" I=\",m1.unit)\n",
    "    n = m1.copy()\n",
    "    nn = n.multiply(val)\n",
    "    #print(n.uncertainty)\n",
    "    print(\"composed: \",m1.unit*val.unit)\n",
    "    print(nn.unit)\n",
    "    utils.check_units(nn.unit,'cm^-2')"
   ]
  },
  {
   "cell_type": "code",
   "execution_count": 21,
   "metadata": {
    "scrolled": true
   },
   "outputs": [],
   "source": [
    "#x=50\n",
    "#y=15\n",
    "#xsize=10\n",
    "#ysize=10\n",
    "cd=h.average_column_density(norm=True,x=x,y=y,xsize=xsize,ysize=ysize,line=False)\n",
    "e=h.energies(line=False)\n",
    "#print(type(cd[3]))\n",
    "#print(type(e[3]))#,type(cd[2]))\n",
    "#print(list(cd.values())*u.Unit(\"cm^-2\"))\n",
    "#print(e)\n",
    "#print(type(e[3]))\n",
    "#hplot.plot_diagram(x,y,xsize,ysize)"
   ]
  },
  {
   "cell_type": "code",
   "execution_count": 24,
   "metadata": {},
   "outputs": [
    {
     "name": "stdout",
     "output_type": "stream",
     "text": [
      "1000.0\n"
     ]
    }
   ],
   "source": [
    "print(h._column_density[\"H200S1\"].unit.to(\"cm^-2\"))"
   ]
  },
  {
   "cell_type": "code",
   "execution_count": 22,
   "metadata": {
    "scrolled": false
   },
   "outputs": [
    {
     "name": "stdout",
     "output_type": "stream",
     "text": [
      "dict_values([509.8, 1682.0, 1015.0, 2504.0, 4586.0])\n",
      "dict_values([7232706110558939.0, 113066440482805.94, 132271164105299.73, 3739429555792.559, 160898735611.3359])\n"
     ]
    },
    {
     "data": {
      "image/png": "[encoded data removed]",
      "text/plain": [
       "<Figure size 432x288 with 1 Axes>"
      ]
     },
     "metadata": {
      "needs_background": "light"
     },
     "output_type": "display_data"
    }
   ],
   "source": [
    "print(np.array(e.values()))\n",
    "print(cd.values())\n",
    "ax=plt.subplot(111)\n",
    "xi=np.array(list(e.values()))#*u.K\n",
    "yi=np.log10(list(cd.values()))#*u.Unit(\"cm^-2\"))\n",
    "ax.scatter(xi,yi)\n",
    "#ax.set_yscale('log')\n",
    "ax.set_xlabel('$E_J$ [K]')\n",
    "ax.set_ylabel('log $N_J/g_J$ [cm$^{-2}$]')\n",
    "first = True\n",
    "for lab in sorted(cd):\n",
    "    if first: \n",
    "        ss=\"J=\"+str(lab)\n",
    "        first=False\n",
    "    else: \n",
    "        ss=str(lab)\n",
    "    ax.text(x=e[lab]+100,y=np.log10(cd[lab]),s=ss)\n",
    "\n",
    "#ax.scatter(np.array(e.values()),np.array(cd.values()))\n",
    "#sorted(cd).values()"
   ]
  },
  {
   "cell_type": "code",
   "execution_count": null,
   "metadata": {
    "scrolled": true
   },
   "outputs": [],
   "source": [
    "print(cd)\n",
    "h.column_densities()"
   ]
  },
  {
   "cell_type": "code",
   "execution_count": null,
   "metadata": {},
   "outputs": [],
   "source": [
    "plt.imshow(m1.data)\n",
    "plt.colorbar()"
   ]
  },
  {
   "cell_type": "code",
   "execution_count": null,
   "metadata": {},
   "outputs": [],
   "source": [
    "plt.imshow(nn.data)\n",
    "plt.colorbar()"
   ]
  },
  {
   "cell_type": "code",
   "execution_count": null,
   "metadata": {},
   "outputs": [],
   "source": [
    "import matplotlib.cm as mcm\n",
    "x=mcm.get_cmap(None)\n",
    "print(x)"
   ]
  },
  {
   "cell_type": "code",
   "execution_count": null,
   "metadata": {},
   "outputs": [],
   "source": [
    "3*u.Unit(\"cm^-2\").to(\"1/m2\")"
   ]
  },
  {
   "cell_type": "code",
   "execution_count": 8,
   "metadata": {},
   "outputs": [
    {
     "data": {
      "text/html": [
       "<i>Table length=8</i>\n",
       "<table id=\"table140080115896272\" class=\"table-striped table-bordered table-condensed\">\n",
       "<thead><tr><th>Line</th><th>J_u</th><th>dE/k</th><th>A</th><th>g_u</th><th>E_upper/k</th></tr></thead>\n",
       "<thead><tr><th></th><th></th><th>K</th><th>1 / s</th><th></th><th>K</th></tr></thead>\n",
       "<thead><tr><th>str6</th><th>int64</th><th>float64</th><th>float64</th><th>float64</th><th>float64</th></tr></thead>\n",
       "<tr><td>H200S0</td><td>2</td><td>509.8</td><td>2.94e-11</td><td>5.0</td><td>509.8</td></tr>\n",
       "<tr><td>H200S1</td><td>3</td><td>844.6</td><td>4.76e-10</td><td>21.0</td><td>1015.0</td></tr>\n",
       "<tr><td>H200S2</td><td>4</td><td>1172.0</td><td>2.76e-09</td><td>9.0</td><td>1682.0</td></tr>\n",
       "<tr><td>H200S3</td><td>5</td><td>1489.0</td><td>9.84e-09</td><td>33.0</td><td>2504.0</td></tr>\n",
       "<tr><td>H200S4</td><td>6</td><td>1792.0</td><td>2.64e-08</td><td>13.0</td><td>3474.0</td></tr>\n",
       "<tr><td>H200S5</td><td>7</td><td>2082.5</td><td>5.88e-08</td><td>45.0</td><td>4586.0</td></tr>\n",
       "<tr><td>H200S6</td><td>8</td><td>2355.3</td><td>1.14e-07</td><td>17.0</td><td>5829.0</td></tr>\n",
       "<tr><td>H200S7</td><td>9</td><td>2610.5</td><td>2e-07</td><td>57.0</td><td>7197.0</td></tr>\n",
       "</table>"
      ],
      "text/plain": [
       "<Table length=8>\n",
       " Line   J_u    dE/k     A       g_u   E_upper/k\n",
       "                K     1 / s               K    \n",
       " str6  int64 float64 float64  float64  float64 \n",
       "------ ----- ------- -------- ------- ---------\n",
       "H200S0     2   509.8 2.94e-11     5.0     509.8\n",
       "H200S1     3   844.6 4.76e-10    21.0    1015.0\n",
       "H200S2     4  1172.0 2.76e-09     9.0    1682.0\n",
       "H200S3     5  1489.0 9.84e-09    33.0    2504.0\n",
       "H200S4     6  1792.0 2.64e-08    13.0    3474.0\n",
       "H200S5     7  2082.5 5.88e-08    45.0    4586.0\n",
       "H200S6     8  2355.3 1.14e-07    17.0    5829.0\n",
       "H200S7     9  2610.5    2e-07    57.0    7197.0"
      ]
     },
     "execution_count": 8,
     "metadata": {},
     "output_type": "execute_result"
    }
   ],
   "source": [
    "h._ac"
   ]
  },
  {
   "cell_type": "code",
   "execution_count": null,
   "metadata": {},
   "outputs": [],
   "source": [
    "m2.data.shape"
   ]
  },
  {
   "cell_type": "code",
   "execution_count": null,
   "metadata": {},
   "outputs": [],
   "source": []
  }
 ],
 "metadata": {
  "kernelspec": {
   "display_name": "Python 3",
   "language": "python",
   "name": "python3"
  },
  "language_info": {
   "codemirror_mode": {
    "name": "ipython",
    "version": 3
   },
   "file_extension": ".py",
   "mimetype": "text/x-python",
   "name": "python",
   "nbconvert_exporter": "python",
   "pygments_lexer": "ipython3",
   "version": "3.7.4"
  }
 },
 "nbformat": 4,
 "nbformat_minor": 2
}
