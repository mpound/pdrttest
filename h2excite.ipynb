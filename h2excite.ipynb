{
 "cells": [
  {
   "cell_type": "code",
   "execution_count": 97,
   "metadata": {},
   "outputs": [],
   "source": [
    "import sys\n",
    "sys.path.insert(0, \"/home/mpound/src/pdrtpy\")\n",
    "from astropy.table import Table\n",
    "import astropy.units as u\n",
    "import astropy.constants as constants\n",
    "from measurement import Measurement\n",
    "import math\n",
    "import matplotlib.pyplot as plt"
   ]
  },
  {
   "cell_type": "code",
   "execution_count": null,
   "metadata": {},
   "outputs": [],
   "source": [
    "ac = Table.read(\"/home/mpound/src/pdrtpy/atomic_constants.tab\",format='ipac')"
   ]
  },
  {
   "cell_type": "code",
   "execution_count": null,
   "metadata": {},
   "outputs": [],
   "source": [
    "ac"
   ]
  },
  {
   "cell_type": "code",
   "execution_count": null,
   "metadata": {},
   "outputs": [],
   "source": [
    "ac.add_index(\"Line\")\n",
    "ac[\"A\"].unit"
   ]
  },
  {
   "cell_type": "code",
   "execution_count": null,
   "metadata": {},
   "outputs": [],
   "source": [
    "def guortho(line):\n",
    "    ju = ac.loc[line][\"J_u\"]\n",
    "    return 2*ju+1\n",
    "def gupara(line):\n",
    "    return guortho(line)*3.0\n"
   ]
  },
  {
   "cell_type": "code",
   "execution_count": null,
   "metadata": {},
   "outputs": [],
   "source": [
    "gupara(\"H200S3\")\n",
    "constants.k_B.cgs\n",
    "dE=ac.loc[\"H200S3\"][\"dE/k\"]*constants.k_B.cgs*ac[\"dE/k\"].unit\n",
    "dE\n"
   ]
  },
  {
   "cell_type": "code",
   "execution_count": 94,
   "metadata": {},
   "outputs": [],
   "source": [
    "def colden(intensity):\n",
    "    '''compute column density in upper state N_upper, given an intensity I and assuming optically\n",
    "       thin emission units of I need to to be equivalent to (erg/cm^2/s/sr). \n",
    "             I = A * dE * N_upper/(4 pi)\n",
    "             N_upper = 4*pi*I/(A*dE)\n",
    "        where A is the Einstein A coefficient and dE is the energy of the transition\n",
    "        Parameters:\n",
    "            intensity - a Measurement of the intensity\n",
    "        Returns:\n",
    "            a Measurement of the column density\n",
    "    '''\n",
    "    ac = Table.read(\"/home/mpound/src/pdrtpy/atomic_constants.tab\",format='ipac')\n",
    "    ac.add_index(\"Line\")\n",
    "    dE = ac.loc[intensity.id][\"dE/k\"]*constants.k_B.cgs*ac[\"dE/k\"].unit\n",
    "    A = ac.loc[intensity.id][\"A\"]*ac[\"A\"].unit\n",
    "    val = 4.0*math.pi*u.sr/(A*dE)\n",
    "    #print(val)\n",
    "    ##print(val.value)\n",
    "    #print(intensity.unit)\n",
    "    #print(intensity)\n",
    "    N_upper = val*intensity\n",
    "    return N_upper\n",
    "\n",
    "def nepair(ilist):\n",
    "    ac = Table.read(\"/home/mpound/src/pdrtpy/atomic_constants.tab\",format='ipac')\n",
    "    ac.add_index(\"Line\")\n",
    "    ne = dict()\n",
    "    for i in ilist:\n",
    "        n = colden(i)\n",
    "    "
   ]
  },
  {
   "cell_type": "code",
   "execution_count": 107,
   "metadata": {},
   "outputs": [
    {
     "name": "stdout",
     "output_type": "stream",
     "text": [
      "(35, 103)\n",
      "INFO: using the unit erg cm^-2 s^-1 sr^-1 passed to the FITS reader instead of the unit adu in the FITS file. [astropy.nddata.ccddata]\n",
      "(35, 103)\n",
      "INFO: using the unit erg cm^-2 s^-1 sr^-1 passed to the FITS reader instead of the unit adu in the FITS file. [astropy.nddata.ccddata]\n",
      "(35, 103)\n",
      "INFO: using the unit erg cm^-2 s^-1 sr^-1 passed to the FITS reader instead of the unit adu in the FITS file. [astropy.nddata.ccddata]\n",
      "(14, 15)\n",
      "INFO: using the unit erg cm^-2 s^-1 sr^-1 passed to the FITS reader instead of the unit adu in the FITS file. [astropy.nddata.ccddata]\n",
      "(14, 15)\n",
      "INFO: using the unit erg cm^-2 s^-1 sr^-1 passed to the FITS reader instead of the unit adu in the FITS file. [astropy.nddata.ccddata]\n"
     ]
    }
   ],
   "source": [
    "Measurement.makemeasurement(\"/home/mpound/src/pdrttest/data/h2_test/n2023_LH_SL1_best_H2_S0_I_emgfit_084.fits\",error=\"20%\",outfile=\"tests0.fits\")\n",
    "m0 = Measurement.read(\"tests0.fits\",unit=\"erg cm^-2 s^-1 sr^-1\",identifier=\"H200S0\")\n",
    "#print(m.uncertainty)\n",
    "Measurement.makemeasurement(\"/home/mpound/src/pdrttest/data/h2_test/n2023_SH_SL1_best_H2_S1_I_emgfit_084.fits\",error=\"20%\",outfile=\"tests1.fits\")\n",
    "m1 = Measurement.read(\"tests1.fits\",unit=\"erg cm^-2 s^-1 sr^-1\",identifier=\"H200S1\")\n",
    "\n",
    "Measurement.makemeasurement(\"/home/mpound/src/pdrttest/data/h2_test/n2023_SH_SL1_best_H2_S2_I_emgfit_084.fits\",error=\"20%\",outfile=\"tests2.fits\")\n",
    "m2 = Measurement.read(\"tests2.fits\",unit=\"erg cm^-2 s^-1 sr^-1\",identifier=\"H200S2\")\n",
    "\n",
    "Measurement.makemeasurement(\"/home/mpound/src/pdrttest/data/h2_test/n2023_SL1_LH_best_H2_S3_I_emgfit_084.fits\",error=\"20%\",outfile=\"tests3.fits\")\n",
    "m3 = Measurement.read(\"tests3.fits\",unit=\"erg cm^-2 s^-1 sr^-1\",identifier=\"H200S3\")\n",
    "\n",
    "Measurement.makemeasurement(\"/home/mpound/src/pdrttest/data/h2_test/n2023_SL2_LH_best_H2_S5_I_emgfit_084.fits\",error=\"20%\",outfile=\"tests5.fits\")\n",
    "m5 = Measurement.read(\"tests5.fits\",unit=\"erg cm^-2 s^-1 sr^-1\",identifier=\"H200S5\")"
   ]
  },
  {
   "cell_type": "code",
   "execution_count": 105,
   "metadata": {},
   "outputs": [],
   "source": [
    "nn=colden(m)\n",
    "#nn"
   ]
  },
  {
   "cell_type": "code",
   "execution_count": 102,
   "metadata": {},
   "outputs": [
    {
     "data": {
      "text/plain": [
       "<matplotlib.colorbar.Colorbar at 0x7fe57ab39e10>"
      ]
     },
     "execution_count": 102,
     "metadata": {},
     "output_type": "execute_result"
    },
    {
     "data": {
      "image/png": "[encoded data removed]",
      "text/plain": [
       "<Figure size 432x288 with 2 Axes>"
      ]
     },
     "metadata": {
      "needs_background": "light"
     },
     "output_type": "display_data"
    }
   ],
   "source": [
    "plt.imshow(m.data)\n",
    "plt.colorbar()"
   ]
  },
  {
   "cell_type": "code",
   "execution_count": 104,
   "metadata": {},
   "outputs": [
    {
     "data": {
      "text/plain": [
       "<matplotlib.colorbar.Colorbar at 0x7fe57aa9f6d0>"
      ]
     },
     "execution_count": 104,
     "metadata": {},
     "output_type": "execute_result"
    },
    {
     "data": {
      "image/png": "[encoded data removed]",
      "text/plain": [
       "<Figure size 432x288 with 2 Axes>"
      ]
     },
     "metadata": {
      "needs_background": "light"
     },
     "output_type": "display_data"
    }
   ],
   "source": [
    "plt.imshow(nn.data)\n",
    "plt.colorbar()"
   ]
  },
  {
   "cell_type": "code",
   "execution_count": null,
   "metadata": {},
   "outputs": [],
   "source": []
  }
 ],
 "metadata": {
  "kernelspec": {
   "display_name": "Python 3",
   "language": "python",
   "name": "python3"
  },
  "language_info": {
   "codemirror_mode": {
    "name": "ipython",
    "version": 3
   },
   "file_extension": ".py",
   "mimetype": "text/x-python",
   "name": "python",
   "nbconvert_exporter": "python",
   "pygments_lexer": "ipython3",
   "version": "3.7.4"
  }
 },
 "nbformat": 4,
 "nbformat_minor": 2
}
