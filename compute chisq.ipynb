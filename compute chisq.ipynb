{
 "cells": [
  {
   "cell_type": "code",
   "execution_count": 2,
   "metadata": {},
   "outputs": [],
   "source": [
    "from astropy.io import fits\n",
    "import numpy as np\n",
    "import matplotlib.pyplot as plt\n",
    "%matplotlib inline"
   ]
  },
  {
   "cell_type": "markdown",
   "metadata": {},
   "source": [
    "# Basic Steps\n",
    "For a given spatial pixel $p = (x,y)$ with $N$ values of observed line ratios $R_N(p)$ with errors on the line ratios $E_N(p)$ in same units as $R_N$, we use predicted line ratios as function of $A_N(G_0,n)$, to compute differences $\\delta_N$ across all $A$:\n",
    "$${\\delta_N^2(p,G_0,n)} = {\\left[ R_N(p) - A_N(G_0,n)\\over E_N(x)\\right] }^2$$\n",
    " \n",
    "The reduced chi-squared for spatial pixel $i$ is then given by\n",
    "\n",
    "$$\\chi^2(p,G_0,n) =  \\sum_N {\\delta_N^2(p,G_0,n) \\over N-1}$$\n",
    "\n",
    "and the best-fit value of $(G_0,n)$ is the minimum of $\\chi^2$  The range of $(G_0,n)$ over which $A_N$ have been computed must be large enough to encompass physically reasonable values in the ISM, typically $10^{-1} < G_0 < 10^7$ in Habing units and $1 < n < 10^7$ cm$^{-3}$\n",
    "\n",
    "For a spatial map, we do the above computation over all $p$ to produce a spatial maps of $\\chi^2$ and best-fit spatial maps of $(G_0,n)$.\n",
    "\n"
   ]
  },
  {
   "cell_type": "code",
   "execution_count": 6,
   "metadata": {},
   "outputs": [],
   "source": [
    "class PDRutils:\n",
    "    def __init__(self):\n",
    "        self._valid_ratios = []\n",
    "    \n",
    "\n",
    "class Measurement:\n",
    "    def __init__(self,identifier,flux,error):\n",
    "        self._identifier = identifier\n",
    "        self._flux      = flux\n",
    "        self._error     = error\n",
    "        \n",
    "    @property\n",
    "    def flux(self):\n",
    "        return self._flux\n",
    "    @property\n",
    "    def id(self):\n",
    "        return self._identifier\n",
    "    @property\n",
    "    def error(self):\n",
    "        return self._error\n",
    "    "
   ]
  },
  {
   "cell_type": "code",
   "execution_count": null,
   "metadata": {},
   "outputs": [],
   "source": []
  }
 ],
 "metadata": {
  "kernelspec": {
   "display_name": "Python 3",
   "language": "python",
   "name": "python3"
  },
  "language_info": {
   "codemirror_mode": {
    "name": "ipython",
    "version": 3
   },
   "file_extension": ".py",
   "mimetype": "text/x-python",
   "name": "python",
   "nbconvert_exporter": "python",
   "pygments_lexer": "ipython3",
   "version": "3.6.8"
  }
 },
 "nbformat": 4,
 "nbformat_minor": 2
}
