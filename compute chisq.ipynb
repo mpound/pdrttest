{
 "cells": [
  {
   "cell_type": "code",
   "execution_count": 72,
   "metadata": {},
   "outputs": [],
   "source": [
    "from astropy.io import fits\n",
    "from astropy.nddata import CCDData\n",
    "from astropy.table import Table\n",
    "import astropy.units as u\n",
    "from astropy.nddata import NDDataArray, StdDevUncertainty, NDUncertainty, VarianceUncertainty, InverseVariance\n",
    "import numpy as np\n",
    "import matplotlib.pyplot as plt\n",
    "import pandas as pd\n",
    "import aplpy\n",
    "import itertools\n",
    "import collections\n",
    "from copy import deepcopy\n",
    "from astropy.utils.decorators import sharedmethod\n",
    "import matplotlib.colors as colors\n",
    "import scipy.stats as stats\n",
    "%matplotlib inline"
   ]
  },
  {
   "cell_type": "markdown",
   "metadata": {},
   "source": [
    "# Mathematical Steps\n",
    "For a given spatial pixel $p = (x,y)$ with $N$ values of observed line ratios $R_N(p)$ with errors on the line ratios $E_N(p)$ in same units as $R_N$, we use predicted line ratios as function of $A_N(G_0,n)$, to compute differences $\\delta_N$ across all $A$:\n",
    "$${\\delta_N^2(p,G_0,n)} = {\\left[ R_N(p) - A_N(G_0,n)\\over E_N(x)\\right] }^2$$\n",
    " \n",
    "The reduced chi-squared for spatial pixel $i$ is then given by\n",
    "\n",
    "$$\\chi^2(p,G_0,n) =  \\sum_N {\\delta_N^2(p,G_0,n) \\over N-1}$$\n",
    "\n",
    "and the best-fit value of $(G_0,n)$ is the minimum of $\\chi^2$  The range of $(G_0,n)$ over which $A_N$ have been computed must be large enough to encompass physically reasonable values in the ISM, typically $10^{-1} < G_0 < 10^7$ in Habing units and $1 < n < 10^7$ cm$^{-3}$\n",
    "\n",
    "For a spatial map, we do the above computation over all $p$ to produce a spatial maps of $\\chi^2$ and best-fit spatial maps of $(G_0,n)$.\n",
    "\n",
    "# Logical Steps\n",
    "Given a list of measurement IDs,\n",
    "1. Find all available matching model ratios\n",
    "2. For each matching model ratio, compute the corresponding measurement ratios (including error propagation)\n",
    "3. For each measurement ratio, compute the $\\delta^2$ as above, using the ratio label as in index to find the corresponding FITS file of $A(G_0,n)$.\n",
    "4. Compute $\\chi^2$ from the $\\delta$'s as above.\n",
    "    "
   ]
  },
  {
   "cell_type": "code",
   "execution_count": 80,
   "metadata": {},
   "outputs": [],
   "source": [
    "# maybe this is just better storing this info in a Table.  Then adding models is \n",
    "# just adding to the table\n",
    "class ModelRatioData:\n",
    "    def __init__(self,numerator, denominator, identifier,filename,metallicity=1):\n",
    "        self._numerator = numerator\n",
    "        self._denominator =denominator\n",
    "        self._identifier = identifier\n",
    "        self._filename = filename + \"web\"\n",
    "        self._metallicity= metallicity\n",
    "        \n",
    "    @property\n",
    "    def id(self): return self._identifier\n",
    "\n",
    "    @property \n",
    "    def filename(self): return self._filename\n",
    "    \n",
    "    @property \n",
    "    def metallicity(self): return self._metallicity\n",
    "    \n",
    "    @property\n",
    "    def isSolarMetallicity(self):\n",
    "        return self._metallicity == 1\n",
    "    \n",
    "def _arithmetic(op):\n",
    "    \"\"\"Decorator factory which temporarly disables the need for a unit when\n",
    "    creating a new CCDData instance. The final result must have a unit.\n",
    "\n",
    "    Parameters\n",
    "    ----------\n",
    "    op : function\n",
    "        The function to apply. Supported are:\n",
    "\n",
    "        - ``np.add``\n",
    "        - ``np.subtract``\n",
    "        - ``np.multiply``\n",
    "        - ``np.true_divide``\n",
    "\n",
    "    Notes\n",
    "    -----\n",
    "    Should only be used on CCDData ``add``, ``subtract``, ``divide`` or\n",
    "    ``multiply`` because only these methods from NDArithmeticMixin are\n",
    "    overwritten.\n",
    "    \"\"\"\n",
    "    def decorator(func):\n",
    "        def inner(self, operand, operand2=None, **kwargs):\n",
    "            print(\"doing arithmetic\")\n",
    "            result = self._prepare_then_do_arithmetic(op, operand,\n",
    "                                                      operand2, **kwargs)\n",
    "            return result.__class__(result)\n",
    "        inner.__doc__ = (\"See `astropy.nddata.NDArithmeticMixin.{}`.\"\n",
    "                         \"\".format(func.__name__))\n",
    "        return sharedmethod(inner)\n",
    "    return decorator\n",
    "\n",
    "def _uncertainty_unit_equivalent_to_parent(uncertainty_type, unit, parent_unit):\n",
    "    if uncertainty_type is StdDevUncertainty:\n",
    "        return unit == parent_unit\n",
    "    elif uncertainty_type is VarianceUncertainty:\n",
    "        return unit == (parent_unit ** 2)\n",
    "    elif uncertainty_type is InverseVariance:\n",
    "        return unit == (1 / (parent_unit ** 2))\n",
    "    raise ValueError(\"unsupported uncertainty type: {}\"\n",
    "                     .format(uncertainty_type))\n",
    "\n",
    "class Measurement(NDDataArray):\n",
    "    def __init__(self,*args, **kwargs):\n",
    "        self._identifier = kwargs.pop('identifier', None)\n",
    "        super().__init__(*args, **kwargs)\n",
    "    \n",
    "    @property\n",
    "    def id(self): return self._identifier\n",
    "    \n",
    "    add = _arithmetic(np.add)(NDDataArray.add)\n",
    "    subtract = _arithmetic(np.subtract)(NDDataArray.subtract)\n",
    "    multiply = _arithmetic(np.multiply)(NDDataArray.multiply)\n",
    "    divide = _arithmetic(np.true_divide)(NDDataArray.divide)\n",
    "        \n",
    "    \n",
    "class Measurement0(NDDataArray):\n",
    "    def __init__(self,*args, **kwargs):\n",
    "        self._identifier = kwargs.pop('identifier', None)\n",
    "        super().__init__(*args, **kwargs)\n",
    "        print(self._uncertainty.parent_nddata)\n",
    "        #.parent_nddata(self._data)\n",
    "        \n",
    "    @property\n",
    "    def flux(self):\n",
    "        return self.data\n",
    "    \n",
    "    @property\n",
    "    def id(self):\n",
    "        return self._identifier\n",
    "    \n",
    "    @property\n",
    "    def error(self):\n",
    "        return self.uncertainty\n",
    "    \n",
    "    \n",
    "    def add(self,other):\n",
    "        z=super().add(other)\n",
    "        z._identifier = self.id + '+' + other.id\n",
    "        return z\n",
    "   \n",
    "    def subtract(self,other):\n",
    "        z=super().subtract(other)\n",
    "        z._identifier = self.id + '-' + other.id\n",
    "        return z\n",
    "    \n",
    "    def multiply(self,other):\n",
    "        #zz = super()\n",
    "        #print(type(zz))\n",
    "        z=super().multiply(other)\n",
    "        #print(self.id,other.id)\n",
    "        z._identifier = self.id + '*' + other.id\n",
    "        return z\n",
    "        \n",
    "    def divide(self,other):\n",
    "        #zz = super()\n",
    "        #print(type(zz))\n",
    "        z=super().divide(other)\n",
    "        #print(self.id,other.id)\n",
    "        z._identifier = self.id + '/' + other.id\n",
    "        return z\n",
    "    \n",
    "    def __add__(self,other):\n",
    "        z=self.add(other)\n",
    "        return z\n",
    "    def __sub__(self,other):      \n",
    "        z=self.subtract(other)\n",
    "        return z\n",
    "    \n",
    "    def __mul__(self,other):\n",
    "        z=self.multiply(other)\n",
    "        return z\n",
    "    \n",
    "    def __truediv__(self,other):\n",
    "        z=self.divide(other)\n",
    "        return z\n",
    "    \n",
    "class PDRutils:\n",
    "    def __init__(self,models):\n",
    "        if type(models) == str:\n",
    "            self.initializeFromFile(models)\n",
    "        else:\n",
    "            self._models = models\n",
    "        self._fitsfiles = None\n",
    "        \n",
    "    def makeDefaultTable(self):\n",
    "        ratiodict = {\n",
    "        \"OI_145/OI_63\"   : \"oioi\",\n",
    "        \"OI_145/CII_158\" : \"o145cii\",\n",
    "        \"OI_63/CII_158\"  : \"oicp\",\n",
    "        \"CII_158/CI_609\" : \"ciici609\",\n",
    "        \"CI_370/CI_609\"  : \"cici\",\n",
    "        \"CII_158/CO_10\"  : \"ciico\",\n",
    "        \"CI_609/CO_10\"   : \"cico\",\n",
    "        \"CI_609/CO_21\"   : \"cico21\",\n",
    "        \"CI_609/CO_32\"   : \"cico32\",\n",
    "        \"CI_609/CO_43\"   : \"cico43\",\n",
    "        \"CI_609/CO_54\"   : \"cico54\",\n",
    "        \"CI_609/CO_65\"   : \"cico65\",\n",
    "        \"CO_21/CO_10\"    : \"co2110\",\n",
    "        \"CO_32/CO_10\"    : \"co3210\",\n",
    "        \"CO_32/CO_21\"    : \"co3221\",\n",
    "        \"CO_43/CO_21\"    : \"co4321\",\n",
    "        \"CO_65/CO_10\"    : \"co6510\",\n",
    "        \"CO_65/CO_21\"    : \"co6521\",\n",
    "        \"CO_65/CO_54\"    : \"co6554\",\n",
    "        \"CO_76/CO_10\"    : \"co7610\",\n",
    "        \"CO_76/CO_21\"    : \"co7621\",\n",
    "        \"CO_76/CO_43\"    : \"co7643\",\n",
    "        \"CO_76/CO_54\"    : \"co7654\",\n",
    "        \"CO_76/CO_65\"    : \"co7665\",\n",
    "        \"CO_87/CO_54\"   : \"co8754\",\n",
    "        \"CO_87/CO_65\"   : \"co8765\",\n",
    "        \"CO_98/CO_54\"   : \"co9854\",\n",
    "        \"CO_98/CO_65\"   : \"co9865\",\n",
    "        \"CO_109/CO_54\"   : \"co10954\",\n",
    "        \"CO_109/CO_65\"   : \"co10965\",\n",
    "        \"CO_1110/CO_54\"   : \"co111054\",\n",
    "        \"CO_1110/CO_65\"   : \"co111065\",\n",
    "        \"CO_1211/CO_54\"   : \"co121154\",\n",
    "        \"CO_1211/CO_65\"   : \"co121165\",\n",
    "        \"CO_1312/CO_54\"   : \"co131254\",\n",
    "        \"CO_1312/CO_65\"   : \"co131265\",\n",
    "        \"CO_1413/CO_54\"   : \"co141354\",\n",
    "        \"CO_1413/CO_65\"   : \"co141365\",\n",
    "        \"OI_63+CII_158/FIR\"     : \"fir\",\n",
    "        \"OI_145+CII_158/FIR\"  : \"firoi145\",\n",
    "        \"SIII_Z1/FEII_Z1\"  : \"siii35feii26z1\",\n",
    "        \"SIII_Z3/FEII_Z3\"  : \"siii35feii26z3\",\n",
    "        \"H200S1_Z1/H200S0_Z1\" : \"h200s1s0z1\",\n",
    "        \"H200S1_Z3/H200S0_Z3\" : \"h200s1s0z3\",\n",
    "        \"H200S2_Z1/H200S0_Z1\" : \"h200s2s0z1\",\n",
    "        \"H200S2_Z3/H200S0_Z3\" : \"h200s2s0z3\",\n",
    "        \"H200S2_Z1/H200S1_Z1\" : \"h200s2s1z1\",\n",
    "        \"H200S2_Z3/H200S1_Z3\" : \"h200s2s1z3\",\n",
    "        \"H200S3_Z1/H200S1_Z1\" : \"h200s3s1z1\",\n",
    "        \"H200S3_Z3/H200S1_Z3\" : \"h200s3s1z3\",\n",
    "        \"H200S1_Z1/SIII_Z1\" : \"h200s1siiiz1\",\n",
    "        \"H200S1_Z3/SIII_Z3\" : \"h200s1siiiz3\",\n",
    "        \"H200S2_Z1/SIII_Z1\" : \"h200s2siiiz1\",\n",
    "        \"H200S2_Z3/SIII_Z3\" : \"h200s2siiiz3\",\n",
    "        \"H264Q1_Z1/H210S1_Z1\" : \"h264q110s1z1\",\n",
    "        \"H264Q1_Z3/H210S1_Z3\" : \"h264q110s1z3\"\n",
    "        }\n",
    "        a = list()\n",
    "        b = list()\n",
    "        for r in ratiodict:\n",
    "            nd = r.split(\"/\")\n",
    "            if (\"Z3\" in r):\n",
    "                z=3\n",
    "            else:\n",
    "                z=1\n",
    "            b.append((nd[0],nd[1],r,ratiodict[r]+\"web\",z))\n",
    "            a.append(ModelRatioData(nd[0],nd[1],r,ratiodict[r],z))\n",
    "        t = Table(rows=b,names=(\"numerator\",\"denominator\",\"label\",\"filename\",\"z\"))\n",
    "        t.add_index(\"label\")\n",
    "        t.write(\"current_models.tab\",format=\"ascii.ipac\",overwrite=True)\n",
    "  \n",
    "    def initializeFromFile(self,filename):\n",
    "        \"\"\"initialize models from an IPAC format ASCII file\"\"\"\n",
    "        self._models=Table.read(filename,format=\"ascii.ipac\")\n",
    "        self._models.add_index(\"label\")\n",
    "    \n",
    "   \n",
    "    def find_ratio_elements(self,m):\n",
    "        \"\"\"Return an iterator of valid numerator,denominator pairs in \n",
    "        dict format for the given list of measurement IDs\n",
    "        \"\"\"\n",
    "        if not isinstance(m, collections.abc.Iterable) or isinstance(m, (str, bytes)) :\n",
    "            raise Exception(\"m must be an array of strings\")\n",
    "            \n",
    "        for q in itertools.product(m,m):\n",
    "            s = q[0]+\"/\"+q[1]\n",
    "            z = dict()\n",
    "            if s in self._models[\"label\"]:\n",
    "                z={\"numerator\":self._models.loc[s][\"numerator\"],\n",
    "                   \"denominator\":self._models.loc[s][\"denominator\"]}\n",
    "                yield(z)\n",
    "                \n",
    "    def get_ratio_elements(self,m):   \n",
    "        \"\"\"Return a list of valid numerator,denominator pairs in dict format for the \n",
    "        given list of measurement IDs\n",
    "        \"\"\"\n",
    "        if not isinstance(m, collections.abc.Iterable) or isinstance(m, (str, bytes)) :\n",
    "            raise Exception(\"m must be an array of strings\")\n",
    "        k = list()   \n",
    "        for q in itertools.product(m,m):\n",
    "            s = q[0]+\"/\"+q[1]\n",
    "            if s in self._models[\"label\"]:\n",
    "                z={\"numerator\":self._models.loc[s][\"numerator\"],\n",
    "                   \"denominator\":self._models.loc[s][\"denominator\"]}\n",
    "                k.append(z)\n",
    "                \n",
    "        return k\n",
    "        \n",
    "            \n",
    "    def find_pairs(self,m):\n",
    "        \"\"\"Return an iterator of model ratios labels for the given list of measurement IDs\"\"\"\n",
    "        if not isinstance(m, collections.abc.Iterable) or isinstance(m, (str, bytes)) :\n",
    "            raise Exception(\"m must be an array of strings\")\n",
    "            \n",
    "        for q in itertools.product(m,m):\n",
    "            s = q[0]+\"/\"+q[1]\n",
    "            if s in self._models[\"label\"]:\n",
    "                yield(s)\n",
    "    \n",
    "    def find_files(self,m,ext=\"fits\"):\n",
    "        \"\"\"Return an iterator of model ratio files for the given list of measurement IDs\"\"\"\n",
    "        if not isinstance(m, collections.abc.Iterable) or isinstance(m, (str, bytes)):\n",
    "            raise Exception(\"m must be an array of strings\")\n",
    "        for q in itertools.product(m,m):\n",
    "            s = q[0]+\"/\"+q[1]\n",
    "            if s in self._models[\"label\"]:\n",
    "                tup = (s,self._models.loc[s][\"filename\"]+\".\"+ext)\n",
    "                #yield(self._models.loc[s][\"filename\"]+\".\"+ext)\n",
    "                yield(tup)\n",
    "    \n",
    "    def ratiocount(self,m):\n",
    "        \"\"\"Return the number of model ratios found for the given list of measurement IDs\"\"\"\n",
    "        # since find_files is a generator, we can't use len(), so do this sum.\n",
    "        # See https://stackoverflow.com/questions/393053/length-of-generator-output\n",
    "        return(sum(1 for _ in self.find_files(m)))\n",
    "                \n",
    "    def read_fits(self,m):\n",
    "        \"\"\"Given a list of measurement IDs, find and open the FITS files that have matching ratios\n",
    "           and populate the _fitsfiles dictionary\n",
    "        \"\"\"\n",
    "        d = \"/n/lupus/mpound/WITS/Docs/pdrt/\"\n",
    "        self._fitsfiles = dict()\n",
    "        for (k,p) in self.find_files(m):\n",
    "            self._fitsfiles[k] = fits.open(d+p)\n",
    "            \n",
    "    def read_ccd(self,m,unit):\n",
    "        \"\"\"Test method to use astropy's CCDdata as a storage mechanism for our model \n",
    "           ratio or observer data FITS files.\n",
    "            Parameters: \n",
    "                 m - list of measurement IDS (string)\n",
    "                 unit - units of the data (string)\n",
    "        \"\"\"\n",
    "        d = \"/n/lupus/mpound/WITS/Docs/pdrt/\"\n",
    "        self._fitsfiles = dict()\n",
    "        for (k,p) in self.find_files(m):\n",
    "            self._fitsfiles[k] = CCDData.read(d+p,unit=unit)\n",
    "    \n",
    "    def doit(self,measurements):\n",
    "        #measurements is a dict\n",
    "        mids = measurements.keys()\n",
    "        #self.read_fits(mids)\n",
    "        self.read_ccd(mids,unit='adu')\n",
    "        self.computeValidRatios(measurements)\n",
    "        self.computeDeltaSq(mids)\n",
    "        self.computeChisq()\n",
    "        self.plotChisq()\n",
    "      \n",
    "    def computeValidRatios(self,measurements):\n",
    "        z = self.find_ratio_elements(measurements.keys())\n",
    "        self._ratios = dict()\n",
    "        for p in z:\n",
    "            label = p[\"numerator\"]+\"/\"+p[\"denominator\"]\n",
    "            # deepcopy workaround for bug: https://github.com/astropy/astropy/issues/9006\n",
    "            self._ratios[label] = deepcopy(measurements[p[\"numerator\"]])/deepcopy(measurements[p[\"denominator\"]])\n",
    "        \n",
    "    \n",
    "    def computeDeltaSq(self,measurements):\n",
    "        #@todo perhaps don't store _fitsfiles but have them be a return value of read_fits.\n",
    "        # reasoning is that if we use the same PDRUtils object to make multiple computations, we\n",
    "        # have to be careful to clear _fitsfiles each time.\n",
    "        \n",
    "        if not self._fitsfiles: # empty list or None\n",
    "            raise Exception(\"No model data ready.  You need to call read_fits\")\n",
    "        \n",
    "        self._deltasq = dict()\n",
    "        for r in self._ratios:\n",
    "            #print(self._ratios[r])\n",
    "            #print(self._fitsfiles[r])\n",
    "            _z = self._fitsfiles[r].multiply(-1.0)\n",
    "            _z._data = _z._data + self._ratios[r].flux\n",
    "            _q = _z.divide(self._ratios[r].error._array)\n",
    "            self._deltasq[r] = _q.multiply(_q)\n",
    "            #delta[r] = ((self._ratios[r].flux - self._fitsfiles[r].data)/self._ratios[r].error)**2\n",
    "        \n",
    "    def computeChisq(self):\n",
    "        sumary = sum((self._deltasq[r]._data for r in self._deltasq))\n",
    "        self._dof = len(self._deltasq) - 1\n",
    "        k = list(self._deltasq.keys())[0]\n",
    "        self._chisq = CCDData(sumary,unit='adu',wcs=self._deltasq[k].wcs)\n",
    "        self._reducedChisq =  self._chisq.divide(self._dof)\n",
    "        \n",
    "    def plotReducedChisq(self,map='plasma',contours=True,levels=None):\n",
    "        pass\n",
    "    \n",
    "    def plotConfidenceINtervals(self):\n",
    "        chi2_stat = scipy.stats.distributions.chi2.cdf(self._chisq.data,self._dof)\n",
    "        \n",
    "    def plotChisq(self,cmap='plasma',contours=True,levels=None):\n",
    "        self._chisq.write(\"chisq.fits\",overwrite=True)\n",
    "        min_ = self._chisq.data.min()\n",
    "        max_ = self._chisq.data.max()\n",
    "        gc = aplpy.FITSFigure(\"chisq.fits\")\n",
    "        gc.show_colorscale(cmap=cmap,vmin=min_, vmax=max_,stretch='log')\n",
    "        gc.axis_labels.set_ytext('Log($G_0$) [Habing]')\n",
    "        gc.axis_labels.set_xtext('Log(n) [cm$^{-3}$] ')\n",
    "        if contours:\n",
    "            if levels == None:\n",
    "                levels_ = np.array([2.,6.,12.,18.])*min_\n",
    "                gc.show_contour(colors='white',levels=levels_)\n",
    "            else:\n",
    "                gc.show_contour(colors='white',levels=levels)\n",
    "    \n",
    "    \n",
    "                "
   ]
  },
  {
   "cell_type": "code",
   "execution_count": 12,
   "metadata": {},
   "outputs": [
    {
     "name": "stdout",
     "output_type": "stream",
     "text": [
      "30.0\n",
      "10.0\n",
      "10.0\n",
      "100.0\n",
      "{'OI_145': Measurement0(30.), 'CI_609': Measurement0(10.), 'CO_21': Measurement0(10.), 'CII_158': Measurement0(100.)}\n"
     ]
    },
    {
     "data": {
      "text/plain": [
       "{'_identifier': 'OI_145',\n",
       " '_data': array(30.),\n",
       " '_mask': False,\n",
       " '_wcs': None,\n",
       " '_meta': OrderedDict(),\n",
       " '_unit': None,\n",
       " '_uncertainty': StdDevUncertainty(5.0),\n",
       " '_flags': None}"
      ]
     },
     "execution_count": 12,
     "metadata": {},
     "output_type": "execute_result"
    }
   ],
   "source": [
    "m1 = Measurement0(data=30.,uncertainty = StdDevUncertainty(5.),identifier=\"OI_145\")\n",
    "m2 = Measurement0(data=10.,uncertainty = StdDevUncertainty(2.),identifier=\"CI_609\")\n",
    "m3 = Measurement0(data=10.,uncertainty = StdDevUncertainty(1.5),identifier=\"CO_21\")\n",
    "m4 = Measurement0(data=100.,uncertainty = StdDevUncertainty(10.),identifier=\"CII_158\")\n",
    "m = [m1.id,m2.id,m3.id,m4.id]\n",
    "md = dict()\n",
    "for t in [m1,m2,m3,m4]:\n",
    "    md[t.id] = t\n",
    "print(md)\n",
    "m1.__dict__"
   ]
  },
  {
   "cell_type": "markdown",
   "metadata": {},
   "source": [
    "<b>Ok, so this error went poof.  After spending much of a day chasing this down, it has disappeared...</b>\n",
    "*I don't really understand iterators.  Using find_ratio_elements in a loop causes an error if one tried to divide a Measurement indexed by numerator by a Measurement indexed by denominator. Example below. The error has to do with \"no parent data\" for the uncertainty.  It only happens with an iterator and not a list (get_ratio_elements).* "
   ]
  },
  {
   "cell_type": "code",
   "execution_count": 13,
   "metadata": {
    "scrolled": true
   },
   "outputs": [],
   "source": [
    "p = PDRutils(\"current_models.tab\")\n",
    "m = pd.Series([m1.id,m2.id,m3.id,m4.id])\n",
    "p.ratiocount(m)\n",
    "#x = p.get_ratio_elements(m)\n",
    "#print(x)\n",
    "if False:\n",
    "    for _z in p.find_ratio_elements(m):\n",
    "        # we are forced to make a deep copy here otherwise an attribute error is raised.\n",
    "        # See https://github.com/astropy/astropy/issues/9006\n",
    "       _m1 = deepcopy(md[_z[\"numerator\"]])\n",
    "       _m2 = deepcopy(md[_z[\"denominator\"]])\n",
    "       #m3 = md[x[xx][\"numerator\"]]/md[x[xx][\"denominator\"]]\n",
    "       _m3=_m1/(_m2)\n",
    "       print(\"u=\",_m3.uncertainty)\n"
   ]
  },
  {
   "cell_type": "code",
   "execution_count": 14,
   "metadata": {},
   "outputs": [
    {
     "name": "stdout",
     "output_type": "stream",
     "text": [
      "100.0\n",
      "0.3\n",
      "10.0\n",
      "1.0\n",
      "10.0\n",
      "10.0\n"
     ]
    },
    {
     "ename": "ValueError",
     "evalue": "Could not determine celestial frame corresponding to the specified WCS object",
     "output_type": "error",
     "traceback": [
      "\u001b[0;31m---------------------------------------------------------------------------\u001b[0m",
      "\u001b[0;31mValueError\u001b[0m                                Traceback (most recent call last)",
      "\u001b[0;32m<ipython-input-14-e22ff977bd94>\u001b[0m in \u001b[0;36m<module>\u001b[0;34m\u001b[0m\n\u001b[0;32m----> 1\u001b[0;31m \u001b[0mp\u001b[0m\u001b[0;34m.\u001b[0m\u001b[0mdoit\u001b[0m\u001b[0;34m(\u001b[0m\u001b[0mmd\u001b[0m\u001b[0;34m)\u001b[0m\u001b[0;34m\u001b[0m\u001b[0;34m\u001b[0m\u001b[0m\n\u001b[0m",
      "\u001b[0;32m<ipython-input-11-64e358976f34>\u001b[0m in \u001b[0;36mdoit\u001b[0;34m(self, measurements)\u001b[0m\n\u001b[1;32m    313\u001b[0m         \u001b[0mself\u001b[0m\u001b[0;34m.\u001b[0m\u001b[0mcomputeDeltaSq\u001b[0m\u001b[0;34m(\u001b[0m\u001b[0mmids\u001b[0m\u001b[0;34m)\u001b[0m\u001b[0;34m\u001b[0m\u001b[0;34m\u001b[0m\u001b[0m\n\u001b[1;32m    314\u001b[0m         \u001b[0mself\u001b[0m\u001b[0;34m.\u001b[0m\u001b[0mcomputeChisq\u001b[0m\u001b[0;34m(\u001b[0m\u001b[0;34m)\u001b[0m\u001b[0;34m\u001b[0m\u001b[0;34m\u001b[0m\u001b[0m\n\u001b[0;32m--> 315\u001b[0;31m         \u001b[0mself\u001b[0m\u001b[0;34m.\u001b[0m\u001b[0mplotChisq\u001b[0m\u001b[0;34m(\u001b[0m\u001b[0;34m)\u001b[0m\u001b[0;34m\u001b[0m\u001b[0;34m\u001b[0m\u001b[0m\n\u001b[0m\u001b[1;32m    316\u001b[0m \u001b[0;34m\u001b[0m\u001b[0m\n\u001b[1;32m    317\u001b[0m     \u001b[0;32mdef\u001b[0m \u001b[0mcomputeValidRatios\u001b[0m\u001b[0;34m(\u001b[0m\u001b[0mself\u001b[0m\u001b[0;34m,\u001b[0m\u001b[0mmeasurements\u001b[0m\u001b[0;34m)\u001b[0m\u001b[0;34m:\u001b[0m\u001b[0;34m\u001b[0m\u001b[0;34m\u001b[0m\u001b[0m\n",
      "\u001b[0;32m<ipython-input-11-64e358976f34>\u001b[0m in \u001b[0;36mplotChisq\u001b[0;34m(self, cmap, contours, levels)\u001b[0m\n\u001b[1;32m    360\u001b[0m             \u001b[0;32mif\u001b[0m \u001b[0mlevels\u001b[0m \u001b[0;34m==\u001b[0m \u001b[0;32mNone\u001b[0m\u001b[0;34m:\u001b[0m\u001b[0;34m\u001b[0m\u001b[0;34m\u001b[0m\u001b[0m\n\u001b[1;32m    361\u001b[0m                 \u001b[0mlevels_\u001b[0m \u001b[0;34m=\u001b[0m \u001b[0mnp\u001b[0m\u001b[0;34m.\u001b[0m\u001b[0marray\u001b[0m\u001b[0;34m(\u001b[0m\u001b[0;34m[\u001b[0m\u001b[0;36m2.\u001b[0m\u001b[0;34m,\u001b[0m\u001b[0;36m6.\u001b[0m\u001b[0;34m,\u001b[0m\u001b[0;36m12.\u001b[0m\u001b[0;34m,\u001b[0m\u001b[0;36m18.\u001b[0m\u001b[0;34m]\u001b[0m\u001b[0;34m)\u001b[0m\u001b[0;34m*\u001b[0m\u001b[0mmin_\u001b[0m\u001b[0;34m\u001b[0m\u001b[0;34m\u001b[0m\u001b[0m\n\u001b[0;32m--> 362\u001b[0;31m                 \u001b[0mgc\u001b[0m\u001b[0;34m.\u001b[0m\u001b[0mshow_contour\u001b[0m\u001b[0;34m(\u001b[0m\u001b[0mcolors\u001b[0m\u001b[0;34m=\u001b[0m\u001b[0;34m'white'\u001b[0m\u001b[0;34m,\u001b[0m\u001b[0mlevels\u001b[0m\u001b[0;34m=\u001b[0m\u001b[0mlevels_\u001b[0m\u001b[0;34m)\u001b[0m\u001b[0;34m\u001b[0m\u001b[0;34m\u001b[0m\u001b[0m\n\u001b[0m\u001b[1;32m    363\u001b[0m             \u001b[0;32melse\u001b[0m\u001b[0;34m:\u001b[0m\u001b[0;34m\u001b[0m\u001b[0;34m\u001b[0m\u001b[0m\n\u001b[1;32m    364\u001b[0m                 \u001b[0mgc\u001b[0m\u001b[0;34m.\u001b[0m\u001b[0mshow_contour\u001b[0m\u001b[0;34m(\u001b[0m\u001b[0mcolors\u001b[0m\u001b[0;34m=\u001b[0m\u001b[0;34m'white'\u001b[0m\u001b[0;34m,\u001b[0m\u001b[0mlevels\u001b[0m\u001b[0;34m=\u001b[0m\u001b[0mlevels\u001b[0m\u001b[0;34m)\u001b[0m\u001b[0;34m\u001b[0m\u001b[0;34m\u001b[0m\u001b[0m\n",
      "\u001b[0;32m/n/algol2/mpound/anaconda3/lib/python3.6/site-packages/aplpy/decorators.py\u001b[0m in \u001b[0;36mwrapper\u001b[0;34m(*args, **kwargs)\u001b[0m\n\u001b[1;32m     26\u001b[0m \u001b[0;34m\u001b[0m\u001b[0m\n\u001b[1;32m     27\u001b[0m         \u001b[0;32mtry\u001b[0m\u001b[0;34m:\u001b[0m\u001b[0;34m\u001b[0m\u001b[0;34m\u001b[0m\u001b[0m\n\u001b[0;32m---> 28\u001b[0;31m             \u001b[0;32mreturn\u001b[0m \u001b[0mf\u001b[0m\u001b[0;34m(\u001b[0m\u001b[0;34m*\u001b[0m\u001b[0margs\u001b[0m\u001b[0;34m,\u001b[0m \u001b[0;34m**\u001b[0m\u001b[0mkwargs\u001b[0m\u001b[0;34m)\u001b[0m\u001b[0;34m\u001b[0m\u001b[0;34m\u001b[0m\u001b[0m\n\u001b[0m\u001b[1;32m     29\u001b[0m         \u001b[0;32mfinally\u001b[0m\u001b[0;34m:\u001b[0m\u001b[0;34m\u001b[0m\u001b[0;34m\u001b[0m\u001b[0m\n\u001b[1;32m     30\u001b[0m             \u001b[0mmydata\u001b[0m\u001b[0;34m.\u001b[0m\u001b[0mnesting\u001b[0m \u001b[0;34m-=\u001b[0m \u001b[0;36m1\u001b[0m\u001b[0;34m\u001b[0m\u001b[0;34m\u001b[0m\u001b[0m\n",
      "\u001b[0;32m/n/algol2/mpound/anaconda3/lib/python3.6/site-packages/aplpy/core.py\u001b[0m in \u001b[0;36mshow_contour\u001b[0;34m(self, data, hdu, layer, levels, filled, cmap, colors, returnlevels, convention, dimensions, slices, smooth, kernel, overlap, **kwargs)\u001b[0m\n\u001b[1;32m    965\u001b[0m         \u001b[0;32melse\u001b[0m\u001b[0;34m:\u001b[0m\u001b[0;34m\u001b[0m\u001b[0;34m\u001b[0m\u001b[0m\n\u001b[1;32m    966\u001b[0m             c = self.ax.contour(image_contour, levels,\n\u001b[0;32m--> 967\u001b[0;31m                                 \u001b[0mtransform\u001b[0m\u001b[0;34m=\u001b[0m\u001b[0mself\u001b[0m\u001b[0;34m.\u001b[0m\u001b[0max\u001b[0m\u001b[0;34m.\u001b[0m\u001b[0mget_transform\u001b[0m\u001b[0;34m(\u001b[0m\u001b[0mframe\u001b[0m\u001b[0;34m)\u001b[0m\u001b[0;34m,\u001b[0m\u001b[0;34m\u001b[0m\u001b[0;34m\u001b[0m\u001b[0m\n\u001b[0m\u001b[1;32m    968\u001b[0m                                 \u001b[0mcmap\u001b[0m\u001b[0;34m=\u001b[0m\u001b[0mcmap\u001b[0m\u001b[0;34m,\u001b[0m\u001b[0;34m\u001b[0m\u001b[0;34m\u001b[0m\u001b[0m\n\u001b[1;32m    969\u001b[0m                                 colors=colors, **kwargs)\n",
      "\u001b[0;32m/n/algol2/mpound/anaconda3/lib/python3.6/site-packages/astropy/visualization/wcsaxes/core.py\u001b[0m in \u001b[0;36mget_transform\u001b[0;34m(self, frame)\u001b[0m\n\u001b[1;32m    542\u001b[0m                 \u001b[0;34m*\u001b[0m \u001b[0;34m:\u001b[0m\u001b[0;32mclass\u001b[0m\u001b[0;34m:\u001b[0m\u001b[0;31m`\u001b[0m\u001b[0;34m~\u001b[0m\u001b[0mastropy\u001b[0m\u001b[0;34m.\u001b[0m\u001b[0mcoordinates\u001b[0m\u001b[0;34m.\u001b[0m\u001b[0mBaseCoordinateFrame\u001b[0m\u001b[0;31m`\u001b[0m \u001b[0minstance\u001b[0m\u001b[0;34m.\u001b[0m\u001b[0;34m\u001b[0m\u001b[0;34m\u001b[0m\u001b[0m\n\u001b[1;32m    543\u001b[0m         \"\"\"\n\u001b[0;32m--> 544\u001b[0;31m         \u001b[0;32mreturn\u001b[0m \u001b[0mself\u001b[0m\u001b[0;34m.\u001b[0m\u001b[0m_get_transform_no_transdata\u001b[0m\u001b[0;34m(\u001b[0m\u001b[0mframe\u001b[0m\u001b[0;34m)\u001b[0m\u001b[0;34m.\u001b[0m\u001b[0minverted\u001b[0m\u001b[0;34m(\u001b[0m\u001b[0;34m)\u001b[0m \u001b[0;34m+\u001b[0m \u001b[0mself\u001b[0m\u001b[0;34m.\u001b[0m\u001b[0mtransData\u001b[0m\u001b[0;34m\u001b[0m\u001b[0;34m\u001b[0m\u001b[0m\n\u001b[0m\u001b[1;32m    545\u001b[0m \u001b[0;34m\u001b[0m\u001b[0m\n\u001b[1;32m    546\u001b[0m     \u001b[0;32mdef\u001b[0m \u001b[0m_get_transform_no_transdata\u001b[0m\u001b[0;34m(\u001b[0m\u001b[0mself\u001b[0m\u001b[0;34m,\u001b[0m \u001b[0mframe\u001b[0m\u001b[0;34m)\u001b[0m\u001b[0;34m:\u001b[0m\u001b[0;34m\u001b[0m\u001b[0;34m\u001b[0m\u001b[0m\n",
      "\u001b[0;32m/n/algol2/mpound/anaconda3/lib/python3.6/site-packages/astropy/visualization/wcsaxes/core.py\u001b[0m in \u001b[0;36m_get_transform_no_transdata\u001b[0;34m(self, frame)\u001b[0m\n\u001b[1;32m    554\u001b[0m         \u001b[0;32mif\u001b[0m \u001b[0misinstance\u001b[0m\u001b[0;34m(\u001b[0m\u001b[0mframe\u001b[0m\u001b[0;34m,\u001b[0m \u001b[0mWCS\u001b[0m\u001b[0;34m)\u001b[0m\u001b[0;34m:\u001b[0m\u001b[0;34m\u001b[0m\u001b[0;34m\u001b[0m\u001b[0m\n\u001b[1;32m    555\u001b[0m \u001b[0;34m\u001b[0m\u001b[0m\n\u001b[0;32m--> 556\u001b[0;31m             \u001b[0mcoord_in\u001b[0m \u001b[0;34m=\u001b[0m \u001b[0mwcs_to_celestial_frame\u001b[0m\u001b[0;34m(\u001b[0m\u001b[0mself\u001b[0m\u001b[0;34m.\u001b[0m\u001b[0mwcs\u001b[0m\u001b[0;34m)\u001b[0m\u001b[0;34m\u001b[0m\u001b[0;34m\u001b[0m\u001b[0m\n\u001b[0m\u001b[1;32m    557\u001b[0m             \u001b[0mcoord_out\u001b[0m \u001b[0;34m=\u001b[0m \u001b[0mwcs_to_celestial_frame\u001b[0m\u001b[0;34m(\u001b[0m\u001b[0mframe\u001b[0m\u001b[0;34m)\u001b[0m\u001b[0;34m\u001b[0m\u001b[0;34m\u001b[0m\u001b[0m\n\u001b[1;32m    558\u001b[0m \u001b[0;34m\u001b[0m\u001b[0m\n",
      "\u001b[0;32m/n/algol2/mpound/anaconda3/lib/python3.6/site-packages/astropy/wcs/utils.py\u001b[0m in \u001b[0;36mwcs_to_celestial_frame\u001b[0;34m(wcs)\u001b[0m\n\u001b[1;32m    207\u001b[0m             \u001b[0;32mif\u001b[0m \u001b[0mframe\u001b[0m \u001b[0;32mis\u001b[0m \u001b[0;32mnot\u001b[0m \u001b[0;32mNone\u001b[0m\u001b[0;34m:\u001b[0m\u001b[0;34m\u001b[0m\u001b[0;34m\u001b[0m\u001b[0m\n\u001b[1;32m    208\u001b[0m                 \u001b[0;32mreturn\u001b[0m \u001b[0mframe\u001b[0m\u001b[0;34m\u001b[0m\u001b[0;34m\u001b[0m\u001b[0m\n\u001b[0;32m--> 209\u001b[0;31m     raise ValueError(\"Could not determine celestial frame corresponding to \"\n\u001b[0m\u001b[1;32m    210\u001b[0m                      \"the specified WCS object\")\n\u001b[1;32m    211\u001b[0m \u001b[0;34m\u001b[0m\u001b[0m\n",
      "\u001b[0;31mValueError\u001b[0m: Could not determine celestial frame corresponding to the specified WCS object"
     ]
    },
    {
     "data": {
      "image/png": "[encoded data removed]",
      "text/plain": [
       "<Figure size 720x648 with 1 Axes>"
      ]
     },
     "metadata": {
      "needs_background": "light"
     },
     "output_type": "display_data"
    }
   ],
   "source": [
    "p.doit(md)"
   ]
  },
  {
   "cell_type": "code",
   "execution_count": 34,
   "metadata": {},
   "outputs": [],
   "source": [
    "x = CCDData.read(\"/lupus/mpound/WITS/Docs/pdrt/co7610webpth.fits\",unit='adu')"
   ]
  },
  {
   "cell_type": "code",
   "execution_count": 15,
   "metadata": {},
   "outputs": [
    {
     "name": "stdout",
     "output_type": "stream",
     "text": [
      "100.0\n",
      "0.3\n",
      "10.0\n",
      "1.0\n",
      "10.0\n",
      "10.0\n",
      "<class 'numpy.ndarray'>\n",
      "OI_145/CII_158\n",
      "CI_609/CO_21\n",
      "CII_158/CI_609\n"
     ]
    }
   ],
   "source": [
    "p.read_ccd(m,unit='flx')\n",
    "#print(p._fitsfiles['OI_145/CII_158'])\n",
    "#_z=p._fitsfiles['OI_145/CII_158'].multiply(-1.0).divide(2.0)\n",
    "#print(p._fitsfiles)\n",
    "#print(_z)\n",
    "p.computeValidRatios(md)\n",
    "#for x in p.find_files(m):\n",
    "#    print(x)\n",
    "#print(p._ratios['OI_145/CII_158'].error._array)\n",
    "p.computeDeltaSq(md)\n",
    "print(type(p._deltasq['OI_145/CII_158']._data))\n",
    "for item in p._deltasq:\n",
    "    print(item)\n",
    "#sum(p._deltasq[item]._data for item in p._deltasq)\n",
    "len(p._deltasq)\n",
    "p.computeChisq()"
   ]
  },
  {
   "cell_type": "code",
   "execution_count": 16,
   "metadata": {},
   "outputs": [
    {
     "name": "stdout",
     "output_type": "stream",
     "text": [
      "WCS Transformation\n",
      "\n",
      "This transformation has 2 pixel and 2 world dimensions\n",
      "\n",
      "Array shape (Numpy order): (29, 25)\n",
      "\n",
      "Pixel Dim  Data size  Bounds\n",
      "        0         25  None\n",
      "        1         29  None\n",
      "\n",
      "World Dim  Physical Type  Units\n",
      "        0  None           unknown\n",
      "        1  None           unknown\n",
      "\n",
      "Correlation between pixel and world axes:\n",
      "\n",
      "           Pixel Dim\n",
      "World Dim    0    1\n",
      "        0  yes   no\n",
      "        1   no  yes\n"
     ]
    },
    {
     "data": {
      "text/plain": [
       "<matplotlib.image.AxesImage at 0x7fa9b79ad8d0>"
      ]
     },
     "execution_count": 16,
     "metadata": {},
     "output_type": "execute_result"
    },
    {
     "data": {
      "image/png": "[encoded data removed]",
      "text/plain": [
       "<Figure size 432x288 with 1 Axes>"
      ]
     },
     "metadata": {
      "needs_background": "light"
     },
     "output_type": "display_data"
    }
   ],
   "source": [
    "tt = p._chisq\n",
    "print(tt.wcs)\n",
    "plt.imshow(tt,norm=colors.LogNorm(vmin=tt.data.min(), vmax=tt.data.max()),cmap='hsv_r',origin='lower')"
   ]
  },
  {
   "cell_type": "code",
   "execution_count": 17,
   "metadata": {},
   "outputs": [
    {
     "data": {
      "text/plain": [
       "0.8078123"
      ]
     },
     "execution_count": 17,
     "metadata": {},
     "output_type": "execute_result"
    }
   ],
   "source": [
    "np.min(p._chisq.data)"
   ]
  },
  {
   "cell_type": "code",
   "execution_count": 31,
   "metadata": {},
   "outputs": [
    {
     "name": "stdout",
     "output_type": "stream",
     "text": [
      "WCS Transformation\n",
      "\n",
      "This transformation has 2 pixel and 2 world dimensions\n",
      "\n",
      "Array shape (Numpy order): (29, 25)\n",
      "\n",
      "Pixel Dim  Data size  Bounds\n",
      "        0         25  None\n",
      "        1         29  None\n",
      "\n",
      "World Dim  Physical Type  Units\n",
      "        0  None           unknown\n",
      "        1  None           unknown\n",
      "\n",
      "Correlation between pixel and world axes:\n",
      "\n",
      "           Pixel Dim\n",
      "World Dim    0    1\n",
      "        0  yes   no\n",
      "        1   no  yes\n"
     ]
    }
   ],
   "source": [
    "t = CCDData.read(\"chisqweb.fits\",unit=\"flx\")\n",
    "print(t.wcs)"
   ]
  },
  {
   "cell_type": "code",
   "execution_count": 19,
   "metadata": {},
   "outputs": [
    {
     "name": "stdout",
     "output_type": "stream",
     "text": [
      "(29, 25)\n",
      "{'naxis': 2, '_naxis': [25, 29], '_pixel_bounds': None}\n",
      "[0.25 0.25]\n"
     ]
    }
   ],
   "source": [
    "np.min(t.data)\n",
    "print(t.data.shape)\n",
    "print(t.wcs.__dict__)\n",
    "print(t.wcs.wcs.cdelt)"
   ]
  },
  {
   "cell_type": "code",
   "execution_count": 29,
   "metadata": {},
   "outputs": [
    {
     "name": "stdout",
     "output_type": "stream",
     "text": [
      "[1.e-01 1.e+00 1.e+01 1.e+02 1.e+03 1.e+04]\n"
     ]
    },
    {
     "data": {
      "image/png": "[encoded data removed]",
      "text/plain": [
       "<Figure size 432x288 with 1 Axes>"
      ]
     },
     "metadata": {
      "needs_background": "light"
     },
     "output_type": "display_data"
    }
   ],
   "source": [
    "#ax=plt.subplot(xlim=[t.wcs.wcs.crval[0],t.wcs._naxis[0]*t.wcs.wcs.cdelt[0]],ylim=[t.wcs.wcs.crval[1],t.wcs._naxis[1]*t.wcs.wcs.cdelt[1]])\n",
    "ax=plt.subplot()\n",
    "ax.imshow(t.data,norm=colors.LogNorm(vmin=t.data.min(), vmax=t.data.max()),cmap='hsv_r',origin='lower')\n",
    "ax.loglog()\n",
    "ticks=ax.get_xticks()\n",
    "print(ticks)#ax.loglog("
   ]
  },
  {
   "cell_type": "code",
   "execution_count": 21,
   "metadata": {},
   "outputs": [],
   "source": [
    "k = list(p._deltasq)[0]"
   ]
  },
  {
   "cell_type": "code",
   "execution_count": 22,
   "metadata": {},
   "outputs": [
    {
     "name": "stdout",
     "output_type": "stream",
     "text": [
      "OI_145/CII_158\n"
     ]
    }
   ],
   "source": [
    "print(k)"
   ]
  },
  {
   "cell_type": "code",
   "execution_count": 53,
   "metadata": {},
   "outputs": [
    {
     "data": {
      "text/plain": [
       "  Primary name | Unit definition     | Aliases\n",
       "[\n",
       "  Habing       | 1.6e-06 kg / s3     |         ,\n",
       "  bol          | 2.51802e-08 kg / s3 | f_bol   ,\n",
       "]"
      ]
     },
     "execution_count": 53,
     "metadata": {},
     "output_type": "execute_result"
    }
   ],
   "source": [
    "habing_unit = u.def_unit('Habing',1.6E-3*u.erg/(u.second*u.cm*u.cm))\n",
    "u.add_enabled_units([habing_unit])\n",
    "(u.erg/(u.second*u.cm*u.cm)).find_equivalent_units()"
   ]
  },
  {
   "cell_type": "code",
   "execution_count": 71,
   "metadata": {},
   "outputs": [
    {
     "ename": "OSError",
     "evalue": "An error occurred while reading the FITS file",
     "output_type": "error",
     "traceback": [
      "\u001b[0;31m---------------------------------------------------------------------------\u001b[0m",
      "\u001b[0;31mIndexError\u001b[0m                                Traceback (most recent call last)",
      "\u001b[0;32m/n/algol2/mpound/anaconda3/lib/python3.6/site-packages/astropy/io/fits/hdu/hdulist.py\u001b[0m in \u001b[0;36m_try_while_unread_hdus\u001b[0;34m(self, func, *args, **kwargs)\u001b[0m\n\u001b[1;32m   1095\u001b[0m             \u001b[0;32mtry\u001b[0m\u001b[0;34m:\u001b[0m\u001b[0;34m\u001b[0m\u001b[0;34m\u001b[0m\u001b[0m\n\u001b[0;32m-> 1096\u001b[0;31m                 \u001b[0;32mreturn\u001b[0m \u001b[0mfunc\u001b[0m\u001b[0;34m(\u001b[0m\u001b[0;34m*\u001b[0m\u001b[0margs\u001b[0m\u001b[0;34m,\u001b[0m \u001b[0;34m**\u001b[0m\u001b[0mkwargs\u001b[0m\u001b[0;34m)\u001b[0m\u001b[0;34m\u001b[0m\u001b[0;34m\u001b[0m\u001b[0m\n\u001b[0m\u001b[1;32m   1097\u001b[0m             \u001b[0;32mexcept\u001b[0m \u001b[0mException\u001b[0m\u001b[0;34m:\u001b[0m\u001b[0;34m\u001b[0m\u001b[0;34m\u001b[0m\u001b[0m\n",
      "\u001b[0;31mIndexError\u001b[0m: list index out of range",
      "\nDuring handling of the above exception, another exception occurred:\n",
      "\u001b[0;31mException\u001b[0m                                 Traceback (most recent call last)",
      "\u001b[0;32m/n/algol2/mpound/anaconda3/lib/python3.6/site-packages/astropy/io/fits/hdu/base.py\u001b[0m in \u001b[0;36m_readfrom_internal\u001b[0;34m(cls, data, header, checksum, ignore_missing_end, **kwargs)\u001b[0m\n\u001b[1;32m    406\u001b[0m                     \u001b[0;31m# that are needed to build the HDU object.\u001b[0m\u001b[0;34m\u001b[0m\u001b[0;34m\u001b[0m\u001b[0;34m\u001b[0m\u001b[0m\n\u001b[0;32m--> 407\u001b[0;31m                     \u001b[0mheader_str\u001b[0m\u001b[0;34m,\u001b[0m \u001b[0mheader\u001b[0m \u001b[0;34m=\u001b[0m \u001b[0m_BasicHeader\u001b[0m\u001b[0;34m.\u001b[0m\u001b[0mfromfile\u001b[0m\u001b[0;34m(\u001b[0m\u001b[0mdata\u001b[0m\u001b[0;34m)\u001b[0m\u001b[0;34m\u001b[0m\u001b[0;34m\u001b[0m\u001b[0m\n\u001b[0m\u001b[1;32m    408\u001b[0m                 \u001b[0;32mexcept\u001b[0m \u001b[0mException\u001b[0m\u001b[0;34m:\u001b[0m\u001b[0;34m\u001b[0m\u001b[0;34m\u001b[0m\u001b[0m\n",
      "\u001b[0;32m/n/algol2/mpound/anaconda3/lib/python3.6/site-packages/astropy/io/fits/header.py\u001b[0m in \u001b[0;36mfromfile\u001b[0;34m(cls, fileobj)\u001b[0m\n\u001b[1;32m   2080\u001b[0m         \u001b[0;32mtry\u001b[0m\u001b[0;34m:\u001b[0m\u001b[0;34m\u001b[0m\u001b[0;34m\u001b[0m\u001b[0m\n\u001b[0;32m-> 2081\u001b[0;31m             \u001b[0mheader_str\u001b[0m\u001b[0;34m,\u001b[0m \u001b[0mcards\u001b[0m \u001b[0;34m=\u001b[0m \u001b[0mparse_header\u001b[0m\u001b[0;34m(\u001b[0m\u001b[0mfileobj\u001b[0m\u001b[0;34m)\u001b[0m\u001b[0;34m\u001b[0m\u001b[0;34m\u001b[0m\u001b[0m\n\u001b[0m\u001b[1;32m   2082\u001b[0m             \u001b[0m_check_padding\u001b[0m\u001b[0;34m(\u001b[0m\u001b[0mheader_str\u001b[0m\u001b[0;34m,\u001b[0m \u001b[0mBLOCK_SIZE\u001b[0m\u001b[0;34m,\u001b[0m \u001b[0;32mFalse\u001b[0m\u001b[0;34m)\u001b[0m\u001b[0;34m\u001b[0m\u001b[0;34m\u001b[0m\u001b[0m\n",
      "\u001b[0;32mastropy/io/fits/_utils.pyx\u001b[0m in \u001b[0;36mastropy.io.fits._utils.parse_header\u001b[0;34m()\u001b[0m\n",
      "\u001b[0;31mException\u001b[0m: ",
      "\nDuring handling of the above exception, another exception occurred:\n",
      "\u001b[0;31mOSError\u001b[0m                                   Traceback (most recent call last)",
      "\u001b[0;32m/n/algol2/mpound/anaconda3/lib/python3.6/site-packages/aplpy/core.py\u001b[0m in \u001b[0;36m_get_hdu\u001b[0;34m(self, data, hdu, north, convention, dimensions, slices)\u001b[0m\n\u001b[1;32m    312\u001b[0m             \u001b[0;32mtry\u001b[0m\u001b[0;34m:\u001b[0m\u001b[0;34m\u001b[0m\u001b[0;34m\u001b[0m\u001b[0m\n\u001b[0;32m--> 313\u001b[0;31m                 \u001b[0mhdulist\u001b[0m \u001b[0;34m=\u001b[0m \u001b[0mfits\u001b[0m\u001b[0;34m.\u001b[0m\u001b[0mopen\u001b[0m\u001b[0;34m(\u001b[0m\u001b[0mfilename\u001b[0m\u001b[0;34m)\u001b[0m\u001b[0;34m\u001b[0m\u001b[0;34m\u001b[0m\u001b[0m\n\u001b[0m\u001b[1;32m    314\u001b[0m             \u001b[0;32mexcept\u001b[0m \u001b[0mException\u001b[0m\u001b[0;34m:\u001b[0m\u001b[0;34m\u001b[0m\u001b[0;34m\u001b[0m\u001b[0m\n",
      "\u001b[0;32m/n/algol2/mpound/anaconda3/lib/python3.6/site-packages/astropy/io/fits/hdu/hdulist.py\u001b[0m in \u001b[0;36mfitsopen\u001b[0;34m(name, mode, memmap, save_backup, cache, lazy_load_hdus, **kwargs)\u001b[0m\n\u001b[1;32m    150\u001b[0m     return HDUList.fromfile(name, mode, memmap, save_backup, cache,\n\u001b[0;32m--> 151\u001b[0;31m                             lazy_load_hdus, **kwargs)\n\u001b[0m\u001b[1;32m    152\u001b[0m \u001b[0;34m\u001b[0m\u001b[0m\n",
      "\u001b[0;32m/n/algol2/mpound/anaconda3/lib/python3.6/site-packages/astropy/io/fits/hdu/hdulist.py\u001b[0m in \u001b[0;36mfromfile\u001b[0;34m(cls, fileobj, mode, memmap, save_backup, cache, lazy_load_hdus, **kwargs)\u001b[0m\n\u001b[1;32m    389\u001b[0m                              \u001b[0msave_backup\u001b[0m\u001b[0;34m=\u001b[0m\u001b[0msave_backup\u001b[0m\u001b[0;34m,\u001b[0m \u001b[0mcache\u001b[0m\u001b[0;34m=\u001b[0m\u001b[0mcache\u001b[0m\u001b[0;34m,\u001b[0m\u001b[0;34m\u001b[0m\u001b[0;34m\u001b[0m\u001b[0m\n\u001b[0;32m--> 390\u001b[0;31m                              lazy_load_hdus=lazy_load_hdus, **kwargs)\n\u001b[0m\u001b[1;32m    391\u001b[0m \u001b[0;34m\u001b[0m\u001b[0m\n",
      "\u001b[0;32m/n/algol2/mpound/anaconda3/lib/python3.6/site-packages/astropy/io/fits/hdu/hdulist.py\u001b[0m in \u001b[0;36m_readfrom\u001b[0;34m(cls, fileobj, data, mode, memmap, save_backup, cache, lazy_load_hdus, **kwargs)\u001b[0m\n\u001b[1;32m   1063\u001b[0m         \u001b[0;31m# Make sure at least the PRIMARY HDU can be read\u001b[0m\u001b[0;34m\u001b[0m\u001b[0;34m\u001b[0m\u001b[0;34m\u001b[0m\u001b[0m\n\u001b[0;32m-> 1064\u001b[0;31m         \u001b[0mread_one\u001b[0m \u001b[0;34m=\u001b[0m \u001b[0mhdulist\u001b[0m\u001b[0;34m.\u001b[0m\u001b[0m_read_next_hdu\u001b[0m\u001b[0;34m(\u001b[0m\u001b[0;34m)\u001b[0m\u001b[0;34m\u001b[0m\u001b[0;34m\u001b[0m\u001b[0m\n\u001b[0m\u001b[1;32m   1065\u001b[0m \u001b[0;34m\u001b[0m\u001b[0m\n",
      "\u001b[0;32m/n/algol2/mpound/anaconda3/lib/python3.6/site-packages/astropy/io/fits/hdu/hdulist.py\u001b[0m in \u001b[0;36m_read_next_hdu\u001b[0;34m(self)\u001b[0m\n\u001b[1;32m   1165\u001b[0m                     \u001b[0;31m# keyword of the primary HDU accordingly\u001b[0m\u001b[0;34m\u001b[0m\u001b[0;34m\u001b[0m\u001b[0;34m\u001b[0m\u001b[0m\n\u001b[0;32m-> 1166\u001b[0;31m                     \u001b[0mself\u001b[0m\u001b[0;34m.\u001b[0m\u001b[0mupdate_extend\u001b[0m\u001b[0;34m(\u001b[0m\u001b[0;34m)\u001b[0m\u001b[0;34m\u001b[0m\u001b[0;34m\u001b[0m\u001b[0m\n\u001b[0m\u001b[1;32m   1167\u001b[0m \u001b[0;34m\u001b[0m\u001b[0m\n",
      "\u001b[0;32m/n/algol2/mpound/anaconda3/lib/python3.6/site-packages/astropy/io/fits/hdu/hdulist.py\u001b[0m in \u001b[0;36mupdate_extend\u001b[0;34m(self)\u001b[0m\n\u001b[1;32m    861\u001b[0m                 \u001b[0mhdr\u001b[0m\u001b[0;34m[\u001b[0m\u001b[0;34m'EXTEND'\u001b[0m\u001b[0;34m]\u001b[0m \u001b[0;34m=\u001b[0m \u001b[0;32mTrue\u001b[0m\u001b[0;34m\u001b[0m\u001b[0;34m\u001b[0m\u001b[0m\n\u001b[0;32m--> 862\u001b[0;31m         \u001b[0;32melif\u001b[0m \u001b[0mget_first_ext\u001b[0m\u001b[0;34m(\u001b[0m\u001b[0;34m)\u001b[0m \u001b[0;32mis\u001b[0m \u001b[0;32mnot\u001b[0m \u001b[0;32mNone\u001b[0m\u001b[0;34m:\u001b[0m\u001b[0;34m\u001b[0m\u001b[0;34m\u001b[0m\u001b[0m\n\u001b[0m\u001b[1;32m    863\u001b[0m             \u001b[0;32mif\u001b[0m \u001b[0mhdr\u001b[0m\u001b[0;34m[\u001b[0m\u001b[0;34m'NAXIS'\u001b[0m\u001b[0;34m]\u001b[0m \u001b[0;34m==\u001b[0m \u001b[0;36m0\u001b[0m\u001b[0;34m:\u001b[0m\u001b[0;34m\u001b[0m\u001b[0;34m\u001b[0m\u001b[0m\n",
      "\u001b[0;32m/n/algol2/mpound/anaconda3/lib/python3.6/site-packages/astropy/io/fits/hdu/hdulist.py\u001b[0m in \u001b[0;36mget_first_ext\u001b[0;34m()\u001b[0m\n\u001b[1;32m    854\u001b[0m             \u001b[0;32mtry\u001b[0m\u001b[0;34m:\u001b[0m\u001b[0;34m\u001b[0m\u001b[0;34m\u001b[0m\u001b[0m\n\u001b[0;32m--> 855\u001b[0;31m                 \u001b[0;32mreturn\u001b[0m \u001b[0mself\u001b[0m\u001b[0;34m[\u001b[0m\u001b[0;36m1\u001b[0m\u001b[0;34m]\u001b[0m\u001b[0;34m\u001b[0m\u001b[0;34m\u001b[0m\u001b[0m\n\u001b[0m\u001b[1;32m    856\u001b[0m             \u001b[0;32mexcept\u001b[0m \u001b[0mIndexError\u001b[0m\u001b[0;34m:\u001b[0m\u001b[0;34m\u001b[0m\u001b[0;34m\u001b[0m\u001b[0m\n",
      "\u001b[0;32m/n/algol2/mpound/anaconda3/lib/python3.6/site-packages/astropy/io/fits/hdu/hdulist.py\u001b[0m in \u001b[0;36m__getitem__\u001b[0;34m(self, key)\u001b[0m\n\u001b[1;32m    299\u001b[0m             return self._try_while_unread_hdus(super().__getitem__,\n\u001b[0;32m--> 300\u001b[0;31m                                                self._positive_index_of(key))\n\u001b[0m\u001b[1;32m    301\u001b[0m         \u001b[0;32mexcept\u001b[0m \u001b[0mIndexError\u001b[0m \u001b[0;32mas\u001b[0m \u001b[0me\u001b[0m\u001b[0;34m:\u001b[0m\u001b[0;34m\u001b[0m\u001b[0;34m\u001b[0m\u001b[0m\n",
      "\u001b[0;32m/n/algol2/mpound/anaconda3/lib/python3.6/site-packages/astropy/io/fits/hdu/hdulist.py\u001b[0m in \u001b[0;36m_try_while_unread_hdus\u001b[0;34m(self, func, *args, **kwargs)\u001b[0m\n\u001b[1;32m   1097\u001b[0m             \u001b[0;32mexcept\u001b[0m \u001b[0mException\u001b[0m\u001b[0;34m:\u001b[0m\u001b[0;34m\u001b[0m\u001b[0;34m\u001b[0m\u001b[0m\n\u001b[0;32m-> 1098\u001b[0;31m                 \u001b[0;32mif\u001b[0m \u001b[0mself\u001b[0m\u001b[0;34m.\u001b[0m\u001b[0m_read_next_hdu\u001b[0m\u001b[0;34m(\u001b[0m\u001b[0;34m)\u001b[0m\u001b[0;34m:\u001b[0m\u001b[0;34m\u001b[0m\u001b[0;34m\u001b[0m\u001b[0m\n\u001b[0m\u001b[1;32m   1099\u001b[0m                     \u001b[0;32mcontinue\u001b[0m\u001b[0;34m\u001b[0m\u001b[0;34m\u001b[0m\u001b[0m\n",
      "\u001b[0;32m/n/algol2/mpound/anaconda3/lib/python3.6/site-packages/astropy/io/fits/hdu/hdulist.py\u001b[0m in \u001b[0;36m_read_next_hdu\u001b[0;34m(self)\u001b[0m\n\u001b[1;32m   1138\u001b[0m \u001b[0;34m\u001b[0m\u001b[0m\n\u001b[0;32m-> 1139\u001b[0;31m                         \u001b[0mhdu\u001b[0m \u001b[0;34m=\u001b[0m \u001b[0m_BaseHDU\u001b[0m\u001b[0;34m.\u001b[0m\u001b[0mreadfrom\u001b[0m\u001b[0;34m(\u001b[0m\u001b[0mfileobj\u001b[0m\u001b[0;34m,\u001b[0m \u001b[0;34m**\u001b[0m\u001b[0mkwargs\u001b[0m\u001b[0;34m)\u001b[0m\u001b[0;34m\u001b[0m\u001b[0;34m\u001b[0m\u001b[0m\n\u001b[0m\u001b[1;32m   1140\u001b[0m                     \u001b[0;32mexcept\u001b[0m \u001b[0mEOFError\u001b[0m\u001b[0;34m:\u001b[0m\u001b[0;34m\u001b[0m\u001b[0;34m\u001b[0m\u001b[0m\n",
      "\u001b[0;32m/n/algol2/mpound/anaconda3/lib/python3.6/site-packages/astropy/io/fits/hdu/base.py\u001b[0m in \u001b[0;36mreadfrom\u001b[0;34m(cls, fileobj, checksum, ignore_missing_end, **kwargs)\u001b[0m\n\u001b[1;32m    327\u001b[0m                                      \u001b[0mignore_missing_end\u001b[0m\u001b[0;34m=\u001b[0m\u001b[0mignore_missing_end\u001b[0m\u001b[0;34m,\u001b[0m\u001b[0;34m\u001b[0m\u001b[0;34m\u001b[0m\u001b[0m\n\u001b[0;32m--> 328\u001b[0;31m                                      **kwargs)\n\u001b[0m\u001b[1;32m    329\u001b[0m \u001b[0;34m\u001b[0m\u001b[0m\n",
      "\u001b[0;32m/n/algol2/mpound/anaconda3/lib/python3.6/site-packages/astropy/io/fits/hdu/base.py\u001b[0m in \u001b[0;36m_readfrom_internal\u001b[0;34m(cls, data, header, checksum, ignore_missing_end, **kwargs)\u001b[0m\n\u001b[1;32m    414\u001b[0m                     header = Header.fromfile(data,\n\u001b[0;32m--> 415\u001b[0;31m                                              endcard=not ignore_missing_end)\n\u001b[0m\u001b[1;32m    416\u001b[0m             \u001b[0mhdu_fileobj\u001b[0m \u001b[0;34m=\u001b[0m \u001b[0mdata\u001b[0m\u001b[0;34m\u001b[0m\u001b[0;34m\u001b[0m\u001b[0m\n",
      "\u001b[0;32m/n/algol2/mpound/anaconda3/lib/python3.6/site-packages/astropy/io/fits/header.py\u001b[0m in \u001b[0;36mfromfile\u001b[0;34m(cls, fileobj, sep, endcard, padding)\u001b[0m\n\u001b[1;32m    513\u001b[0m             return cls._from_blocks(block_iter, is_binary, sep, endcard,\n\u001b[0;32m--> 514\u001b[0;31m                                     padding)[1]\n\u001b[0m\u001b[1;32m    515\u001b[0m         \u001b[0;32mfinally\u001b[0m\u001b[0;34m:\u001b[0m\u001b[0;34m\u001b[0m\u001b[0;34m\u001b[0m\u001b[0m\n",
      "\u001b[0;32m/n/algol2/mpound/anaconda3/lib/python3.6/site-packages/astropy/io/fits/header.py\u001b[0m in \u001b[0;36m_from_blocks\u001b[0;34m(cls, block_iter, is_binary, sep, endcard, padding)\u001b[0m\n\u001b[1;32m    595\u001b[0m             \u001b[0;31m# rather than raising an exception\u001b[0m\u001b[0;34m\u001b[0m\u001b[0;34m\u001b[0m\u001b[0;34m\u001b[0m\u001b[0m\n\u001b[0;32m--> 596\u001b[0;31m             \u001b[0;32mraise\u001b[0m \u001b[0mOSError\u001b[0m\u001b[0;34m(\u001b[0m\u001b[0;34m'Header missing END card.'\u001b[0m\u001b[0;34m)\u001b[0m\u001b[0;34m\u001b[0m\u001b[0;34m\u001b[0m\u001b[0m\n\u001b[0m\u001b[1;32m    597\u001b[0m \u001b[0;34m\u001b[0m\u001b[0m\n",
      "\u001b[0;31mOSError\u001b[0m: Header missing END card.",
      "\nDuring handling of the above exception, another exception occurred:\n",
      "\u001b[0;31mOSError\u001b[0m                                   Traceback (most recent call last)",
      "\u001b[0;32m<ipython-input-71-ad05b0fb4b60>\u001b[0m in \u001b[0;36m<module>\u001b[0;34m\u001b[0m\n\u001b[0;32m----> 1\u001b[0;31m \u001b[0mgc\u001b[0m \u001b[0;34m=\u001b[0m \u001b[0maplpy\u001b[0m\u001b[0;34m.\u001b[0m\u001b[0mFITSFigure\u001b[0m\u001b[0;34m(\u001b[0m\u001b[0;34m\"cf.fits\"\u001b[0m\u001b[0;34m)\u001b[0m\u001b[0;34m\u001b[0m\u001b[0;34m\u001b[0m\u001b[0m\n\u001b[0m\u001b[1;32m      2\u001b[0m \u001b[0mgc\u001b[0m\u001b[0;34m.\u001b[0m\u001b[0mshow_colorscale\u001b[0m\u001b[0;34m(\u001b[0m\u001b[0mcmap\u001b[0m\u001b[0;34m=\u001b[0m\u001b[0;34m'hsv_r'\u001b[0m\u001b[0;34m,\u001b[0m\u001b[0mvmin\u001b[0m\u001b[0;34m=\u001b[0m\u001b[0mt\u001b[0m\u001b[0;34m.\u001b[0m\u001b[0mdata\u001b[0m\u001b[0;34m.\u001b[0m\u001b[0mmin\u001b[0m\u001b[0;34m(\u001b[0m\u001b[0;34m)\u001b[0m\u001b[0;34m,\u001b[0m \u001b[0mvmax\u001b[0m\u001b[0;34m=\u001b[0m\u001b[0mt\u001b[0m\u001b[0;34m.\u001b[0m\u001b[0mdata\u001b[0m\u001b[0;34m.\u001b[0m\u001b[0mmax\u001b[0m\u001b[0;34m(\u001b[0m\u001b[0;34m)\u001b[0m\u001b[0;34m,\u001b[0m\u001b[0mstretch\u001b[0m\u001b[0;34m=\u001b[0m\u001b[0;34m'log'\u001b[0m\u001b[0;34m)\u001b[0m\u001b[0;34m\u001b[0m\u001b[0;34m\u001b[0m\u001b[0m\n\u001b[1;32m      3\u001b[0m \u001b[0;31m#gc.axis_labels.set_ytext('Log($G_0$) [Habing]')\u001b[0m\u001b[0;34m\u001b[0m\u001b[0;34m\u001b[0m\u001b[0;34m\u001b[0m\u001b[0m\n\u001b[1;32m      4\u001b[0m \u001b[0;31m#gc.axis_labels.set_xtext('Log(n) [cm$^{-3}$] ')\u001b[0m\u001b[0;34m\u001b[0m\u001b[0;34m\u001b[0m\u001b[0;34m\u001b[0m\u001b[0m\n\u001b[1;32m      5\u001b[0m \u001b[0;31m#help(gc.show_colorscale)\u001b[0m\u001b[0;34m\u001b[0m\u001b[0;34m\u001b[0m\u001b[0;34m\u001b[0m\u001b[0m\n",
      "\u001b[0;32m/n/algol2/mpound/anaconda3/lib/python3.6/site-packages/aplpy/decorators.py\u001b[0m in \u001b[0;36mwrapper\u001b[0;34m(*args, **kwargs)\u001b[0m\n\u001b[1;32m     26\u001b[0m \u001b[0;34m\u001b[0m\u001b[0m\n\u001b[1;32m     27\u001b[0m         \u001b[0;32mtry\u001b[0m\u001b[0;34m:\u001b[0m\u001b[0;34m\u001b[0m\u001b[0;34m\u001b[0m\u001b[0m\n\u001b[0;32m---> 28\u001b[0;31m             \u001b[0;32mreturn\u001b[0m \u001b[0mf\u001b[0m\u001b[0;34m(\u001b[0m\u001b[0;34m*\u001b[0m\u001b[0margs\u001b[0m\u001b[0;34m,\u001b[0m \u001b[0;34m**\u001b[0m\u001b[0mkwargs\u001b[0m\u001b[0;34m)\u001b[0m\u001b[0;34m\u001b[0m\u001b[0;34m\u001b[0m\u001b[0m\n\u001b[0m\u001b[1;32m     29\u001b[0m         \u001b[0;32mfinally\u001b[0m\u001b[0;34m:\u001b[0m\u001b[0;34m\u001b[0m\u001b[0;34m\u001b[0m\u001b[0m\n\u001b[1;32m     30\u001b[0m             \u001b[0mmydata\u001b[0m\u001b[0;34m.\u001b[0m\u001b[0mnesting\u001b[0m \u001b[0;34m-=\u001b[0m \u001b[0;36m1\u001b[0m\u001b[0;34m\u001b[0m\u001b[0;34m\u001b[0m\u001b[0m\n",
      "\u001b[0;32m/n/algol2/mpound/anaconda3/lib/python3.6/site-packages/aplpy/core.py\u001b[0m in \u001b[0;36m__init__\u001b[0;34m(self, data, hdu, figure, subplot, downsample, north, convention, dimensions, slices, auto_refresh, **kwargs)\u001b[0m\n\u001b[1;32m    231\u001b[0m             \u001b[0mself\u001b[0m\u001b[0;34m.\u001b[0m\u001b[0m_data\u001b[0m\u001b[0;34m,\u001b[0m \u001b[0mself\u001b[0m\u001b[0;34m.\u001b[0m\u001b[0m_header\u001b[0m\u001b[0;34m,\u001b[0m \u001b[0mself\u001b[0m\u001b[0;34m.\u001b[0m\u001b[0m_wcs\u001b[0m\u001b[0;34m,\u001b[0m \u001b[0mself\u001b[0m\u001b[0;34m.\u001b[0m\u001b[0m_wcsaxes_slices\u001b[0m \u001b[0;34m=\u001b[0m\u001b[0;31m \u001b[0m\u001b[0;31m\\\u001b[0m\u001b[0;34m\u001b[0m\u001b[0;34m\u001b[0m\u001b[0m\n\u001b[1;32m    232\u001b[0m                 self._get_hdu(data, hdu, north, convention=convention,\n\u001b[0;32m--> 233\u001b[0;31m                               dimensions=dimensions, slices=slices)\n\u001b[0m\u001b[1;32m    234\u001b[0m             \u001b[0mself\u001b[0m\u001b[0;34m.\u001b[0m\u001b[0m_wcs\u001b[0m\u001b[0;34m.\u001b[0m\u001b[0mnx\u001b[0m \u001b[0;34m=\u001b[0m \u001b[0mself\u001b[0m\u001b[0;34m.\u001b[0m\u001b[0m_header\u001b[0m\u001b[0;34m[\u001b[0m\u001b[0;34m'NAXIS%i'\u001b[0m \u001b[0;34m%\u001b[0m \u001b[0;34m(\u001b[0m\u001b[0mdimensions\u001b[0m\u001b[0;34m[\u001b[0m\u001b[0;36m0\u001b[0m\u001b[0;34m]\u001b[0m \u001b[0;34m+\u001b[0m \u001b[0;36m1\u001b[0m\u001b[0;34m)\u001b[0m\u001b[0;34m]\u001b[0m\u001b[0;34m\u001b[0m\u001b[0;34m\u001b[0m\u001b[0m\n\u001b[1;32m    235\u001b[0m             \u001b[0mself\u001b[0m\u001b[0;34m.\u001b[0m\u001b[0m_wcs\u001b[0m\u001b[0;34m.\u001b[0m\u001b[0mny\u001b[0m \u001b[0;34m=\u001b[0m \u001b[0mself\u001b[0m\u001b[0;34m.\u001b[0m\u001b[0m_header\u001b[0m\u001b[0;34m[\u001b[0m\u001b[0;34m'NAXIS%i'\u001b[0m \u001b[0;34m%\u001b[0m \u001b[0;34m(\u001b[0m\u001b[0mdimensions\u001b[0m\u001b[0;34m[\u001b[0m\u001b[0;36m1\u001b[0m\u001b[0;34m]\u001b[0m \u001b[0;34m+\u001b[0m \u001b[0;36m1\u001b[0m\u001b[0;34m)\u001b[0m\u001b[0;34m]\u001b[0m\u001b[0;34m\u001b[0m\u001b[0;34m\u001b[0m\u001b[0m\n",
      "\u001b[0;32m/n/algol2/mpound/anaconda3/lib/python3.6/site-packages/aplpy/core.py\u001b[0m in \u001b[0;36m_get_hdu\u001b[0;34m(self, data, hdu, north, convention, dimensions, slices)\u001b[0m\n\u001b[1;32m    313\u001b[0m                 \u001b[0mhdulist\u001b[0m \u001b[0;34m=\u001b[0m \u001b[0mfits\u001b[0m\u001b[0;34m.\u001b[0m\u001b[0mopen\u001b[0m\u001b[0;34m(\u001b[0m\u001b[0mfilename\u001b[0m\u001b[0;34m)\u001b[0m\u001b[0;34m\u001b[0m\u001b[0;34m\u001b[0m\u001b[0m\n\u001b[1;32m    314\u001b[0m             \u001b[0;32mexcept\u001b[0m \u001b[0mException\u001b[0m\u001b[0;34m:\u001b[0m\u001b[0;34m\u001b[0m\u001b[0;34m\u001b[0m\u001b[0m\n\u001b[0;32m--> 315\u001b[0;31m                 \u001b[0;32mraise\u001b[0m \u001b[0mIOError\u001b[0m\u001b[0;34m(\u001b[0m\u001b[0;34m\"An error occurred while reading the FITS file\"\u001b[0m\u001b[0;34m)\u001b[0m\u001b[0;34m\u001b[0m\u001b[0;34m\u001b[0m\u001b[0m\n\u001b[0m\u001b[1;32m    316\u001b[0m \u001b[0;34m\u001b[0m\u001b[0m\n\u001b[1;32m    317\u001b[0m             \u001b[0;31m# Check whether the HDU specified contains any data, otherwise\u001b[0m\u001b[0;34m\u001b[0m\u001b[0;34m\u001b[0m\u001b[0;34m\u001b[0m\u001b[0m\n",
      "\u001b[0;31mOSError\u001b[0m: An error occurred while reading the FITS file"
     ]
    }
   ],
   "source": [
    "gc = aplpy.FITSFigure(\"cf.fits\")\n",
    "gc.show_colorscale(cmap='hsv_r',vmin=t.data.min(), vmax=t.data.max(),stretch='log')\n",
    "#gc.axis_labels.set_ytext('Log($G_0$) [Habing]')\n",
    "#gc.axis_labels.set_xtext('Log(n) [cm$^{-3}$] ')\n",
    "#help(gc.show_colorscale)\n",
    "#gc.show_contour(colors='white',levels=[tt.data.min()*2,t.data.min()*6,t.data.min()*12,t.data.min()*18])"
   ]
  },
  {
   "cell_type": "code",
   "execution_count": 64,
   "metadata": {},
   "outputs": [
    {
     "data": {
      "image/png": "[encoded data removed]",
      "text/plain": [
       "<Figure size 720x648 with 1 Axes>"
      ]
     },
     "metadata": {
      "needs_background": "light"
     },
     "output_type": "display_data"
    }
   ],
   "source": [
    "#tt.write(\"tt.fits\")\n",
    "gc = aplpy.FITSFigure(\"chisq.fits\")\n",
    "#gc.axis_labels._ax.loglog()\n",
    "gc.show_colorscale(cmap='plasma',vmin=tt.data.min(), vmax=tt.data.max(),stretch='log')\n",
    "#gc.axis_labels.set_ytext('Log($G_0$) [Habing]')\n",
    "#gc.axis_labels.set_xtext('Log(n) [cm$^{-3}$] ')\n",
    "#gc.add_colorbar()\n",
    "#gc.show_contour(colors='white',levels=[tt.data.min()*2,tt.data.min()*6,tt.data.min()*12,tt.data.min()*18])"
   ]
  },
  {
   "cell_type": "code",
   "execution_count": 60,
   "metadata": {},
   "outputs": [
    {
     "data": {
      "text/plain": [
       "{'_ax': <astropy.visualization.wcsaxes.core.WCSAxesSubplot at 0x7fa9b73aa898>,\n",
       " '_wcs': WCS Keywords\n",
       " \n",
       " Number of WCS axes: 2\n",
       " CTYPE : 'Log n (/cm**3)'  'Log G_0'  \n",
       " CRVAL : 1.0  -0.5  \n",
       " CRPIX : 1.0  1.0  \n",
       " PC1_1 PC1_2  : 1.0  0.0  \n",
       " PC2_1 PC2_2  : 0.0  1.0  \n",
       " CDELT : 0.25  0.25  \n",
       " NAXIS : 25  29,\n",
       " 'x': 0,\n",
       " 'y': 1,\n",
       " '_x_text': 'Log n (/cm**3)',\n",
       " '_y_text': 'Log G_0',\n",
       " '_xposition': 'bottom',\n",
       " '_yposition': 'left'}"
      ]
     },
     "execution_count": 60,
     "metadata": {},
     "output_type": "execute_result"
    }
   ],
   "source": [
    "gc.axis_labels.__dict__"
   ]
  },
  {
   "cell_type": "code",
   "execution_count": 4,
   "metadata": {},
   "outputs": [
    {
     "data": {
      "text/plain": [
       "'2.0.3'"
      ]
     },
     "execution_count": 4,
     "metadata": {},
     "output_type": "execute_result"
    }
   ],
   "source": [
    "aplpy.version.version"
   ]
  },
  {
   "cell_type": "code",
   "execution_count": 43,
   "metadata": {},
   "outputs": [
    {
     "name": "stdout",
     "output_type": "stream",
     "text": [
      "INFO: Auto-setting vmin to  6.798e-03 [aplpy.core]\n",
      "INFO: Auto-setting vmax to  9.690e+02 [aplpy.core]\n"
     ]
    },
    {
     "data": {
      "image/png": "[encoded data removed]",
      "text/plain": [
       "<Figure size 720x648 with 1 Axes>"
      ]
     },
     "metadata": {
      "needs_background": "light"
     },
     "output_type": "display_data"
    }
   ],
   "source": [
    "g =aplpy.FITSFigure(\"/lupus/mpound/WITS/Docs/pdrt/co7610webpth.fits\")\n",
    "g.show_colorscale(cmap='plasma',stretch='log')"
   ]
  },
  {
   "cell_type": "code",
   "execution_count": 76,
   "metadata": {},
   "outputs": [],
   "source": [
    "p_value = 1 - stats.chi2.cdf(x=p._chisq.data,  df=p.ratiocount(md)-1 )"
   ]
  },
  {
   "cell_type": "code",
   "execution_count": 79,
   "metadata": {},
   "outputs": [
    {
     "data": {
      "text/plain": [
       "array([[0.00000000e+00, 0.00000000e+00, 0.00000000e+00, 0.00000000e+00,\n",
       "        0.00000000e+00, 0.00000000e+00, 0.00000000e+00, 0.00000000e+00,\n",
       "        0.00000000e+00, 0.00000000e+00, 0.00000000e+00, 0.00000000e+00,\n",
       "        5.71875880e-13, 7.32605487e-09, 6.65679887e-07, 5.89215242e-06,\n",
       "        8.27889295e-06, 4.33320911e-06, 1.76031609e-06, 7.92851172e-07,\n",
       "        4.34712671e-07, 2.89913763e-07, 2.32654748e-07, 1.97699484e-07,\n",
       "        1.90481088e-07],\n",
       "       [0.00000000e+00, 0.00000000e+00, 0.00000000e+00, 0.00000000e+00,\n",
       "        0.00000000e+00, 0.00000000e+00, 0.00000000e+00, 0.00000000e+00,\n",
       "        0.00000000e+00, 0.00000000e+00, 0.00000000e+00, 0.00000000e+00,\n",
       "        1.93178806e-14, 1.88859040e-10, 1.33396131e-07, 3.03684355e-06,\n",
       "        9.12577013e-06, 6.38773319e-06, 2.78145668e-06, 1.14183633e-06,\n",
       "        5.54800435e-07, 3.35848163e-07, 2.46912580e-07, 2.09502030e-07,\n",
       "        1.97650470e-07],\n",
       "       [0.00000000e+00, 0.00000000e+00, 0.00000000e+00, 0.00000000e+00,\n",
       "        0.00000000e+00, 0.00000000e+00, 0.00000000e+00, 0.00000000e+00,\n",
       "        0.00000000e+00, 0.00000000e+00, 0.00000000e+00, 0.00000000e+00,\n",
       "        1.22124533e-15, 3.06872527e-10, 6.49258350e-08, 2.55645204e-06,\n",
       "        8.73536860e-06, 8.17225605e-06, 3.95010778e-06, 1.57398138e-06,\n",
       "        6.92661787e-07, 3.82956705e-07, 2.65737567e-07, 2.28212683e-07,\n",
       "        2.12481406e-07],\n",
       "       [0.00000000e+00, 0.00000000e+00, 0.00000000e+00, 0.00000000e+00,\n",
       "        0.00000000e+00, 0.00000000e+00, 0.00000000e+00, 0.00000000e+00,\n",
       "        0.00000000e+00, 0.00000000e+00, 0.00000000e+00, 0.00000000e+00,\n",
       "        4.28546088e-14, 5.71070635e-10, 5.16317278e-07, 5.63175445e-06,\n",
       "        2.23212711e-05, 1.41377744e-05, 5.42051117e-06, 2.11284269e-06,\n",
       "        8.66308783e-07, 4.41002893e-07, 2.91423686e-07, 2.39450572e-07,\n",
       "        2.49877911e-07],\n",
       "       [0.00000000e+00, 0.00000000e+00, 0.00000000e+00, 0.00000000e+00,\n",
       "        0.00000000e+00, 0.00000000e+00, 0.00000000e+00, 0.00000000e+00,\n",
       "        0.00000000e+00, 0.00000000e+00, 0.00000000e+00, 0.00000000e+00,\n",
       "        8.42326209e-13, 5.20851612e-08, 4.32426330e-06, 1.74497404e-04,\n",
       "        2.94694047e-04, 8.60173997e-05, 1.41029776e-05, 3.61907149e-06,\n",
       "        1.25569903e-06, 5.84046733e-07, 3.74462090e-07, 3.26679861e-07,\n",
       "        3.92269012e-07],\n",
       "       [0.00000000e+00, 0.00000000e+00, 0.00000000e+00, 0.00000000e+00,\n",
       "        0.00000000e+00, 0.00000000e+00, 0.00000000e+00, 0.00000000e+00,\n",
       "        0.00000000e+00, 0.00000000e+00, 0.00000000e+00, 0.00000000e+00,\n",
       "        8.89388563e-12, 9.75246850e-07, 3.86602591e-04, 3.93490516e-03,\n",
       "        6.32193616e-03, 1.69565632e-03, 1.70022183e-04, 1.73583443e-05,\n",
       "        3.86998376e-06, 1.52493396e-06, 9.73039511e-07, 9.77269983e-07,\n",
       "        1.48288054e-06],\n",
       "       [0.00000000e+00, 0.00000000e+00, 0.00000000e+00, 0.00000000e+00,\n",
       "        0.00000000e+00, 0.00000000e+00, 0.00000000e+00, 0.00000000e+00,\n",
       "        0.00000000e+00, 0.00000000e+00, 0.00000000e+00, 0.00000000e+00,\n",
       "        1.42326151e-11, 2.58131320e-06, 1.75518672e-03, 4.35728284e-02,\n",
       "        6.23449965e-02, 1.89106148e-02, 3.10717547e-03, 3.68350355e-04,\n",
       "        6.61408510e-05, 2.32777937e-05, 1.55281072e-05, 1.79166689e-05,\n",
       "        3.10965945e-05],\n",
       "       [0.00000000e+00, 0.00000000e+00, 0.00000000e+00, 0.00000000e+00,\n",
       "        0.00000000e+00, 0.00000000e+00, 0.00000000e+00, 0.00000000e+00,\n",
       "        0.00000000e+00, 0.00000000e+00, 0.00000000e+00, 0.00000000e+00,\n",
       "        7.10542736e-15, 9.88265070e-08, 8.77736486e-04, 7.55230029e-02,\n",
       "        2.57542296e-01, 1.26526752e-01, 2.92795236e-02, 6.88406702e-03,\n",
       "        1.63855828e-03, 6.46543444e-04, 3.20924747e-04, 1.58067542e-04,\n",
       "        5.39825893e-05],\n",
       "       [0.00000000e+00, 0.00000000e+00, 0.00000000e+00, 0.00000000e+00,\n",
       "        0.00000000e+00, 0.00000000e+00, 0.00000000e+00, 0.00000000e+00,\n",
       "        0.00000000e+00, 0.00000000e+00, 0.00000000e+00, 0.00000000e+00,\n",
       "        0.00000000e+00, 7.98583422e-13, 1.27088254e-06, 6.43915050e-03,\n",
       "        3.13069862e-01, 6.67706791e-01, 2.14756219e-01, 1.92776082e-02,\n",
       "        7.35368786e-04, 7.64219250e-06, 1.17922745e-08, 5.75650638e-13,\n",
       "        0.00000000e+00],\n",
       "       [0.00000000e+00, 0.00000000e+00, 0.00000000e+00, 0.00000000e+00,\n",
       "        0.00000000e+00, 0.00000000e+00, 0.00000000e+00, 0.00000000e+00,\n",
       "        0.00000000e+00, 0.00000000e+00, 0.00000000e+00, 0.00000000e+00,\n",
       "        0.00000000e+00, 0.00000000e+00, 8.99280650e-15, 9.04747562e-08,\n",
       "        2.12859689e-03, 2.78095351e-01, 5.22038570e-01, 1.21682283e-02,\n",
       "        1.46485409e-06, 1.39221967e-13, 0.00000000e+00, 0.00000000e+00,\n",
       "        0.00000000e+00],\n",
       "       [0.00000000e+00, 0.00000000e+00, 0.00000000e+00, 0.00000000e+00,\n",
       "        0.00000000e+00, 0.00000000e+00, 0.00000000e+00, 0.00000000e+00,\n",
       "        0.00000000e+00, 0.00000000e+00, 0.00000000e+00, 0.00000000e+00,\n",
       "        0.00000000e+00, 0.00000000e+00, 0.00000000e+00, 0.00000000e+00,\n",
       "        4.16666701e-13, 1.07278385e-06, 2.57956621e-03, 5.88065592e-04,\n",
       "        9.89367366e-10, 0.00000000e+00, 0.00000000e+00, 0.00000000e+00,\n",
       "        0.00000000e+00],\n",
       "       [0.00000000e+00, 0.00000000e+00, 0.00000000e+00, 0.00000000e+00,\n",
       "        0.00000000e+00, 0.00000000e+00, 0.00000000e+00, 0.00000000e+00,\n",
       "        0.00000000e+00, 0.00000000e+00, 0.00000000e+00, 0.00000000e+00,\n",
       "        0.00000000e+00, 0.00000000e+00, 0.00000000e+00, 0.00000000e+00,\n",
       "        0.00000000e+00, 0.00000000e+00, 5.77315973e-15, 8.47109938e-10,\n",
       "        2.00062189e-13, 0.00000000e+00, 0.00000000e+00, 0.00000000e+00,\n",
       "        0.00000000e+00],\n",
       "       [0.00000000e+00, 0.00000000e+00, 0.00000000e+00, 0.00000000e+00,\n",
       "        0.00000000e+00, 0.00000000e+00, 0.00000000e+00, 0.00000000e+00,\n",
       "        0.00000000e+00, 0.00000000e+00, 0.00000000e+00, 0.00000000e+00,\n",
       "        0.00000000e+00, 0.00000000e+00, 0.00000000e+00, 0.00000000e+00,\n",
       "        0.00000000e+00, 0.00000000e+00, 0.00000000e+00, 0.00000000e+00,\n",
       "        0.00000000e+00, 0.00000000e+00, 0.00000000e+00, 0.00000000e+00,\n",
       "        0.00000000e+00],\n",
       "       [0.00000000e+00, 0.00000000e+00, 0.00000000e+00, 0.00000000e+00,\n",
       "        0.00000000e+00, 0.00000000e+00, 0.00000000e+00, 0.00000000e+00,\n",
       "        0.00000000e+00, 0.00000000e+00, 0.00000000e+00, 0.00000000e+00,\n",
       "        0.00000000e+00, 0.00000000e+00, 0.00000000e+00, 0.00000000e+00,\n",
       "        0.00000000e+00, 0.00000000e+00, 0.00000000e+00, 0.00000000e+00,\n",
       "        0.00000000e+00, 0.00000000e+00, 0.00000000e+00, 0.00000000e+00,\n",
       "        0.00000000e+00],\n",
       "       [0.00000000e+00, 0.00000000e+00, 0.00000000e+00, 0.00000000e+00,\n",
       "        0.00000000e+00, 0.00000000e+00, 0.00000000e+00, 0.00000000e+00,\n",
       "        0.00000000e+00, 0.00000000e+00, 0.00000000e+00, 0.00000000e+00,\n",
       "        0.00000000e+00, 0.00000000e+00, 0.00000000e+00, 0.00000000e+00,\n",
       "        0.00000000e+00, 0.00000000e+00, 0.00000000e+00, 0.00000000e+00,\n",
       "        0.00000000e+00, 0.00000000e+00, 0.00000000e+00, 0.00000000e+00,\n",
       "        0.00000000e+00],\n",
       "       [0.00000000e+00, 0.00000000e+00, 0.00000000e+00, 0.00000000e+00,\n",
       "        0.00000000e+00, 0.00000000e+00, 0.00000000e+00, 0.00000000e+00,\n",
       "        0.00000000e+00, 0.00000000e+00, 0.00000000e+00, 0.00000000e+00,\n",
       "        0.00000000e+00, 0.00000000e+00, 0.00000000e+00, 0.00000000e+00,\n",
       "        0.00000000e+00, 0.00000000e+00, 0.00000000e+00, 0.00000000e+00,\n",
       "        0.00000000e+00, 0.00000000e+00, 0.00000000e+00, 0.00000000e+00,\n",
       "        0.00000000e+00],\n",
       "       [0.00000000e+00, 0.00000000e+00, 0.00000000e+00, 0.00000000e+00,\n",
       "        0.00000000e+00, 0.00000000e+00, 0.00000000e+00, 0.00000000e+00,\n",
       "        0.00000000e+00, 0.00000000e+00, 0.00000000e+00, 0.00000000e+00,\n",
       "        0.00000000e+00, 0.00000000e+00, 0.00000000e+00, 0.00000000e+00,\n",
       "        0.00000000e+00, 0.00000000e+00, 0.00000000e+00, 0.00000000e+00,\n",
       "        0.00000000e+00, 0.00000000e+00, 0.00000000e+00, 0.00000000e+00,\n",
       "        0.00000000e+00],\n",
       "       [0.00000000e+00, 0.00000000e+00, 0.00000000e+00, 0.00000000e+00,\n",
       "        0.00000000e+00, 0.00000000e+00, 0.00000000e+00, 0.00000000e+00,\n",
       "        0.00000000e+00, 0.00000000e+00, 0.00000000e+00, 0.00000000e+00,\n",
       "        0.00000000e+00, 0.00000000e+00, 0.00000000e+00, 0.00000000e+00,\n",
       "        0.00000000e+00, 0.00000000e+00, 0.00000000e+00, 0.00000000e+00,\n",
       "        0.00000000e+00, 0.00000000e+00, 0.00000000e+00, 0.00000000e+00,\n",
       "        0.00000000e+00],\n",
       "       [0.00000000e+00, 0.00000000e+00, 0.00000000e+00, 0.00000000e+00,\n",
       "        0.00000000e+00, 0.00000000e+00, 0.00000000e+00, 0.00000000e+00,\n",
       "        0.00000000e+00, 0.00000000e+00, 0.00000000e+00, 0.00000000e+00,\n",
       "        0.00000000e+00, 0.00000000e+00, 0.00000000e+00, 0.00000000e+00,\n",
       "        0.00000000e+00, 0.00000000e+00, 0.00000000e+00, 0.00000000e+00,\n",
       "        0.00000000e+00, 0.00000000e+00, 0.00000000e+00, 0.00000000e+00,\n",
       "        0.00000000e+00],\n",
       "       [0.00000000e+00, 0.00000000e+00, 0.00000000e+00, 0.00000000e+00,\n",
       "        0.00000000e+00, 0.00000000e+00, 0.00000000e+00, 0.00000000e+00,\n",
       "        0.00000000e+00, 0.00000000e+00, 0.00000000e+00, 0.00000000e+00,\n",
       "        0.00000000e+00, 0.00000000e+00, 0.00000000e+00, 0.00000000e+00,\n",
       "        0.00000000e+00, 0.00000000e+00, 0.00000000e+00, 0.00000000e+00,\n",
       "        0.00000000e+00, 0.00000000e+00, 0.00000000e+00, 0.00000000e+00,\n",
       "        0.00000000e+00],\n",
       "       [0.00000000e+00, 0.00000000e+00, 0.00000000e+00, 0.00000000e+00,\n",
       "        0.00000000e+00, 0.00000000e+00, 0.00000000e+00, 0.00000000e+00,\n",
       "        0.00000000e+00, 0.00000000e+00, 0.00000000e+00, 0.00000000e+00,\n",
       "        0.00000000e+00, 0.00000000e+00, 0.00000000e+00, 0.00000000e+00,\n",
       "        0.00000000e+00, 0.00000000e+00, 0.00000000e+00, 0.00000000e+00,\n",
       "        0.00000000e+00, 0.00000000e+00, 0.00000000e+00, 0.00000000e+00,\n",
       "        0.00000000e+00],\n",
       "       [0.00000000e+00, 0.00000000e+00, 0.00000000e+00, 0.00000000e+00,\n",
       "        0.00000000e+00, 0.00000000e+00, 0.00000000e+00, 0.00000000e+00,\n",
       "        0.00000000e+00, 0.00000000e+00, 0.00000000e+00, 0.00000000e+00,\n",
       "        0.00000000e+00, 0.00000000e+00, 0.00000000e+00, 0.00000000e+00,\n",
       "        0.00000000e+00, 0.00000000e+00, 0.00000000e+00, 0.00000000e+00,\n",
       "        0.00000000e+00, 0.00000000e+00, 0.00000000e+00, 0.00000000e+00,\n",
       "        0.00000000e+00],\n",
       "       [0.00000000e+00, 0.00000000e+00, 0.00000000e+00, 0.00000000e+00,\n",
       "        0.00000000e+00, 0.00000000e+00, 0.00000000e+00, 0.00000000e+00,\n",
       "        0.00000000e+00, 0.00000000e+00, 0.00000000e+00, 0.00000000e+00,\n",
       "        0.00000000e+00, 0.00000000e+00, 0.00000000e+00, 0.00000000e+00,\n",
       "        0.00000000e+00, 0.00000000e+00, 0.00000000e+00, 0.00000000e+00,\n",
       "        0.00000000e+00, 0.00000000e+00, 0.00000000e+00, 0.00000000e+00,\n",
       "        0.00000000e+00],\n",
       "       [0.00000000e+00, 0.00000000e+00, 0.00000000e+00, 0.00000000e+00,\n",
       "        0.00000000e+00, 0.00000000e+00, 0.00000000e+00, 0.00000000e+00,\n",
       "        0.00000000e+00, 0.00000000e+00, 0.00000000e+00, 0.00000000e+00,\n",
       "        0.00000000e+00, 0.00000000e+00, 0.00000000e+00, 0.00000000e+00,\n",
       "        0.00000000e+00, 0.00000000e+00, 0.00000000e+00, 0.00000000e+00,\n",
       "        0.00000000e+00, 0.00000000e+00, 0.00000000e+00, 0.00000000e+00,\n",
       "        0.00000000e+00],\n",
       "       [0.00000000e+00, 0.00000000e+00, 0.00000000e+00, 0.00000000e+00,\n",
       "        0.00000000e+00, 0.00000000e+00, 0.00000000e+00, 0.00000000e+00,\n",
       "        0.00000000e+00, 0.00000000e+00, 0.00000000e+00, 0.00000000e+00,\n",
       "        0.00000000e+00, 0.00000000e+00, 0.00000000e+00, 0.00000000e+00,\n",
       "        0.00000000e+00, 0.00000000e+00, 0.00000000e+00, 0.00000000e+00,\n",
       "        0.00000000e+00, 0.00000000e+00, 0.00000000e+00, 0.00000000e+00,\n",
       "        0.00000000e+00],\n",
       "       [0.00000000e+00, 0.00000000e+00, 0.00000000e+00, 0.00000000e+00,\n",
       "        0.00000000e+00, 0.00000000e+00, 0.00000000e+00, 0.00000000e+00,\n",
       "        0.00000000e+00, 0.00000000e+00, 0.00000000e+00, 0.00000000e+00,\n",
       "        0.00000000e+00, 0.00000000e+00, 0.00000000e+00, 0.00000000e+00,\n",
       "        0.00000000e+00, 0.00000000e+00, 0.00000000e+00, 0.00000000e+00,\n",
       "        0.00000000e+00, 0.00000000e+00, 0.00000000e+00, 0.00000000e+00,\n",
       "        0.00000000e+00],\n",
       "       [0.00000000e+00, 0.00000000e+00, 0.00000000e+00, 0.00000000e+00,\n",
       "        0.00000000e+00, 0.00000000e+00, 0.00000000e+00, 0.00000000e+00,\n",
       "        0.00000000e+00, 0.00000000e+00, 0.00000000e+00, 0.00000000e+00,\n",
       "        0.00000000e+00, 0.00000000e+00, 0.00000000e+00, 0.00000000e+00,\n",
       "        0.00000000e+00, 0.00000000e+00, 0.00000000e+00, 0.00000000e+00,\n",
       "        0.00000000e+00, 0.00000000e+00, 0.00000000e+00, 0.00000000e+00,\n",
       "        0.00000000e+00],\n",
       "       [0.00000000e+00, 0.00000000e+00, 0.00000000e+00, 0.00000000e+00,\n",
       "        0.00000000e+00, 0.00000000e+00, 0.00000000e+00, 0.00000000e+00,\n",
       "        0.00000000e+00, 0.00000000e+00, 0.00000000e+00, 0.00000000e+00,\n",
       "        0.00000000e+00, 0.00000000e+00, 0.00000000e+00, 0.00000000e+00,\n",
       "        0.00000000e+00, 0.00000000e+00, 0.00000000e+00, 0.00000000e+00,\n",
       "        0.00000000e+00, 0.00000000e+00, 0.00000000e+00, 0.00000000e+00,\n",
       "        0.00000000e+00],\n",
       "       [0.00000000e+00, 0.00000000e+00, 0.00000000e+00, 0.00000000e+00,\n",
       "        0.00000000e+00, 0.00000000e+00, 0.00000000e+00, 0.00000000e+00,\n",
       "        0.00000000e+00, 0.00000000e+00, 0.00000000e+00, 0.00000000e+00,\n",
       "        0.00000000e+00, 0.00000000e+00, 0.00000000e+00, 0.00000000e+00,\n",
       "        0.00000000e+00, 0.00000000e+00, 0.00000000e+00, 0.00000000e+00,\n",
       "        0.00000000e+00, 0.00000000e+00, 0.00000000e+00, 0.00000000e+00,\n",
       "        0.00000000e+00]])"
      ]
     },
     "execution_count": 79,
     "metadata": {},
     "output_type": "execute_result"
    }
   ],
   "source": [
    "p_value"
   ]
  },
  {
   "cell_type": "code",
   "execution_count": null,
   "metadata": {},
   "outputs": [],
   "source": []
  }
 ],
 "metadata": {
  "kernelspec": {
   "display_name": "Python 3",
   "language": "python",
   "name": "python3"
  },
  "language_info": {
   "codemirror_mode": {
    "name": "ipython",
    "version": 3
   },
   "file_extension": ".py",
   "mimetype": "text/x-python",
   "name": "python",
   "nbconvert_exporter": "python",
   "pygments_lexer": "ipython3",
   "version": "3.6.8"
  }
 },
 "nbformat": 4,
 "nbformat_minor": 2
}
