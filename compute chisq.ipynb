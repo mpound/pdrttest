{
 "cells": [
  {
   "cell_type": "code",
   "execution_count": 223,
   "metadata": {},
   "outputs": [],
   "source": [
    "from astropy.io import fits\n",
    "from astropy.table import Table\n",
    "from astropy.nddata import NDDataArray, StdDevUncertainty\n",
    "import numpy as np\n",
    "import matplotlib.pyplot as plt\n",
    "import pandas as pd\n",
    "import itertools\n",
    "import collections\n",
    "%matplotlib inline"
   ]
  },
  {
   "cell_type": "markdown",
   "metadata": {},
   "source": [
    "# Basic Steps\n",
    "For a given spatial pixel $p = (x,y)$ with $N$ values of observed line ratios $R_N(p)$ with errors on the line ratios $E_N(p)$ in same units as $R_N$, we use predicted line ratios as function of $A_N(G_0,n)$, to compute differences $\\delta_N$ across all $A$:\n",
    "$${\\delta_N^2(p,G_0,n)} = {\\left[ R_N(p) - A_N(G_0,n)\\over E_N(x)\\right] }^2$$\n",
    " \n",
    "The reduced chi-squared for spatial pixel $i$ is then given by\n",
    "\n",
    "$$\\chi^2(p,G_0,n) =  \\sum_N {\\delta_N^2(p,G_0,n) \\over N-1}$$\n",
    "\n",
    "and the best-fit value of $(G_0,n)$ is the minimum of $\\chi^2$  The range of $(G_0,n)$ over which $A_N$ have been computed must be large enough to encompass physically reasonable values in the ISM, typically $10^{-1} < G_0 < 10^7$ in Habing units and $1 < n < 10^7$ cm$^{-3}$\n",
    "\n",
    "For a spatial map, we do the above computation over all $p$ to produce a spatial maps of $\\chi^2$ and best-fit spatial maps of $(G_0,n)$.\n",
    "\n"
   ]
  },
  {
   "cell_type": "code",
   "execution_count": 241,
   "metadata": {},
   "outputs": [],
   "source": [
    "# maybe this is just better storing this info in a Table.  Then adding models is \n",
    "# just adding to the table\n",
    "class ModelRatioData:\n",
    "    def __init__(self,numerator, denominator, identifier,filename,metallicity=1):\n",
    "        self._numerator = numerator\n",
    "        self._denominator =denominator\n",
    "        self._identifier = identifier\n",
    "        self._filename = filename + \"web\"\n",
    "        self._metallicity= metallicity\n",
    "        \n",
    "    @property\n",
    "    def identifier(self): return self._identifier\n",
    "   \n",
    "    @property \n",
    "    def filename(self): return self._filename\n",
    "    \n",
    "    @property \n",
    "    def metallicity(self): return self._metallicity\n",
    "    \n",
    "    @property\n",
    "    def isSolarMetallicity(self):\n",
    "        return self._metallicity == 1\n",
    "\n",
    "class Measurement(NDDataArray):\n",
    "    def __init__(self,*args, **kwargs):\n",
    "        self._identifier = kwargs.pop('identifier', None)\n",
    "        super().__init__(*args, **kwargs)\n",
    "        \n",
    "    @property\n",
    "    def flux(self):\n",
    "        return self.data\n",
    "    \n",
    "    @property\n",
    "    def id(self):\n",
    "        return self._identifier\n",
    "    \n",
    "    @property\n",
    "    def error(self):\n",
    "        return self.uncertainty\n",
    "    \n",
    "  \n",
    "    \n",
    "    def add(self,other):\n",
    "        z=super().add(other)\n",
    "        z._identifier = self.id + '+' + other.id\n",
    "        return z\n",
    "   \n",
    "    def subtract(self,other):\n",
    "        z=super().subtract(other)\n",
    "        z._identifier = self.id + '-' + other.id\n",
    "        return z\n",
    "    \n",
    "    def multiply(self,other):\n",
    "        z=super().multiply(other)\n",
    "        z._identifier = self.id + '*' + other.id\n",
    "        return z\n",
    "        \n",
    "    def divide(self,other):\n",
    "        z=super().divide(other)\n",
    "        z._identifier = self.id + '/' + other.id\n",
    "        return z\n",
    "    \n",
    "    def __add__(self,other):\n",
    "        z=self.add(other)\n",
    "        return z\n",
    "    def __sub__(self,other):      \n",
    "        z=self.subtract(other)\n",
    "        return z\n",
    "    \n",
    "    def __mul__(self,other):\n",
    "        z=self.multiply(other)\n",
    "        return z\n",
    "    \n",
    "    def __truediv__(self,other):\n",
    "        z=self.divide(other)\n",
    "        return z\n",
    "    \n",
    "class PDRutils:\n",
    "    def __init__(self,models):\n",
    "        if type(models) == str:\n",
    "            self.initializeFromFile(models)\n",
    "        else:\n",
    "            self._models = models\n",
    "        \n",
    "    def initializeFromFile(self,filename):\n",
    "        self._models=Table.read(filename,format=\"ascii.ipac\")\n",
    "        self._models.add_index(\"label\")\n",
    "        \n",
    "    def find_pairs(self,m):\n",
    "        \"\"\"Return the list of model ratios labels for the given list of measurement IDs\"\"\"\n",
    "        if not isinstance(m, collections.abc.Iterable) or isinstance(m, (str, bytes)) :\n",
    "            raise Exception(\"m must be an array of strings\")\n",
    "            \n",
    "        for q in itertools.product(m,m):\n",
    "            s = q[0]+\"/\"+q[1]\n",
    "            if s in self._models[\"label\"]:\n",
    "                yield(s)\n",
    "    \n",
    "    def find_files(self,m,ext=\"fits\"):\n",
    "        \"\"\"Return the list of model ratio files for the given list of measurement IDs\"\"\"\n",
    "        if not isinstance(m, collections.abc.Iterable) or isinstance(m, (str, bytes)):\n",
    "            raise Exception(\"m must be an array of strings\")\n",
    "        for q in itertools.product(m,m):\n",
    "            s = q[0]+\"/\"+q[1]\n",
    "            if s in self._models[\"label\"]:\n",
    "                yield(self._models.loc[s][\"filename\"]+\".\"+ext)\n",
    "    \n",
    "    def ratiocount(self,m):\n",
    "        \"\"\"Return the number of model ratios found for the given list of measurement IDs\"\"\"\n",
    "        # since find_files is a generator, we can't use len(), so do this sum.\n",
    "        # See https://stackoverflow.com/questions/393053/length-of-generator-output\n",
    "        return(sum(1 for _ in self.find_files(m)))\n",
    "                \n",
    "    def read_fits(self,m):\n",
    "        d = \"/n/lupus/mpound/WITS/Docs/pdrt/\"\n",
    "        self._fitsfiles = dict()\n",
    "        for p in self.find_files(m):\n",
    "            self._fitsfiles[p] = fits.open(d+p)\n",
    "    \n",
    "                "
   ]
  },
  {
   "cell_type": "code",
   "execution_count": 116,
   "metadata": {},
   "outputs": [],
   "source": [
    "ratiodict = {\n",
    "    \"OI_145/OI_63\"   : \"oioi\",\n",
    "    \"OI_145/CII_158\" : \"o145cii\",\n",
    "    \"OI_63/CII_158\"  : \"oicp\",\n",
    "    \"CII_158/CI_609\" : \"ciici609\",\n",
    "    \"CI_370/CI_609\"  : \"cici\",\n",
    "    \"CII_158/CO_10\"  : \"ciico\",\n",
    "    \"CI_609/CO_10\"   : \"cico\",\n",
    "    \"CI_609/CO_21\"   : \"cico21\",\n",
    "    \"CI_609/CO_32\"   : \"cico32\",\n",
    "    \"CI_609/CO_43\"   : \"cico43\",\n",
    "    \"CI_609/CO_54\"   : \"cico54\",\n",
    "    \"CI_609/CO_65\"   : \"cico65\",\n",
    "    \"CO_21/CO_10\"    : \"co2110\",\n",
    "    \"CO_32/CO_10\"    : \"co3210\",\n",
    "    \"CO_32/CO_21\"    : \"co3221\",\n",
    "    \"CO_43/CO_21\"    : \"co4321\",\n",
    "    \"CO_65/CO_10\"    : \"co6510\",\n",
    "    \"CO_65/CO_21\"    : \"co6521\",\n",
    "    \"CO_65/CO_54\"    : \"co6554\",\n",
    "    \"CO_76/CO_10\"    : \"co7610\",\n",
    "    \"CO_76/CO_21\"    : \"co7621\",\n",
    "    \"CO_76/CO_43\"    : \"co7643\",\n",
    "    \"CO_76/CO_54\"    : \"co7654\",\n",
    "    \"CO_76/CO_65\"    : \"co7665\",\n",
    "    \"CO_87/CO_54\"   : \"co8754\",\n",
    "    \"CO_87/CO_65\"   : \"co8765\",\n",
    "    \"CO_98/CO_54\"   : \"co9854\",\n",
    "    \"CO_98/CO_65\"   : \"co9865\",\n",
    "    \"CO_109/CO_54\"   : \"co10954\",\n",
    "    \"CO_109/CO_65\"   : \"co10965\",\n",
    "    \"CO_1110/CO_54\"   : \"co111054\",\n",
    "    \"CO_1110/CO_65\"   : \"co111065\",\n",
    "    \"CO_1211/CO_54\"   : \"co121154\",\n",
    "    \"CO_1211/CO_65\"   : \"co121165\",\n",
    "    \"CO_1312/CO_54\"   : \"co131254\",\n",
    "    \"CO_1312/CO_65\"   : \"co131265\",\n",
    "    \"CO_1413/CO_54\"   : \"co141354\",\n",
    "    \"CO_1413/CO_65\"   : \"co141365\",\n",
    "    \"OI_63+CII_158/FIR\"     : \"fir\",\n",
    "    \"OI_145+CII_158/FIR\"  : \"firoi145\",\n",
    "  \"SIII_Z1/FEII_Z1\"  : \"siii35feii26z1\",\n",
    "    \"SIII_Z3/FEII_Z3\"  : \"siii35feii26z3\",\n",
    "    \"H200S1_Z1/H200S0_Z1\" : \"h200s1s0z1\",\n",
    "    \"H200S1_Z3/H200S0_Z3\" : \"h200s1s0z3\",\n",
    "    \"H200S2_Z1/H200S0_Z1\" : \"h200s2s0z1\",\n",
    "    \"H200S2_Z3/H200S0_Z3\" : \"h200s2s0z3\",\n",
    "    \"H200S2_Z1/H200S1_Z1\" : \"h200s2s1z1\",\n",
    "    \"H200S2_Z3/H200S1_Z3\" : \"h200s2s1z3\",\n",
    "    \"H200S3_Z1/H200S1_Z1\" : \"h200s3s1z1\",\n",
    "    \"H200S3_Z3/H200S1_Z3\" : \"h200s3s1z3\",\n",
    "    \"H200S1_Z1/SIII_Z1\" : \"h200s1siiiz1\",\n",
    "    \"H200S1_Z3/SIII_Z3\" : \"h200s1siiiz3\",\n",
    "    \"H200S2_Z1/SIII_Z1\" : \"h200s2siiiz1\",\n",
    "    \"H200S2_Z3/SIII_Z3\" : \"h200s2siiiz3\",\n",
    "    \"H264Q1_Z1/H210S1_Z1\" : \"h264q110s1z1\",\n",
    "    \"H264Q1_Z3/H210S1_Z3\" : \"h264q110s1z3\"\n",
    "}\n",
    "a = list()\n",
    "b = list()\n",
    "for r in ratiodict:\n",
    "    nd = r.split(\"/\")\n",
    "    if (\"Z3\" in r):\n",
    "        z=3\n",
    "    else:\n",
    "        z=1\n",
    "    b.append((nd[0],nd[1],r,ratiodict[r]+\"web\",z))\n",
    "    a.append(ModelRatioData(nd[0],nd[1],r,ratiodict[r],z))\n",
    "t = Table(rows=b,names=(\"numerator\",\"denominator\",\"label\",\"filename\",\"z\"))\n",
    "t.add_index(\"label\")\n",
    "t.write(\"current_models.tab\",format=\"ascii.ipac\",overwrite=True)\n",
    "\n",
    "df = t.to_pandas()"
   ]
  },
  {
   "cell_type": "code",
   "execution_count": 230,
   "metadata": {},
   "outputs": [],
   "source": [
    "m1 = Measurement(data=30.,uncertainty = StdDevUncertainty(5.),identifier=\"OI_145\")\n",
    "m2 = Measurement(data=10.,uncertainty = StdDevUncertainty(10.),identifier=\"CI_370\")\n",
    "m3 = Measurement(data=500.,uncertainty = StdDevUncertainty(50.),identifier=\"CO_10\")\n",
    "m4 = Measurement(data=100.,uncertainty = StdDevUncertainty(10.),identifier=\"CII_158\")\n",
    "m = [m1.id,m2.id,m3.id,m4.id]"
   ]
  },
  {
   "cell_type": "code",
   "execution_count": 243,
   "metadata": {},
   "outputs": [
    {
     "name": "stdout",
     "output_type": "stream",
     "text": [
      "OI_145/CII_158\n",
      "['OI_145', 'CII_158']\n",
      "CII_158/CO_10\n",
      "['CII_158', 'CO_10']\n"
     ]
    },
    {
     "data": {
      "text/plain": [
       "2"
      ]
     },
     "execution_count": 243,
     "metadata": {},
     "output_type": "execute_result"
    }
   ],
   "source": [
    "p = PDRutils(\"current_models.tab\")\n",
    "m = pd.Series([m1.id,m2.id,m3.id,m4.id])\n",
    "for z in p.find_pairs(m):\n",
    "    print(z)\n",
    "    print(z.split('/'))\n",
    "p.ratiocount(m)"
   ]
  },
  {
   "cell_type": "code",
   "execution_count": 234,
   "metadata": {},
   "outputs": [
    {
     "name": "stdout",
     "output_type": "stream",
     "text": [
      "{'o145ciiweb.fits': [<astropy.io.fits.hdu.image.PrimaryHDU object at 0x7f11086382b0>], 'ciicoweb.fits': [<astropy.io.fits.hdu.image.PrimaryHDU object at 0x7f11086a4ac8>]}\n"
     ]
    }
   ],
   "source": [
    "p.read_fits(m)\n",
    "print(p._fitsfiles)"
   ]
  },
  {
   "cell_type": "code",
   "execution_count": 218,
   "metadata": {},
   "outputs": [
    {
     "name": "stdout",
     "output_type": "stream",
     "text": [
      "304.13812651491094\n",
      "300.0 StdDevUncertainty(304.13812651) OI_145 * CI_370\n"
     ]
    }
   ],
   "source": [
    "q=m1*m2 \n",
    "print(((m1.flux*m2.flux)**2 * ((m1.uncertainty.array/m1.flux)**2 + (m2.uncertainty.array/m2.flux)**2))**0.5)\n",
    "print(q,q.uncertainty,q.id)"
   ]
  },
  {
   "cell_type": "code",
   "execution_count": 205,
   "metadata": {},
   "outputs": [
    {
     "data": {
      "text/plain": [
       "'OI_145 / CI_370'"
      ]
     },
     "execution_count": 205,
     "metadata": {},
     "output_type": "execute_result"
    }
   ],
   "source": [
    "q.id"
   ]
  },
  {
   "cell_type": "code",
   "execution_count": null,
   "metadata": {},
   "outputs": [],
   "source": []
  }
 ],
 "metadata": {
  "kernelspec": {
   "display_name": "Python 3",
   "language": "python",
   "name": "python3"
  },
  "language_info": {
   "codemirror_mode": {
    "name": "ipython",
    "version": 3
   },
   "file_extension": ".py",
   "mimetype": "text/x-python",
   "name": "python",
   "nbconvert_exporter": "python",
   "pygments_lexer": "ipython3",
   "version": "3.6.8"
  }
 },
 "nbformat": 4,
 "nbformat_minor": 2
}
