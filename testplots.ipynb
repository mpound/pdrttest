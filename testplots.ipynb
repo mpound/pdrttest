{
 "cells": [
  {
   "cell_type": "code",
   "execution_count": 2,
   "metadata": {},
   "outputs": [
    {
     "data": {
      "image/png": "[encoded data removed]",
      "text/plain": [
       "<Figure size 576x288 with 2 Axes>"
      ]
     },
     "metadata": {
      "needs_background": "light"
     },
     "output_type": "display_data"
    }
   ],
   "source": [
    "import numpy as np\n",
    "import matplotlib.pyplot as plt\n",
    "%matplotlib inline\n",
    "data = np.arange(30).reshape(5, 6)\n",
    "x = np.linspace(0, 6, 7)\n",
    "y = 10**np.linspace(0, 5, 6)\n",
    "X, Y = np.meshgrid(x, y)\n",
    "\n",
    "fig, (ax1, ax2) = plt.subplots(ncols=2, figsize=(8, 4))\n",
    "\n",
    "ax1.imshow(data, aspect=\"auto\", extent=(0, 6, 1e0, 1e5), interpolation='nearest')\n",
    "ax1.set_yscale('log')\n",
    "ax1.set_title('Using ax.imshow')\n",
    "\n",
    "ax2.pcolormesh(x, y, np.flipud(data))\n",
    "ax2.set_yscale('log')\n",
    "ax2.set_title('Using ax.pcolormesh')\n",
    "ax2.autoscale('tight')\n",
    "\n",
    "plt.show()\n"
   ]
  },
  {
   "cell_type": "code",
   "execution_count": null,
   "metadata": {},
   "outputs": [],
   "source": []
  }
 ],
 "metadata": {
  "kernelspec": {
   "display_name": "Python 3",
   "language": "python",
   "name": "python3"
  },
  "language_info": {
   "codemirror_mode": {
    "name": "ipython",
    "version": 3
   },
   "file_extension": ".py",
   "mimetype": "text/x-python",
   "name": "python",
   "nbconvert_exporter": "python",
   "pygments_lexer": "ipython3",
   "version": "3.6.8"
  }
 },
 "nbformat": 4,
 "nbformat_minor": 2
}
